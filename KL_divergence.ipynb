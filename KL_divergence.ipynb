{
  "nbformat": 4,
  "nbformat_minor": 0,
  "metadata": {
    "colab": {
      "name": "KL_divergence.ipynb",
      "provenance": [],
      "collapsed_sections": [],
      "include_colab_link": true
    },
    "kernelspec": {
      "name": "python3",
      "display_name": "Python 3"
    },
    "accelerator": "GPU"
  },
  "cells": [
    {
      "cell_type": "markdown",
      "metadata": {
        "id": "view-in-github",
        "colab_type": "text"
      },
      "source": [
        "<a href=\"https://colab.research.google.com/github/zctpig/Caltech-UCSD-Birds-200-2011/blob/master/KL_divergence.ipynb\" target=\"_parent\"><img src=\"https://colab.research.google.com/assets/colab-badge.svg\" alt=\"Open In Colab\"/></a>"
      ]
    },
    {
      "cell_type": "markdown",
      "metadata": {
        "id": "e0_q4IGTHQfK",
        "colab_type": "text"
      },
      "source": [
        "# Train Test Split"
      ]
    },
    {
      "cell_type": "code",
      "metadata": {
        "id": "qjYh8ivP_kCO",
        "colab_type": "code",
        "outputId": "6ad8e73b-2b65-4633-cbb2-0c74f1f9e2e8",
        "colab": {
          "base_uri": "https://localhost:8080/",
          "height": 325
        }
      },
      "source": [
        "!pip install scikit-image==0.14.3"
      ],
      "execution_count": 98,
      "outputs": [
        {
          "output_type": "stream",
          "text": [
            "Requirement already satisfied: scikit-image==0.14.3 in /usr/local/lib/python3.6/dist-packages (0.14.3)\n",
            "Requirement already satisfied: scipy>=0.17.0 in /usr/local/lib/python3.6/dist-packages (from scikit-image==0.14.3) (1.3.1)\n",
            "Requirement already satisfied: PyWavelets>=0.4.0 in /usr/local/lib/python3.6/dist-packages (from scikit-image==0.14.3) (1.0.3)\n",
            "Requirement already satisfied: networkx>=1.8 in /usr/local/lib/python3.6/dist-packages (from scikit-image==0.14.3) (2.3)\n",
            "Requirement already satisfied: pillow>=4.3.0 in /usr/local/lib/python3.6/dist-packages (from scikit-image==0.14.3) (4.3.0)\n",
            "Requirement already satisfied: cloudpickle>=0.2.1 in /usr/local/lib/python3.6/dist-packages (from scikit-image==0.14.3) (0.6.1)\n",
            "Requirement already satisfied: matplotlib>=2.0.0 in /usr/local/lib/python3.6/dist-packages (from scikit-image==0.14.3) (3.0.3)\n",
            "Requirement already satisfied: six>=1.10.0 in /usr/local/lib/python3.6/dist-packages (from scikit-image==0.14.3) (1.12.0)\n",
            "Requirement already satisfied: numpy>=1.13.3 in /usr/local/lib/python3.6/dist-packages (from scipy>=0.17.0->scikit-image==0.14.3) (1.16.5)\n",
            "Requirement already satisfied: decorator>=4.3.0 in /usr/local/lib/python3.6/dist-packages (from networkx>=1.8->scikit-image==0.14.3) (4.4.0)\n",
            "Requirement already satisfied: olefile in /usr/local/lib/python3.6/dist-packages (from pillow>=4.3.0->scikit-image==0.14.3) (0.46)\n",
            "Requirement already satisfied: pyparsing!=2.0.4,!=2.1.2,!=2.1.6,>=2.0.1 in /usr/local/lib/python3.6/dist-packages (from matplotlib>=2.0.0->scikit-image==0.14.3) (2.4.2)\n",
            "Requirement already satisfied: python-dateutil>=2.1 in /usr/local/lib/python3.6/dist-packages (from matplotlib>=2.0.0->scikit-image==0.14.3) (2.5.3)\n",
            "Requirement already satisfied: cycler>=0.10 in /usr/local/lib/python3.6/dist-packages (from matplotlib>=2.0.0->scikit-image==0.14.3) (0.10.0)\n",
            "Requirement already satisfied: kiwisolver>=1.0.1 in /usr/local/lib/python3.6/dist-packages (from matplotlib>=2.0.0->scikit-image==0.14.3) (1.1.0)\n",
            "Requirement already satisfied: setuptools in /usr/local/lib/python3.6/dist-packages (from kiwisolver>=1.0.1->matplotlib>=2.0.0->scikit-image==0.14.3) (41.2.0)\n"
          ],
          "name": "stdout"
        }
      ]
    },
    {
      "cell_type": "code",
      "metadata": {
        "id": "AfRuSpY7C4cd",
        "colab_type": "code",
        "outputId": "ac565349-925a-47ea-f498-0371487d563f",
        "colab": {
          "base_uri": "https://localhost:8080/",
          "height": 35
        }
      },
      "source": [
        "import skimage\n",
        "print(skimage.__version__)"
      ],
      "execution_count": 99,
      "outputs": [
        {
          "output_type": "stream",
          "text": [
            "0.14.3\n"
          ],
          "name": "stdout"
        }
      ]
    },
    {
      "cell_type": "code",
      "metadata": {
        "id": "fi2DHVMg-tX2",
        "colab_type": "code",
        "outputId": "3b047aa2-795b-4a83-8b02-55693796cae9",
        "colab": {
          "base_uri": "https://localhost:8080/",
          "height": 215
        }
      },
      "source": [
        "!wget --no-check-certificate \\\n",
        "    http://www.vision.caltech.edu/visipedia-data/CUB-200-2011/CUB_200_2011.tgz \\\n",
        "    -O /tmp/cats_and_dogs_filtered.zip"
      ],
      "execution_count": 100,
      "outputs": [
        {
          "output_type": "stream",
          "text": [
            "--2019-09-29 15:31:14--  http://www.vision.caltech.edu/visipedia-data/CUB-200-2011/CUB_200_2011.tgz\n",
            "Resolving www.vision.caltech.edu (www.vision.caltech.edu)... 34.208.54.77\n",
            "Connecting to www.vision.caltech.edu (www.vision.caltech.edu)|34.208.54.77|:80... connected.\n",
            "HTTP request sent, awaiting response... 200 OK\n",
            "Length: 1150585339 (1.1G) [application/x-tar]\n",
            "Saving to: ‘/tmp/cats_and_dogs_filtered.zip’\n",
            "\n",
            "/tmp/cats_and_dogs_ 100%[===================>]   1.07G  7.34MB/s    in 2m 42s  \n",
            "\n",
            "2019-09-29 15:33:56 (6.77 MB/s) - ‘/tmp/cats_and_dogs_filtered.zip’ saved [1150585339/1150585339]\n",
            "\n"
          ],
          "name": "stdout"
        }
      ]
    },
    {
      "cell_type": "code",
      "metadata": {
        "id": "ApYpsDvl_ipg",
        "colab_type": "code",
        "colab": {}
      },
      "source": [
        "!tar -zxf /tmp/cats_and_dogs_filtered.zip -C /tmp/"
      ],
      "execution_count": 0,
      "outputs": []
    },
    {
      "cell_type": "code",
      "metadata": {
        "id": "8LolthWeDfCD",
        "colab_type": "code",
        "colab": {}
      },
      "source": [
        "PATH = '/tmp/CUB_200_2011/'"
      ],
      "execution_count": 0,
      "outputs": []
    },
    {
      "cell_type": "code",
      "metadata": {
        "id": "lL8y8GfQAH8x",
        "colab_type": "code",
        "colab": {}
      },
      "source": [
        "read_line = open(PATH + 'train_test_split.txt')"
      ],
      "execution_count": 0,
      "outputs": []
    },
    {
      "cell_type": "code",
      "metadata": {
        "id": "T6MEszS8DqmW",
        "colab_type": "code",
        "colab": {}
      },
      "source": [
        "a = read_line.readlines()"
      ],
      "execution_count": 0,
      "outputs": []
    },
    {
      "cell_type": "code",
      "metadata": {
        "id": "2odUrsLRDtmh",
        "colab_type": "code",
        "outputId": "fd1dbc7f-d169-4e87-a0bd-5e626497b4bf",
        "colab": {
          "base_uri": "https://localhost:8080/",
          "height": 35
        }
      },
      "source": [
        "a[0].split(' ')[1].split('\\n')[0]"
      ],
      "execution_count": 105,
      "outputs": [
        {
          "output_type": "execute_result",
          "data": {
            "text/plain": [
              "'0'"
            ]
          },
          "metadata": {
            "tags": []
          },
          "execution_count": 105
        }
      ]
    },
    {
      "cell_type": "code",
      "metadata": {
        "id": "eBmCyZFyDvIg",
        "colab_type": "code",
        "outputId": "28d0ee94-0e2a-4db0-fd0a-f4c99a72f2da",
        "colab": {
          "base_uri": "https://localhost:8080/",
          "height": 35
        }
      },
      "source": [
        "classes = open(PATH + 'classes.txt')\n",
        "c_names = classes.readlines()\n",
        "len(c_names)"
      ],
      "execution_count": 106,
      "outputs": [
        {
          "output_type": "execute_result",
          "data": {
            "text/plain": [
              "200"
            ]
          },
          "metadata": {
            "tags": []
          },
          "execution_count": 106
        }
      ]
    },
    {
      "cell_type": "code",
      "metadata": {
        "id": "10Nv0jhBDy3G",
        "colab_type": "code",
        "colab": {}
      },
      "source": [
        "for i in range(len(c_names)):\n",
        "  c_names[i] = c_names[i].split(' ')[1]"
      ],
      "execution_count": 0,
      "outputs": []
    },
    {
      "cell_type": "code",
      "metadata": {
        "id": "BZD0ojgOD24r",
        "colab_type": "code",
        "outputId": "159ae8d4-1610-4765-a955-ea810b1b633e",
        "colab": {
          "base_uri": "https://localhost:8080/",
          "height": 35
        }
      },
      "source": [
        "c_names[0].split('\\n')[0]"
      ],
      "execution_count": 108,
      "outputs": [
        {
          "output_type": "execute_result",
          "data": {
            "text/plain": [
              "'001.Black_footed_Albatross'"
            ]
          },
          "metadata": {
            "tags": []
          },
          "execution_count": 108
        }
      ]
    },
    {
      "cell_type": "code",
      "metadata": {
        "id": "39EjP6DtD6jD",
        "colab_type": "code",
        "colab": {}
      },
      "source": [
        "import os\n",
        "for i in range(len(c_names)):\n",
        "    dir_name = PATH + 'test/' + c_names[i].split('\\n')[0]\n",
        "    if not os.path.exists(dir_name):\n",
        "        os.makedirs(dir_name)"
      ],
      "execution_count": 0,
      "outputs": []
    },
    {
      "cell_type": "code",
      "metadata": {
        "id": "5Cqub_7Iqxup",
        "colab_type": "code",
        "colab": {}
      },
      "source": [
        "for i in range(len(c_names)):\n",
        "    dir_name = PATH + 'train/' + c_names[i].split('\\n')[0]\n",
        "    if not os.path.exists(dir_name):\n",
        "        os.makedirs(dir_name)"
      ],
      "execution_count": 0,
      "outputs": []
    },
    {
      "cell_type": "code",
      "metadata": {
        "id": "1MpApmuYFM1d",
        "colab_type": "code",
        "colab": {}
      },
      "source": [
        "import torch\n",
        "from torch import nn, optim\n",
        "from torch.optim import lr_scheduler\n",
        "from torch.autograd import Variable\n",
        "import torchvision\n",
        "import torch.utils.data as data\n",
        "from torchvision import datasets, models, transforms"
      ],
      "execution_count": 0,
      "outputs": []
    },
    {
      "cell_type": "code",
      "metadata": {
        "id": "bV54i10bFUlI",
        "colab_type": "code",
        "colab": {}
      },
      "source": [
        "train_dataset = datasets.ImageFolder(PATH + 'images')"
      ],
      "execution_count": 0,
      "outputs": []
    },
    {
      "cell_type": "code",
      "metadata": {
        "id": "nhIxYBbcFp0_",
        "colab_type": "code",
        "colab": {}
      },
      "source": [
        "from skimage import io"
      ],
      "execution_count": 0,
      "outputs": []
    },
    {
      "cell_type": "code",
      "metadata": {
        "id": "vqDvqf9-Fyvd",
        "colab_type": "code",
        "outputId": "ae93c1ae-7099-43c1-d556-110cb3ccc4bf",
        "colab": {
          "base_uri": "https://localhost:8080/",
          "height": 35
        }
      },
      "source": [
        "print(len(train_dataset.imgs))"
      ],
      "execution_count": 114,
      "outputs": [
        {
          "output_type": "stream",
          "text": [
            "11788\n"
          ],
          "name": "stdout"
        }
      ]
    },
    {
      "cell_type": "code",
      "metadata": {
        "id": "GG0Z5C52FzwJ",
        "colab_type": "code",
        "colab": {}
      },
      "source": [
        "for j in range(len(train_dataset.imgs)):\n",
        "    if(a[j].split(' ')[1].split('\\n')[0] == '0'):\n",
        "        path = train_dataset.imgs[j][0]\n",
        "        img = io.imread(path)\n",
        "        folder = train_dataset.imgs[j][0][9:].split('/')[-2]\n",
        "        img_name = train_dataset.imgs[j][0][9:].split('/')[-1]\n",
        "        io.imsave(PATH + 'test/' + folder + '/' + img_name, img)\n",
        "        os.remove(path)\n",
        "    else:\n",
        "        path = train_dataset.imgs[j][0]\n",
        "        img = io.imread(path)\n",
        "        folder = train_dataset.imgs[j][0][9:].split('/')[-2]\n",
        "        img_name = train_dataset.imgs[j][0][9:].split('/')[-1]\n",
        "        io.imsave(PATH + 'train/' + folder + '/' + img_name, img)\n",
        "        os.remove(path)"
      ],
      "execution_count": 0,
      "outputs": []
    },
    {
      "cell_type": "code",
      "metadata": {
        "id": "IRIhVF82GHEO",
        "colab_type": "code",
        "outputId": "e66b8f84-c593-4453-e5f3-062a0f42c0c0",
        "colab": {
          "base_uri": "https://localhost:8080/",
          "height": 35
        }
      },
      "source": [
        "total = 0\n",
        "for path, dirs, files in os.walk(PATH + 'train'):\n",
        "    total += len(files)\n",
        "print('train images number:', total)"
      ],
      "execution_count": 116,
      "outputs": [
        {
          "output_type": "stream",
          "text": [
            "train images number: 5994\n"
          ],
          "name": "stdout"
        }
      ]
    },
    {
      "cell_type": "code",
      "metadata": {
        "id": "MuVzb2oOGpXZ",
        "colab_type": "code",
        "outputId": "f6954f93-ae56-4976-ff1b-d79e45fe8b0d",
        "colab": {
          "base_uri": "https://localhost:8080/",
          "height": 35
        }
      },
      "source": [
        "total = 0\n",
        "for path, dirs, files in os.walk(PATH + 'test'):\n",
        "    total += len(files)\n",
        "print('test images number:', total)"
      ],
      "execution_count": 117,
      "outputs": [
        {
          "output_type": "stream",
          "text": [
            "test images number: 5794\n"
          ],
          "name": "stdout"
        }
      ]
    },
    {
      "cell_type": "markdown",
      "metadata": {
        "id": "H8ugscLeHT3U",
        "colab_type": "text"
      },
      "source": [
        "# Model"
      ]
    },
    {
      "cell_type": "code",
      "metadata": {
        "id": "9_uSdFrNHDSE",
        "colab_type": "code",
        "colab": {}
      },
      "source": [
        "# here are the necessary imports\n",
        "from __future__ import print_function, division\n",
        "\n",
        "import torch\n",
        "import torch.nn.functional as F\n",
        "import torch.nn as nn\n",
        "import torch.optim as optim\n",
        "from torch.autograd import Variable\n",
        "import numpy as np\n",
        "import torchvision\n",
        "from torchvision import datasets, models, transforms\n",
        "import matplotlib.pyplot as plt\n",
        "import time\n",
        "import os\n",
        "import seaborn as sns\n",
        "plt.ion()"
      ],
      "execution_count": 0,
      "outputs": []
    },
    {
      "cell_type": "code",
      "metadata": {
        "id": "t382Rrz7HYoQ",
        "colab_type": "code",
        "colab": {}
      },
      "source": [
        "# Data augmentation and normalization for training\n",
        "# Just normalization for validation\n",
        "data_transforms = {\n",
        "    'train': transforms.Compose([\n",
        "        transforms.Resize(256),\n",
        "        #transforms.RandomRotation(45),\n",
        "        transforms.RandomResizedCrop(224),\n",
        "        transforms.RandomHorizontalFlip(),\n",
        "        transforms.ToTensor(),\n",
        "        transforms.Normalize([0.485, 0.456, 0.406], [0.229, 0.224, 0.225])\n",
        "    ]),\n",
        "    'test': transforms.Compose([\n",
        "        transforms.Resize(256),\n",
        "        transforms.CenterCrop(224),\n",
        "        transforms.ToTensor(),\n",
        "        transforms.Normalize([0.485, 0.456, 0.406], [0.229, 0.224, 0.225])\n",
        "    ]),\n",
        "}\n",
        "\n",
        "\n",
        "# loading datasets with PyTorch ImageFolder\n",
        "image_datasets = {x: datasets.ImageFolder(os.path.join(PATH, x),\n",
        "                                          data_transforms[x])\n",
        "                  for x in ['train', 'test']}\n",
        "# defining data loaders to load data using image_datasets and transforms, here we also specify batch size for the mini batch\n",
        "dataloders = {x: torch.utils.data.DataLoader(image_datasets[x], batch_size=16,\n",
        "                                             shuffle=True, num_workers=4)\n",
        "              for x in ['train', 'test']}\n",
        "dataset_sizes = {x: len(image_datasets[x]) for x in ['train', 'test']}\n",
        "class_names = image_datasets['train'].classes\n",
        "\n",
        "use_gpu = torch.cuda.is_available()"
      ],
      "execution_count": 0,
      "outputs": []
    },
    {
      "cell_type": "code",
      "metadata": {
        "id": "na5yE-iFHpS3",
        "colab_type": "code",
        "outputId": "f22b1f01-2d61-47da-d161-e96802899d16",
        "colab": {
          "base_uri": "https://localhost:8080/",
          "height": 35
        }
      },
      "source": [
        "dataset_sizes"
      ],
      "execution_count": 120,
      "outputs": [
        {
          "output_type": "execute_result",
          "data": {
            "text/plain": [
              "{'test': 5794, 'train': 5994}"
            ]
          },
          "metadata": {
            "tags": []
          },
          "execution_count": 120
        }
      ]
    },
    {
      "cell_type": "code",
      "metadata": {
        "id": "5EVY_mc0ILiR",
        "colab_type": "code",
        "outputId": "88cb0013-15c8-4e15-862b-0533c22fb103",
        "colab": {
          "base_uri": "https://localhost:8080/",
          "height": 168
        }
      },
      "source": [
        "def imshow(inp, title=None):\n",
        "    \"\"\"Imshow for Tensor.\"\"\"\n",
        "    inp = inp.numpy().transpose((1, 2, 0))\n",
        "    mean = np.array([0.485, 0.456, 0.406])\n",
        "    std = np.array([0.229, 0.224, 0.225])\n",
        "    inp = std * inp + mean\n",
        "    inp = np.clip(inp, 0, 1)\n",
        "    plt.imshow(inp)\n",
        "    if title is not None:\n",
        "        plt.title(title)\n",
        "    plt.pause(0.001)  # pause a bit so that plots are updated\n",
        "\n",
        "\n",
        "# Get a batch of training data\n",
        "inputs, classes = next(iter(dataloders['train']))\n",
        "\n",
        "# Make a grid from batch\n",
        "out = torchvision.utils.make_grid(inputs)\n",
        "\n",
        "imshow(out, title=[class_names[x] for x in classes])"
      ],
      "execution_count": 121,
      "outputs": [
        {
          "output_type": "display_data",
          "data": {
            "image/png": "[encoded data removed]",
            "text/plain": [
              "<Figure size 432x288 with 1 Axes>"
            ]
          },
          "metadata": {
            "tags": []
          }
        }
      ]
    },
    {
      "cell_type": "code",
      "metadata": {
        "id": "IkNX504W5Ilr",
        "colab_type": "code",
        "outputId": "3d1d52d6-4dd4-4cea-b6d6-6ea46d8abf22",
        "colab": {
          "base_uri": "https://localhost:8080/",
          "height": 35
        }
      },
      "source": [
        "from google.colab import drive\n",
        "drive.mount('/gdrive')"
      ],
      "execution_count": 122,
      "outputs": [
        {
          "output_type": "stream",
          "text": [
            "Drive already mounted at /gdrive; to attempt to forcibly remount, call drive.mount(\"/gdrive\", force_remount=True).\n"
          ],
          "name": "stdout"
        }
      ]
    },
    {
      "cell_type": "code",
      "metadata": {
        "id": "BD5QsQai5oyY",
        "colab_type": "code",
        "colab": {}
      },
      "source": [
        "G_DRIVE = '/gdrive/My Drive/'"
      ],
      "execution_count": 0,
      "outputs": []
    },
    {
      "cell_type": "code",
      "metadata": {
        "id": "GF-Z0PuRIPO_",
        "colab_type": "code",
        "colab": {}
      },
      "source": [
        "def train_model(model, criterion, optimizer, scheduler, num_epochs=10):\n",
        "    since = time.time()\n",
        "\n",
        "    best_model_wts = model.state_dict()\n",
        "    best_acc = 0.0\n",
        "\n",
        "    for epoch in range(num_epochs):\n",
        "        print('Epoch {}/{}'.format(epoch, num_epochs - 1))\n",
        "        print('-' * 10)\n",
        "\n",
        "        \n",
        "        # Each epoch has a training and validation phase\n",
        "        for phase in ['train', 'test']:\n",
        "            if phase == 'train':\n",
        "                print(scheduler.get_lr())\n",
        "                model.train(True)  # Set model to training mode\n",
        "            else:\n",
        "                model.train(False)  # Set model to evaluate mode\n",
        "\n",
        "            running_loss = 0.0\n",
        "            running_corrects = 0\n",
        "\n",
        "            # Iterate over data.\n",
        "            for data in dataloders[phase]:\n",
        "                # get the inputs\n",
        "                inputs, labels = data\n",
        "\n",
        "                # wrap them in Variable\n",
        "                if use_gpu:\n",
        "                    inputs = Variable(inputs.cuda())\n",
        "                    labels = Variable(labels.cuda())\n",
        "                else:\n",
        "                    inputs, labels = Variable(inputs), Variable(labels)\n",
        "\n",
        "                # zero the parameter gradients\n",
        "                optimizer.zero_grad()\n",
        "\n",
        "                # forward\n",
        "                outputs = model(inputs)\n",
        "                \n",
        "                _, preds = torch.max(outputs.data, 1)\n",
        "                loss = criterion(outputs, labels)\n",
        "\n",
        "                # backward + optimize only if in training phase\n",
        "                if phase == 'train':\n",
        "                    loss.backward()\n",
        "                    optimizer.step()\n",
        "\n",
        "                # statistics\n",
        "                running_loss += loss.item()\n",
        "                running_corrects += torch.sum(preds == labels.data).item()\n",
        "\n",
        "            epoch_loss = running_loss / dataset_sizes[phase]\n",
        "            epoch_acc = running_corrects / dataset_sizes[phase]\n",
        "\n",
        "            print('{} Loss: {:.4f} Acc: {:.4f}'.format(\n",
        "                phase, epoch_loss, epoch_acc))\n",
        "\n",
        "            # deep copy the model\n",
        "            if phase == 'test' and epoch_acc > best_acc:\n",
        "                best_acc = epoch_acc\n",
        "                best_model_wts = model.state_dict()\n",
        "                state = {'model':model_ft.state_dict(),'optim':optimizer_ft.state_dict()}\n",
        "                torch.save(state, G_DRIVE + 'point_resnet_best.pth')\n",
        "            \n",
        "            if phase == 'train':\n",
        "                scheduler.step()\n",
        "\n",
        "        print()\n",
        "\n",
        "    time_elapsed = time.time() - since\n",
        "    print('Training complete in {:.0f}m {:.0f}s'.format(\n",
        "        time_elapsed // 60, time_elapsed % 60))\n",
        "    print('Best test Acc: {:4f}'.format(best_acc))\n",
        "\n",
        "    # load best model weights\n",
        "    model.load_state_dict(best_model_wts)\n",
        "    return model"
      ],
      "execution_count": 0,
      "outputs": []
    },
    {
      "cell_type": "code",
      "metadata": {
        "id": "7DxzCrRc-FIG",
        "colab_type": "code",
        "colab": {}
      },
      "source": [
        ""
      ],
      "execution_count": 0,
      "outputs": []
    },
    {
      "cell_type": "code",
      "metadata": {
        "id": "OqHSPFFlIW4m",
        "colab_type": "code",
        "colab": {}
      },
      "source": [
        "def visualize_model(model, num_images=8):\n",
        "    images_so_far = 0\n",
        "    fig = plt.figure()\n",
        "    \n",
        "\n",
        "    for i, data in enumerate(dataloders['test']):\n",
        "        inputs, labels = data\n",
        "        #print(labels)\n",
        "        if use_gpu:\n",
        "            inputs, labels = Variable(inputs.cuda()), Variable(labels.cuda())\n",
        "        else:\n",
        "            inputs, labels = Variable(inputs), Variable(labels)\n",
        "        #print(labels)\n",
        "        #_, lab = torch.max(labels.data, 1)\n",
        "        outputs = model(inputs)\n",
        "        #print(outputs)\n",
        "        _, preds = torch.max(outputs.data, 1)\n",
        "        #print(preds)\n",
        "\n",
        "        for j in range(inputs.size()[0]):\n",
        "            images_so_far += 1\n",
        "            ax = plt.subplot(num_images//2, 2, images_so_far)\n",
        "            ax.axis('off')\n",
        "            ax.set_title('class: {} predicted: {}'.format(class_names[labels.data[j]], class_names[preds[j]]))\n",
        "            imshow(inputs.cpu().data[j])\n",
        "\n",
        "            if images_so_far == num_images:\n",
        "                return"
      ],
      "execution_count": 0,
      "outputs": []
    },
    {
      "cell_type": "code",
      "metadata": {
        "id": "ddyPzeAjfbZx",
        "colab_type": "code",
        "colab": {}
      },
      "source": [
        "class StemCNN(nn.Module):\n",
        "\n",
        "    def __init__(self,pretrained=True):\n",
        "        super().__init__()\n",
        "        self.net = torchvision.models.resnet50(pretrained=pretrained)\n",
        "\n",
        "    def forward(self, x):\n",
        "        x = self.net.conv1(x)\n",
        "        x = self.net.bn1(x)\n",
        "        x = self.net.relu(x)\n",
        "        x = self.net.maxpool(x)\n",
        "\n",
        "        x = self.net.layer1(x)\n",
        "        x = self.net.layer2(x)\n",
        "        x = self.net.layer3(x)\n",
        "        return x\n",
        "\n",
        "\n",
        "class SubNet(nn.Module):\n",
        "\n",
        "    def __init__(self,pretrained=True):\n",
        "        super().__init__()\n",
        "        self.block = torchvision.models.resnet50(pretrained=True).layer4\n",
        "        self.avgpool = nn.AdaptiveAvgPool2d((1, 1))\n",
        "\n",
        "    # output:1,2048\n",
        "    def forward(self, x):\n",
        "        x = self.block(x)\n",
        "        x = self.avgpool(x)\n",
        "        x = x.reshape(x.size(0), -1)\n",
        "        return x\n",
        "\n",
        "\n",
        "class RefinedModel(nn.Module):\n",
        "\n",
        "    def __init__(self, class_num=1000):\n",
        "        super().__init__()\n",
        "        self.stem_cnn = StemCNN()\n",
        "        self.subnet1 = SubNet()\n",
        "        self.subnet2 = SubNet()\n",
        "        self.fc = nn.Linear(4096, class_num)\n",
        "\n",
        "    def forward(self, x):\n",
        "        x = self.stem_cnn(x)\n",
        "        feature1, feature2 = self.subnet1(x), self.subnet2(x)\n",
        "        x = torch.cat((feature1, feature2), 1)\n",
        "        x = self.fc(x)\n",
        "        return x, feature1, feature2\n",
        "\n",
        "class BaseModel(nn.Module):\n",
        "\n",
        "    def __init__(self, class_num=1000):\n",
        "        super().__init__()\n",
        "        self.stem_cnn = StemCNN()\n",
        "        self.subnet1 = SubNet()\n",
        "        self.fc = nn.Linear(2048, class_num)\n",
        "\n",
        "    def forward(self, x):\n",
        "        x = self.stem_cnn(x)\n",
        "        x = self.subnet1(x)\n",
        "        x = self.fc(x)\n",
        "        return x\n"
      ],
      "execution_count": 0,
      "outputs": []
    },
    {
      "cell_type": "code",
      "metadata": {
        "id": "Nv73Z2exfcUS",
        "colab_type": "code",
        "colab": {}
      },
      "source": [
        "def train_refined_model(model, criterion, optimizer, scheduler, dataloaders, dataset_sizes, save_dir, num_epochs=10, use_gpu=True):\n",
        "    \"\"\"\n",
        "\n",
        "    :param dataset_sizes:\n",
        "    :param save_dir: dir to save model\n",
        "    :param model:\n",
        "    :param criterion:\n",
        "    :param optimizer:\n",
        "    :param scheduler:\n",
        "    :param dataloaders:\n",
        "    :param num_epochs:\n",
        "    :param use_gpu:\n",
        "    :return:\n",
        "    \"\"\"\n",
        "    since = time.time()\n",
        "\n",
        "    best_model_wts = model.state_dict()\n",
        "    best_acc = 0.0\n",
        "\n",
        "    kldiv_loss_func = nn.KLDivLoss(reduction='sum')\n",
        "\n",
        "    for epoch in range(num_epochs):\n",
        "        print('Epoch {}/{}'.format(epoch, num_epochs - 1))\n",
        "        print('-' * 10)\n",
        "\n",
        "        # Each epoch has a training and validation phase\n",
        "        for phase in ['train', 'test']:\n",
        "            if phase == 'train':\n",
        "                print(scheduler.get_lr())\n",
        "                model.train(True)  # Set model to training mode\n",
        "            else:\n",
        "                model.train(False)  # Set model to evaluate mode\n",
        "\n",
        "            running_loss = 0.0\n",
        "            running_corrects = 0\n",
        "\n",
        "            # Iterate over data.\n",
        "            for data in dataloaders[phase]:\n",
        "                # get the inputs\n",
        "                inputs, labels = data\n",
        "\n",
        "                # wrap them in Variable\n",
        "                if use_gpu:\n",
        "                    inputs = inputs.cuda()\n",
        "                    labels = labels.cuda()\n",
        "                else:\n",
        "                    inputs, labels = inputs, labels\n",
        "\n",
        "                # zero the parameter gradients\n",
        "                optimizer.zero_grad()\n",
        "\n",
        "                # forward\n",
        "                feature, feature_1, feature_2 = model(inputs)\n",
        "                ce_loss = criterion(feature, labels)\n",
        "                _, preds = torch.max(feature.data, 1)\n",
        "                #print(\"##########\")\n",
        "                #print('pre_feature1:',feature1)\n",
        "                feature1 = F.softmax(feature_1,1)\n",
        "                #log_feature1 = F.log_softmax(feature_1,1)\n",
        "                #print('post_feature1:', feature1)\n",
        "                feature2 = F.softmax(feature_2,1)\n",
        "                #log_feature2 = F.log_softmax(feature_2,1)\n",
        "                kl_loss = (1-(kldiv_loss_func(feature1.log(), feature2) + kldiv_loss_func(feature2.log(), feature1))/2)*0.001\n",
        "                \n",
        "                loss = ce_loss+kl_loss\n",
        "                \n",
        "                #print('loss:',loss)\n",
        "                #print('kl_loss:',kl_loss)\n",
        "                #print('ce_loss:',ce_loss)\n",
        "                # backward + optimize only if in training phase\n",
        "                if phase == 'train':\n",
        "                    loss.backward()\n",
        "                    optimizer.step()\n",
        "\n",
        "                # statistics\n",
        "                running_loss += loss.item()\n",
        "                running_corrects += torch.sum(preds == labels.data).item()\n",
        "\n",
        "            epoch_loss = running_loss / dataset_sizes[phase]\n",
        "            epoch_acc = running_corrects / dataset_sizes[phase]\n",
        "\n",
        "            print('{} Loss: {:.4f} Acc: {:.4f}'.format(\n",
        "                phase, epoch_loss, epoch_acc))\n",
        "\n",
        "            # deep copy the model\n",
        "            if phase == 'test' and epoch_acc > best_acc:\n",
        "                best_acc = epoch_acc\n",
        "                best_model_wts = model.state_dict()\n",
        "                state = {'model': model.state_dict(), 'optim': optimizer.state_dict()}\n",
        "                torch.save(state, save_dir + 'point_resnet_best.pth')\n",
        "\n",
        "            if phase == 'train':\n",
        "                scheduler.step()\n",
        "\n",
        "        print()\n",
        "\n",
        "    time_elapsed = time.time() - since\n",
        "    print('Training complete in {:.0f}m {:.0f}s'.format(\n",
        "        time_elapsed // 60, time_elapsed % 60))\n",
        "    print('Best test Acc: {:4f}'.format(best_acc))\n",
        "\n",
        "    # load best model weights\n",
        "    model.load_state_dict(best_model_wts)\n",
        "    return model\n"
      ],
      "execution_count": 0,
      "outputs": []
    },
    {
      "cell_type": "code",
      "metadata": {
        "id": "ATZ5WnGufkZU",
        "colab_type": "code",
        "colab": {}
      },
      "source": [
        "refined_model= RefinedModel(class_num=200)\n",
        "refined_model = refined_model.cuda()"
      ],
      "execution_count": 0,
      "outputs": []
    },
    {
      "cell_type": "code",
      "metadata": {
        "id": "gvEsxc6PgFkU",
        "colab_type": "code",
        "outputId": "d5898682-ec1e-4403-a69e-1d1c092cccab",
        "colab": {
          "base_uri": "https://localhost:8080/",
          "height": 35
        }
      },
      "source": [
        "x = torch.randn(1,3,256,256).cuda()\n",
        "refined_model(x)[0].shape"
      ],
      "execution_count": 130,
      "outputs": [
        {
          "output_type": "execute_result",
          "data": {
            "text/plain": [
              "torch.Size([1, 200])"
            ]
          },
          "metadata": {
            "tags": []
          },
          "execution_count": 130
        }
      ]
    },
    {
      "cell_type": "code",
      "metadata": {
        "id": "-GgTkO3Cfv6u",
        "colab_type": "code",
        "colab": {}
      },
      "source": [
        "criterion = nn.CrossEntropyLoss()           # defining loss function\n",
        "# Observe that all parameters are being optimized\n",
        "optimizer_ft = optim.SGD(refined_model.parameters(), lr=0.01, momentum=0.9)\n",
        "# optimizer_ft = optim.Adam(model_ft.parameters())\n",
        "scheduler = torch.optim.lr_scheduler.StepLR(optimizer_ft, 30, gamma=0.1, last_epoch=-1)"
      ],
      "execution_count": 0,
      "outputs": []
    },
    {
      "cell_type": "code",
      "metadata": {
        "id": "zGEPCKsRgcYq",
        "colab_type": "code",
        "outputId": "6fe253c2-7ed9-412e-ffb1-9677c02e5a5d",
        "colab": {
          "base_uri": "https://localhost:8080/",
          "height": 1000
        }
      },
      "source": [
        "refined_model = train_refined_model(refined_model, criterion, optimizer_ft, scheduler,dataloders,dataset_sizes,G_DRIVE, num_epochs=70)"
      ],
      "execution_count": 132,
      "outputs": [
        {
          "output_type": "stream",
          "text": [
            "Epoch 0/69\n",
            "----------\n",
            "[0.01]\n",
            "train Loss: 0.2903 Acc: 0.0751\n",
            "test Loss: 0.2388 Acc: 0.1628\n",
            "\n",
            "Epoch 1/69\n",
            "----------\n",
            "[0.01]\n",
            "train Loss: 0.2097 Acc: 0.2209\n",
            "test Loss: 0.1816 Acc: 0.2936\n",
            "\n",
            "Epoch 2/69\n",
            "----------\n",
            "[0.01]\n",
            "train Loss: 0.1718 Acc: 0.3288\n",
            "test Loss: 0.1425 Acc: 0.4304\n",
            "\n",
            "Epoch 3/69\n",
            "----------\n",
            "[0.01]\n",
            "train Loss: 0.1552 Acc: 0.3892\n",
            "test Loss: 0.1473 Acc: 0.4206\n",
            "\n",
            "Epoch 4/69\n",
            "----------\n",
            "[0.01]\n",
            "train Loss: 0.1387 Acc: 0.4459\n",
            "test Loss: 0.1246 Acc: 0.5045\n",
            "\n",
            "Epoch 5/69\n",
            "----------\n",
            "[0.01]\n",
            "train Loss: 0.1249 Acc: 0.4897\n",
            "test Loss: 0.1289 Acc: 0.5198\n",
            "\n",
            "Epoch 6/69\n",
            "----------\n",
            "[0.01]\n",
            "train Loss: 0.1194 Acc: 0.5052\n",
            "test Loss: 0.1105 Acc: 0.5597\n",
            "\n",
            "Epoch 7/69\n",
            "----------\n",
            "[0.01]\n",
            "train Loss: 0.1139 Acc: 0.5325\n",
            "test Loss: 0.1135 Acc: 0.5482\n",
            "\n",
            "Epoch 8/69\n",
            "----------\n",
            "[0.01]\n",
            "train Loss: 0.1046 Acc: 0.5692\n",
            "test Loss: 0.1115 Acc: 0.5782\n",
            "\n",
            "Epoch 9/69\n",
            "----------\n",
            "[0.01]\n",
            "train Loss: 0.1006 Acc: 0.5829\n",
            "test Loss: 0.0990 Acc: 0.6227\n",
            "\n",
            "Epoch 10/69\n",
            "----------\n",
            "[0.01]\n",
            "train Loss: 0.0977 Acc: 0.5971\n",
            "test Loss: 0.0975 Acc: 0.6234\n",
            "\n",
            "Epoch 11/69\n",
            "----------\n",
            "[0.01]\n",
            "train Loss: 0.0909 Acc: 0.6253\n",
            "test Loss: 0.1011 Acc: 0.6162\n",
            "\n",
            "Epoch 12/69\n",
            "----------\n",
            "[0.01]\n",
            "train Loss: 0.0883 Acc: 0.6335\n",
            "test Loss: 0.0877 Acc: 0.6477\n",
            "\n",
            "Epoch 13/69\n",
            "----------\n",
            "[0.01]\n",
            "train Loss: 0.0833 Acc: 0.6540\n",
            "test Loss: 0.0937 Acc: 0.6546\n",
            "\n",
            "Epoch 14/69\n",
            "----------\n",
            "[0.01]\n",
            "train Loss: 0.0801 Acc: 0.6635\n",
            "test Loss: 0.0849 Acc: 0.6816\n",
            "\n",
            "Epoch 15/69\n",
            "----------\n",
            "[0.01]\n",
            "train Loss: 0.0761 Acc: 0.6777\n",
            "test Loss: 0.0931 Acc: 0.6550\n",
            "\n",
            "Epoch 16/69\n",
            "----------\n",
            "[0.01]\n",
            "train Loss: 0.0742 Acc: 0.6864\n",
            "test Loss: 0.0920 Acc: 0.6709\n",
            "\n",
            "Epoch 17/69\n",
            "----------\n",
            "[0.01]\n",
            "train Loss: 0.0699 Acc: 0.7067\n",
            "test Loss: 0.0867 Acc: 0.6602\n",
            "\n",
            "Epoch 18/69\n",
            "----------\n",
            "[0.01]\n",
            "train Loss: 0.0697 Acc: 0.7087\n",
            "test Loss: 0.1028 Acc: 0.6322\n",
            "\n",
            "Epoch 19/69\n",
            "----------\n",
            "[0.01]\n",
            "train Loss: 0.0667 Acc: 0.7204\n",
            "test Loss: 0.0837 Acc: 0.6990\n",
            "\n",
            "Epoch 20/69\n",
            "----------\n",
            "[0.01]\n",
            "train Loss: 0.0655 Acc: 0.7189\n",
            "test Loss: 0.0822 Acc: 0.6931\n",
            "\n",
            "Epoch 21/69\n",
            "----------\n",
            "[0.01]\n",
            "train Loss: 0.0632 Acc: 0.7331\n",
            "test Loss: 0.0869 Acc: 0.6850\n",
            "\n",
            "Epoch 22/69\n",
            "----------\n",
            "[0.01]\n",
            "train Loss: 0.0610 Acc: 0.7391\n",
            "test Loss: 0.0855 Acc: 0.6852\n",
            "\n",
            "Epoch 23/69\n",
            "----------\n",
            "[0.01]\n",
            "train Loss: 0.0591 Acc: 0.7501\n",
            "test Loss: 0.0917 Acc: 0.6881\n",
            "\n",
            "Epoch 24/69\n",
            "----------\n",
            "[0.01]\n",
            "train Loss: 0.0581 Acc: 0.7583\n",
            "test Loss: 0.0837 Acc: 0.7028\n",
            "\n",
            "Epoch 25/69\n",
            "----------\n",
            "[0.01]\n",
            "train Loss: 0.0585 Acc: 0.7578\n",
            "test Loss: 0.0850 Acc: 0.6949\n",
            "\n",
            "Epoch 26/69\n",
            "----------\n",
            "[0.01]\n",
            "train Loss: 0.0573 Acc: 0.7574\n",
            "test Loss: 0.0919 Acc: 0.6836\n",
            "\n",
            "Epoch 27/69\n",
            "----------\n",
            "[0.01]\n",
            "train Loss: 0.0537 Acc: 0.7731\n",
            "test Loss: 0.0815 Acc: 0.7071\n",
            "\n",
            "Epoch 28/69\n",
            "----------\n",
            "[0.01]\n",
            "train Loss: 0.0528 Acc: 0.7796\n",
            "test Loss: 0.0803 Acc: 0.7056\n",
            "\n",
            "Epoch 29/69\n",
            "----------\n",
            "[0.01]\n",
            "train Loss: 0.0486 Acc: 0.7938\n",
            "test Loss: 0.0852 Acc: 0.7023\n",
            "\n",
            "Epoch 30/69\n",
            "----------\n",
            "[0.0001]\n",
            "train Loss: 0.0391 Acc: 0.8388\n",
            "test Loss: 0.0674 Acc: 0.7575\n",
            "\n",
            "Epoch 31/69\n",
            "----------\n",
            "[0.001]\n",
            "train Loss: 0.0341 Acc: 0.8640\n",
            "test Loss: 0.0686 Acc: 0.7623\n",
            "\n",
            "Epoch 32/69\n",
            "----------\n",
            "[0.001]\n",
            "train Loss: 0.0342 Acc: 0.8660\n",
            "test Loss: 0.0655 Acc: 0.7717\n",
            "\n",
            "Epoch 33/69\n",
            "----------\n",
            "[0.001]\n",
            "train Loss: 0.0322 Acc: 0.8724\n",
            "test Loss: 0.0655 Acc: 0.7718\n",
            "\n",
            "Epoch 34/69\n",
            "----------\n",
            "[0.001]\n",
            "train Loss: 0.0302 Acc: 0.8799\n",
            "test Loss: 0.0651 Acc: 0.7767\n",
            "\n",
            "Epoch 35/69\n",
            "----------\n",
            "[0.001]\n",
            "train Loss: 0.0292 Acc: 0.8837\n",
            "test Loss: 0.0643 Acc: 0.7770\n",
            "\n",
            "Epoch 36/69\n",
            "----------\n",
            "[0.001]\n",
            "train Loss: 0.0303 Acc: 0.8815\n",
            "test Loss: 0.0658 Acc: 0.7730\n",
            "\n",
            "Epoch 37/69\n",
            "----------\n",
            "[0.001]\n",
            "train Loss: 0.0298 Acc: 0.8846\n",
            "test Loss: 0.0662 Acc: 0.7765\n",
            "\n",
            "Epoch 38/69\n",
            "----------\n",
            "[0.001]\n",
            "train Loss: 0.0287 Acc: 0.8869\n",
            "test Loss: 0.0654 Acc: 0.7808\n",
            "\n",
            "Epoch 39/69\n",
            "----------\n",
            "[0.001]\n",
            "train Loss: 0.0280 Acc: 0.8907\n",
            "test Loss: 0.0681 Acc: 0.7732\n",
            "\n",
            "Epoch 40/69\n",
            "----------\n",
            "[0.001]\n",
            "train Loss: 0.0284 Acc: 0.8892\n",
            "test Loss: 0.0677 Acc: 0.7755\n",
            "\n",
            "Epoch 41/69\n",
            "----------\n",
            "[0.001]\n",
            "train Loss: 0.0282 Acc: 0.8899\n",
            "test Loss: 0.0688 Acc: 0.7770\n",
            "\n",
            "Epoch 42/69\n",
            "----------\n",
            "[0.001]\n",
            "train Loss: 0.0258 Acc: 0.9011\n",
            "test Loss: 0.0659 Acc: 0.7761\n",
            "\n",
            "Epoch 43/69\n",
            "----------\n",
            "[0.001]\n",
            "train Loss: 0.0262 Acc: 0.8947\n",
            "test Loss: 0.0703 Acc: 0.7706\n",
            "\n",
            "Epoch 44/69\n",
            "----------\n",
            "[0.001]\n",
            "train Loss: 0.0278 Acc: 0.8894\n",
            "test Loss: 0.0686 Acc: 0.7729\n",
            "\n",
            "Epoch 45/69\n",
            "----------\n",
            "[0.001]\n",
            "train Loss: 0.0260 Acc: 0.8981\n",
            "test Loss: 0.0706 Acc: 0.7715\n",
            "\n",
            "Epoch 46/69\n",
            "----------\n",
            "[0.001]\n",
            "train Loss: 0.0258 Acc: 0.8966\n",
            "test Loss: 0.0698 Acc: 0.7692\n",
            "\n",
            "Epoch 47/69\n",
            "----------\n",
            "[0.001]\n",
            "train Loss: 0.0268 Acc: 0.8934\n",
            "test Loss: 0.0691 Acc: 0.7715\n",
            "\n",
            "Epoch 48/69\n",
            "----------\n",
            "[0.001]\n",
            "train Loss: 0.0266 Acc: 0.8959\n",
            "test Loss: 0.0696 Acc: 0.7761\n",
            "\n",
            "Epoch 49/69\n",
            "----------\n",
            "[0.001]\n",
            "train Loss: 0.0255 Acc: 0.9014\n",
            "test Loss: 0.0696 Acc: 0.7746\n",
            "\n",
            "Epoch 50/69\n",
            "----------\n",
            "[0.001]\n",
            "train Loss: 0.0254 Acc: 0.8964\n",
            "test Loss: 0.0690 Acc: 0.7739\n",
            "\n",
            "Epoch 51/69\n",
            "----------\n",
            "[0.001]\n",
            "train Loss: 0.0261 Acc: 0.8959\n",
            "test Loss: 0.0700 Acc: 0.7742\n",
            "\n",
            "Epoch 52/69\n",
            "----------\n",
            "[0.001]\n",
            "train Loss: 0.0264 Acc: 0.8941\n",
            "test Loss: 0.0710 Acc: 0.7705\n",
            "\n",
            "Epoch 53/69\n",
            "----------\n",
            "[0.001]\n",
            "train Loss: 0.0259 Acc: 0.8961\n",
            "test Loss: 0.0679 Acc: 0.7761\n",
            "\n",
            "Epoch 54/69\n",
            "----------\n",
            "[0.001]\n",
            "train Loss: 0.0239 Acc: 0.9039\n",
            "test Loss: 0.0701 Acc: 0.7718\n",
            "\n",
            "Epoch 55/69\n",
            "----------\n",
            "[0.001]\n",
            "train Loss: 0.0240 Acc: 0.9026\n",
            "test Loss: 0.0704 Acc: 0.7739\n",
            "\n",
            "Epoch 56/69\n",
            "----------\n",
            "[0.001]\n",
            "train Loss: 0.0249 Acc: 0.9029\n",
            "test Loss: 0.0703 Acc: 0.7748\n",
            "\n",
            "Epoch 57/69\n",
            "----------\n",
            "[0.001]\n",
            "train Loss: 0.0241 Acc: 0.9051\n",
            "test Loss: 0.0707 Acc: 0.7708\n",
            "\n",
            "Epoch 58/69\n",
            "----------\n",
            "[0.001]\n",
            "train Loss: 0.0234 Acc: 0.9067\n",
            "test Loss: 0.0703 Acc: 0.7694\n",
            "\n",
            "Epoch 59/69\n",
            "----------\n",
            "[0.001]\n",
            "train Loss: 0.0255 Acc: 0.8997\n",
            "test Loss: 0.0704 Acc: 0.7734\n",
            "\n",
            "Epoch 60/69\n",
            "----------\n",
            "[1e-05]\n",
            "train Loss: 0.0234 Acc: 0.9036\n",
            "test Loss: 0.0710 Acc: 0.7736\n",
            "\n",
            "Epoch 61/69\n",
            "----------\n",
            "[0.0001]\n",
            "train Loss: 0.0235 Acc: 0.9074\n",
            "test Loss: 0.0723 Acc: 0.7699\n",
            "\n",
            "Epoch 62/69\n",
            "----------\n",
            "[0.0001]\n",
            "train Loss: 0.0237 Acc: 0.9062\n",
            "test Loss: 0.0711 Acc: 0.7711\n",
            "\n",
            "Epoch 63/69\n",
            "----------\n",
            "[0.0001]\n",
            "train Loss: 0.0237 Acc: 0.9077\n",
            "test Loss: 0.0704 Acc: 0.7706\n",
            "\n",
            "Epoch 64/69\n",
            "----------\n",
            "[0.0001]\n",
            "train Loss: 0.0218 Acc: 0.9161\n",
            "test Loss: 0.0692 Acc: 0.7744\n",
            "\n",
            "Epoch 65/69\n",
            "----------\n",
            "[0.0001]\n",
            "train Loss: 0.0224 Acc: 0.9112\n",
            "test Loss: 0.0698 Acc: 0.7734\n",
            "\n",
            "Epoch 66/69\n",
            "----------\n",
            "[0.0001]\n",
            "train Loss: 0.0240 Acc: 0.9056\n",
            "test Loss: 0.0691 Acc: 0.7724\n",
            "\n",
            "Epoch 67/69\n",
            "----------\n",
            "[0.0001]\n",
            "train Loss: 0.0219 Acc: 0.9149\n",
            "test Loss: 0.0698 Acc: 0.7789\n",
            "\n",
            "Epoch 68/69\n",
            "----------\n",
            "[0.0001]\n",
            "train Loss: 0.0231 Acc: 0.9087\n",
            "test Loss: 0.0706 Acc: 0.7741\n",
            "\n",
            "Epoch 69/69\n",
            "----------\n",
            "[0.0001]\n",
            "train Loss: 0.0230 Acc: 0.9114\n",
            "test Loss: 0.0712 Acc: 0.7789\n",
            "\n",
            "Training complete in 127m 55s\n",
            "Best test Acc: 0.780808\n"
          ],
          "name": "stdout"
        }
      ]
    },
    {
      "cell_type": "code",
      "metadata": {
        "id": "FJJTyYNGItzk",
        "colab_type": "code",
        "colab": {}
      },
      "source": [
        " model_ft = models.resnet50(pretrained=True) # loading a pre-trained(trained on image net) resnet18 model from torchvision models\n",
        "num_ftrs = model_ft.fc.in_features\n",
        "model_ft.fc = nn.Linear(num_ftrs, 200)      # changing the last layer for this dataset by setting last layer neurons to 200 as this dataset has 200 categories\n",
        " \n",
        "if use_gpu:                                 # if gpu is available then use it\n",
        "    model_ft = model_ft.cuda()       \n",
        "# model_ft = model_ft.float()\n",
        "criterion = nn.CrossEntropyLoss()           # defining loss function\n",
        "\n",
        "# Observe that all parameters are being optimized\n",
        "optimizer_ft = optim.SGD(model_ft.parameters(), lr=0.01, momentum=0.9)\n",
        "# optimizer_ft = optim.Adam(model_ft.parameters())"
      ],
      "execution_count": 0,
      "outputs": []
    },
    {
      "cell_type": "code",
      "metadata": {
        "id": "GfghLbwsunYh",
        "colab_type": "code",
        "outputId": "02a51f26-7c50-497a-bee9-aa18b3d46238",
        "colab": {
          "base_uri": "https://localhost:8080/",
          "height": 425
        }
      },
      "source": [
        "if os.path.exists(G_DRIVE + 'point_resnet_best.pth'):\n",
        "    checkpoint = torch.load(G_DRIVE + 'point_resnet_best.pth')\n",
        "    model_ft.load_state_dict(checkpoint['model'])\n",
        "    optimizer_ft.load_state_dict(checkpoint['optim'])"
      ],
      "execution_count": 134,
      "outputs": [
        {
          "output_type": "error",
          "ename": "RuntimeError",
          "evalue": "ignored",
          "traceback": [
            "\u001b[0;31m---------------------------------------------------------------------------\u001b[0m",
            "\u001b[0;31mRuntimeError\u001b[0m                              Traceback (most recent call last)",
            "\u001b[0;32m<ipython-input-134-d625316c2cc3>\u001b[0m in \u001b[0;36m<module>\u001b[0;34m()\u001b[0m\n\u001b[1;32m      1\u001b[0m \u001b[0;32mif\u001b[0m \u001b[0mos\u001b[0m\u001b[0;34m.\u001b[0m\u001b[0mpath\u001b[0m\u001b[0;34m.\u001b[0m\u001b[0mexists\u001b[0m\u001b[0;34m(\u001b[0m\u001b[0mG_DRIVE\u001b[0m \u001b[0;34m+\u001b[0m \u001b[0;34m'point_resnet_best.pth'\u001b[0m\u001b[0;34m)\u001b[0m\u001b[0;34m:\u001b[0m\u001b[0;34m\u001b[0m\u001b[0;34m\u001b[0m\u001b[0m\n\u001b[1;32m      2\u001b[0m     \u001b[0mcheckpoint\u001b[0m \u001b[0;34m=\u001b[0m \u001b[0mtorch\u001b[0m\u001b[0;34m.\u001b[0m\u001b[0mload\u001b[0m\u001b[0;34m(\u001b[0m\u001b[0mG_DRIVE\u001b[0m \u001b[0;34m+\u001b[0m \u001b[0;34m'point_resnet_best.pth'\u001b[0m\u001b[0;34m)\u001b[0m\u001b[0;34m\u001b[0m\u001b[0;34m\u001b[0m\u001b[0m\n\u001b[0;32m----> 3\u001b[0;31m     \u001b[0mmodel_ft\u001b[0m\u001b[0;34m.\u001b[0m\u001b[0mload_state_dict\u001b[0m\u001b[0;34m(\u001b[0m\u001b[0mcheckpoint\u001b[0m\u001b[0;34m[\u001b[0m\u001b[0;34m'model'\u001b[0m\u001b[0;34m]\u001b[0m\u001b[0;34m)\u001b[0m\u001b[0;34m\u001b[0m\u001b[0;34m\u001b[0m\u001b[0m\n\u001b[0m\u001b[1;32m      4\u001b[0m     \u001b[0moptimizer_ft\u001b[0m\u001b[0;34m.\u001b[0m\u001b[0mload_state_dict\u001b[0m\u001b[0;34m(\u001b[0m\u001b[0mcheckpoint\u001b[0m\u001b[0;34m[\u001b[0m\u001b[0;34m'optim'\u001b[0m\u001b[0;34m]\u001b[0m\u001b[0;34m)\u001b[0m\u001b[0;34m\u001b[0m\u001b[0;34m\u001b[0m\u001b[0m\n",
            "\u001b[0;32m/usr/local/lib/python3.6/dist-packages/torch/nn/modules/module.py\u001b[0m in \u001b[0;36mload_state_dict\u001b[0;34m(self, state_dict, strict)\u001b[0m\n\u001b[1;32m    775\u001b[0m         \u001b[0;32mif\u001b[0m \u001b[0mlen\u001b[0m\u001b[0;34m(\u001b[0m\u001b[0merror_msgs\u001b[0m\u001b[0;34m)\u001b[0m \u001b[0;34m>\u001b[0m \u001b[0;36m0\u001b[0m\u001b[0;34m:\u001b[0m\u001b[0;34m\u001b[0m\u001b[0;34m\u001b[0m\u001b[0m\n\u001b[1;32m    776\u001b[0m             raise RuntimeError('Error(s) in loading state_dict for {}:\\n\\t{}'.format(\n\u001b[0;32m--> 777\u001b[0;31m                                self.__class__.__name__, \"\\n\\t\".join(error_msgs)))\n\u001b[0m\u001b[1;32m    778\u001b[0m         \u001b[0;32mreturn\u001b[0m \u001b[0m_IncompatibleKeys\u001b[0m\u001b[0;34m(\u001b[0m\u001b[0mmissing_keys\u001b[0m\u001b[0;34m,\u001b[0m \u001b[0munexpected_keys\u001b[0m\u001b[0;34m)\u001b[0m\u001b[0;34m\u001b[0m\u001b[0;34m\u001b[0m\u001b[0m\n\u001b[1;32m    779\u001b[0m \u001b[0;34m\u001b[0m\u001b[0m\n",
            "\u001b[0;31mRuntimeError\u001b[0m: Error(s) in loading state_dict for ResNet:\n\tMissing key(s) in state_dict: \"conv1.weight\", \"bn1.weight\", \"bn1.bias\", \"bn1.running_mean\", \"bn1.running_var\", \"layer1.0.conv1.weight\", \"layer1.0.bn1.weight\", \"layer1.0.bn1.bias\", \"layer1.0.bn1.running_mean\", \"layer1.0.bn1.running_var\", \"layer1.0.conv2.weight\", \"layer1.0.bn2.weight\", \"layer1.0.bn2.bias\", \"layer1.0.bn2.running_mean\", \"layer1.0.bn2.running_var\", \"layer1.0.conv3.weight\", \"layer1.0.bn3.weight\", \"layer1.0.bn3.bias\", \"layer1.0.bn3.running_mean\", \"layer1.0.bn3.running_var\", \"layer1.0.downsample.0.weight\", \"layer1.0.downsample.1.weight\", \"layer1.0.downsample.1.bias\", \"layer1.0.downsample.1.running_mean\", \"layer1.0.downsample.1.running_var\", \"layer1.1.conv1.weight\", \"layer1.1.bn1.weight\", \"layer1.1.bn1.bias\", \"layer1.1.bn1.running_mean\", \"layer1.1.bn1.running_var\", \"layer1.1.conv2.weight\", \"layer1.1.bn2.weight\", \"layer1.1.bn2.bias\", \"layer1.1.bn2.running_mean\", \"layer1.1.bn2.running_var\", \"layer1.1.conv3.weight\", \"layer1.1.bn3.weight\", \"layer1.1.bn3.bias\", \"layer1.1.bn3.running_mean\", \"layer1.1.bn3.running_var\", \"layer1.2.conv1.weight\", \"layer1.2.bn1.weight\", \"layer1.2.bn1.bias\", \"layer1.2.bn1.running_mean\", \"layer1.2.bn1.running_var\", \"layer1.2.conv2.weight\", \"layer1.2.bn2.weight\", \"layer1.2.bn2.bias\", \"layer1.2.bn2.running_mean\", \"layer1.2.bn2.running_var\", \"layer1.2.conv3.weight\", \"layer1.2.bn3.weight\", \"layer1.2.bn3.bias\", \"layer1.2.bn3.running_mean\", \"layer1.2.bn3.running_var\", \"layer2.0.conv1.weight\", \"layer2.0.bn1.weight\", \"layer2.0.bn1.bias\", \"layer2.0.bn1...\n\tUnexpected key(s) in state_dict: \"stem_cnn.net.conv1.weight\", \"stem_cnn.net.bn1.weight\", \"stem_cnn.net.bn1.bias\", \"stem_cnn.net.bn1.running_mean\", \"stem_cnn.net.bn1.running_var\", \"stem_cnn.net.bn1.num_batches_tracked\", \"stem_cnn.net.layer1.0.conv1.weight\", \"stem_cnn.net.layer1.0.bn1.weight\", \"stem_cnn.net.layer1.0.bn1.bias\", \"stem_cnn.net.layer1.0.bn1.running_mean\", \"stem_cnn.net.layer1.0.bn1.running_var\", \"stem_cnn.net.layer1.0.bn1.num_batches_tracked\", \"stem_cnn.net.layer1.0.conv2.weight\", \"stem_cnn.net.layer1.0.bn2.weight\", \"stem_cnn.net.layer1.0.bn2.bias\", \"stem_cnn.net.layer1.0.bn2.running_mean\", \"stem_cnn.net.layer1.0.bn2.running_var\", \"stem_cnn.net.layer1.0.bn2.num_batches_tracked\", \"stem_cnn.net.layer1.0.conv3.weight\", \"stem_cnn.net.layer1.0.bn3.weight\", \"stem_cnn.net.layer1.0.bn3.bias\", \"stem_cnn.net.layer1.0.bn3.running_mean\", \"stem_cnn.net.layer1.0.bn3.running_var\", \"stem_cnn.net.layer1.0.bn3.num_batches_tracked\", \"stem_cnn.net.layer1.0.downsample.0.weight\", \"stem_cnn.net.layer1.0.downsample.1.weight\", \"stem_cnn.net.layer1.0.downsample.1.bias\", \"stem_cnn.net.layer1.0.downsample.1.running_mean\", \"stem_cnn.net.layer1.0.downsample.1.running_var\", \"stem_cnn.net.layer1.0.downsample.1.num_batches_tracked\", \"stem_cnn.net.layer1.1.conv1.weight\", \"stem_cnn.net.layer1.1.bn1.weight\", \"stem_cnn.net.layer1.1.bn1.bias\", \"stem_cnn.net.layer1.1.bn1.running_mean\", \"stem_cnn.net.layer1.1.bn1.running_var\", \"stem_cnn.net.layer1.1.bn1.num_batches_tracked\", \"stem_cnn.net.layer1.1.co...\n\tsize mismatch for fc.weight: copying a param with shape torch.Size([200, 4096]) from checkpoint, the shape in current model is torch.Size([200, 2048])."
          ]
        }
      ]
    },
    {
      "cell_type": "code",
      "metadata": {
        "id": "7UKwbVkgFv78",
        "colab_type": "code",
        "colab": {}
      },
      "source": [
        "scheduler = torch.optim.lr_scheduler.StepLR(optimizer_ft, 30, gamma=0.1, last_epoch=-1)"
      ],
      "execution_count": 0,
      "outputs": []
    },
    {
      "cell_type": "code",
      "metadata": {
        "id": "9i1u4RSiIwNE",
        "colab_type": "code",
        "colab": {}
      },
      "source": [
        "model_ft = train_model(model_ft, criterion, optimizer_ft, scheduler, num_epochs=90)"
      ],
      "execution_count": 0,
      "outputs": []
    },
    {
      "cell_type": "code",
      "metadata": {
        "id": "OCuRHECYI8Lt",
        "colab_type": "code",
        "colab": {}
      },
      "source": [
        "visualize_model(model_ft)"
      ],
      "execution_count": 0,
      "outputs": []
    },
    {
      "cell_type": "code",
      "metadata": {
        "id": "QTdGj4R6C1kS",
        "colab_type": "code",
        "colab": {}
      },
      "source": [
        "class AverageMeter(object):\n",
        "    \"\"\"Computes and stores the average and current value\"\"\"\n",
        "    def __init__(self):\n",
        "        self.reset()\n",
        "\n",
        "    def reset(self):\n",
        "        self.val = 0\n",
        "        self.avg = 0\n",
        "        self.sum = 0\n",
        "        self.count = 0\n",
        "\n",
        "    def update(self, val, n=1):\n",
        "        self.val = val\n",
        "        self.sum += val * n\n",
        "        self.count += n\n",
        "        self.avg = self.sum / self.count"
      ],
      "execution_count": 0,
      "outputs": []
    },
    {
      "cell_type": "code",
      "metadata": {
        "id": "OtjxLoYCC6rp",
        "colab_type": "code",
        "colab": {}
      },
      "source": [
        "def accuracy(output, target, topk=(1,)):\n",
        "    \"\"\"Computes the precision@k for the specified values of k\"\"\"\n",
        "    #with torch.no_grad():\n",
        "    maxk = max(topk)\n",
        "    batch_size = target.size(0)\n",
        "\n",
        "    _, pred = output.topk(maxk, 1, True, True)\n",
        "    pred = pred.t()\n",
        "    correct = pred.eq(target.view(1, -1).expand_as(pred))\n",
        "\n",
        "    res = []\n",
        "    for k in topk:\n",
        "        correct_k = correct[:k].view(-1).float().sum(0, keepdim=True)\n",
        "        res.append(correct_k.mul_(100.0 / batch_size))\n",
        "    return res"
      ],
      "execution_count": 0,
      "outputs": []
    },
    {
      "cell_type": "code",
      "metadata": {
        "id": "WVTfeL4QC8Pu",
        "colab_type": "code",
        "colab": {}
      },
      "source": [
        "def calc_accuracy(model, data):\n",
        "    model.eval()\n",
        "    if use_gpu:\n",
        "        model.cuda()    \n",
        "    \n",
        "    top1 = AverageMeter()\n",
        "    top5 = AverageMeter()\n",
        "    \n",
        "    for idx, (inputs, labels) in enumerate(dataloders[data]):\n",
        "        if use_gpu:\n",
        "            inputs, labels = inputs.cuda(), labels.cuda()\n",
        "        # obtain the outputs from the model\n",
        "        outputs = model.forward(Variable(inputs))\n",
        "        prec1, prec5 = accuracy(outputs, Variable(labels), topk=(1, 5))\n",
        "        top1.update(prec1[0], inputs.size(0))\n",
        "        top5.update(prec5[0], inputs.size(0))\n",
        "        \n",
        "    return top1 ,top5\n",
        "    \n",
        "top1 ,top5 = calc_accuracy(model_ft, 'test')"
      ],
      "execution_count": 0,
      "outputs": []
    },
    {
      "cell_type": "code",
      "metadata": {
        "id": "fUoHIwvt2t5H",
        "colab_type": "code",
        "colab": {}
      },
      "source": [
        "loss = nn.KLDivLoss()\n",
        "batch_size = 5\n",
        "aaa = torch.randn(batch_size, 10)\n",
        "bbb = torch.randn(batch_size, 10)\n",
        "log_probs1 = F.softmax(bbb)\n",
        "#log_p = F.log_softmax(aaa)\n",
        "probs2 = F.softmax(bbb)\n",
        "m = loss(log_probs1.log(), probs2)\n",
        "#print(torch.randn(batch_size, 10).shape)\n",
        "print(aaa)\n",
        "print(bbb)\n",
        "print(m)"
      ],
      "execution_count": 0,
      "outputs": []
    },
    {
      "cell_type": "code",
      "metadata": {
        "id": "0qdgn4mzC_A6",
        "colab_type": "code",
        "colab": {}
      },
      "source": [
        "top1.avg"
      ],
      "execution_count": 0,
      "outputs": []
    },
    {
      "cell_type": "code",
      "metadata": {
        "id": "bxzJ4OT4DEAY",
        "colab_type": "code",
        "colab": {}
      },
      "source": [
        "top5.avg"
      ],
      "execution_count": 0,
      "outputs": []
    }
  ]
}