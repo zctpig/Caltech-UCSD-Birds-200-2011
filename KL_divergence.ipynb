{
  "nbformat": 4,
  "nbformat_minor": 0,
  "metadata": {
    "colab": {
      "name": "KL_divergence.ipynb",
      "provenance": [],
      "collapsed_sections": [],
      "include_colab_link": true
    },
    "kernelspec": {
      "name": "python3",
      "display_name": "Python 3"
    },
    "accelerator": "GPU"
  },
  "cells": [
    {
      "cell_type": "markdown",
      "metadata": {
        "id": "view-in-github",
        "colab_type": "text"
      },
      "source": [
        "<a href=\"https://colab.research.google.com/github/zctpig/Caltech-UCSD-Birds-200-2011/blob/master/KL_divergence.ipynb\" target=\"_parent\"><img src=\"https://colab.research.google.com/assets/colab-badge.svg\" alt=\"Open In Colab\"/></a>"
      ]
    },
    {
      "cell_type": "markdown",
      "metadata": {
        "id": "e0_q4IGTHQfK",
        "colab_type": "text"
      },
      "source": [
        "# Train Test Split"
      ]
    },
    {
      "cell_type": "code",
      "metadata": {
        "id": "qjYh8ivP_kCO",
        "colab_type": "code",
        "outputId": "2dc3982f-d07b-40c4-a600-a3b0295f3f81",
        "colab": {
          "base_uri": "https://localhost:8080/",
          "height": 325
        }
      },
      "source": [
        "!pip install scikit-image==0.14.3"
      ],
      "execution_count": 2,
      "outputs": [
        {
          "output_type": "stream",
          "text": [
            "Requirement already satisfied: scikit-image==0.14.3 in /usr/local/lib/python3.6/dist-packages (0.14.3)\n",
            "Requirement already satisfied: cloudpickle>=0.2.1 in /usr/local/lib/python3.6/dist-packages (from scikit-image==0.14.3) (0.6.1)\n",
            "Requirement already satisfied: PyWavelets>=0.4.0 in /usr/local/lib/python3.6/dist-packages (from scikit-image==0.14.3) (1.0.3)\n",
            "Requirement already satisfied: matplotlib>=2.0.0 in /usr/local/lib/python3.6/dist-packages (from scikit-image==0.14.3) (3.0.3)\n",
            "Requirement already satisfied: pillow>=4.3.0 in /usr/local/lib/python3.6/dist-packages (from scikit-image==0.14.3) (4.3.0)\n",
            "Requirement already satisfied: scipy>=0.17.0 in /usr/local/lib/python3.6/dist-packages (from scikit-image==0.14.3) (1.3.1)\n",
            "Requirement already satisfied: six>=1.10.0 in /usr/local/lib/python3.6/dist-packages (from scikit-image==0.14.3) (1.12.0)\n",
            "Requirement already satisfied: networkx>=1.8 in /usr/local/lib/python3.6/dist-packages (from scikit-image==0.14.3) (2.3)\n",
            "Requirement already satisfied: numpy>=1.9.1 in /usr/local/lib/python3.6/dist-packages (from PyWavelets>=0.4.0->scikit-image==0.14.3) (1.16.5)\n",
            "Requirement already satisfied: pyparsing!=2.0.4,!=2.1.2,!=2.1.6,>=2.0.1 in /usr/local/lib/python3.6/dist-packages (from matplotlib>=2.0.0->scikit-image==0.14.3) (2.4.2)\n",
            "Requirement already satisfied: kiwisolver>=1.0.1 in /usr/local/lib/python3.6/dist-packages (from matplotlib>=2.0.0->scikit-image==0.14.3) (1.1.0)\n",
            "Requirement already satisfied: python-dateutil>=2.1 in /usr/local/lib/python3.6/dist-packages (from matplotlib>=2.0.0->scikit-image==0.14.3) (2.5.3)\n",
            "Requirement already satisfied: cycler>=0.10 in /usr/local/lib/python3.6/dist-packages (from matplotlib>=2.0.0->scikit-image==0.14.3) (0.10.0)\n",
            "Requirement already satisfied: olefile in /usr/local/lib/python3.6/dist-packages (from pillow>=4.3.0->scikit-image==0.14.3) (0.46)\n",
            "Requirement already satisfied: decorator>=4.3.0 in /usr/local/lib/python3.6/dist-packages (from networkx>=1.8->scikit-image==0.14.3) (4.4.0)\n",
            "Requirement already satisfied: setuptools in /usr/local/lib/python3.6/dist-packages (from kiwisolver>=1.0.1->matplotlib>=2.0.0->scikit-image==0.14.3) (41.2.0)\n"
          ],
          "name": "stdout"
        }
      ]
    },
    {
      "cell_type": "code",
      "metadata": {
        "id": "AfRuSpY7C4cd",
        "colab_type": "code",
        "outputId": "1ab95d20-b917-4a81-b65c-2e7b8a16f71a",
        "colab": {
          "base_uri": "https://localhost:8080/",
          "height": 35
        }
      },
      "source": [
        "import skimage\n",
        "print(skimage.__version__)"
      ],
      "execution_count": 3,
      "outputs": [
        {
          "output_type": "stream",
          "text": [
            "0.14.3\n"
          ],
          "name": "stdout"
        }
      ]
    },
    {
      "cell_type": "code",
      "metadata": {
        "id": "fi2DHVMg-tX2",
        "colab_type": "code",
        "outputId": "42611131-0a48-431f-bf33-10c00ac6ee30",
        "colab": {
          "base_uri": "https://localhost:8080/",
          "height": 215
        }
      },
      "source": [
        "!wget --no-check-certificate \\\n",
        "    http://www.vision.caltech.edu/visipedia-data/CUB-200-2011/CUB_200_2011.tgz \\\n",
        "    -O /tmp/cats_and_dogs_filtered.zip"
      ],
      "execution_count": 4,
      "outputs": [
        {
          "output_type": "stream",
          "text": [
            "--2019-09-29 12:23:05--  http://www.vision.caltech.edu/visipedia-data/CUB-200-2011/CUB_200_2011.tgz\n",
            "Resolving www.vision.caltech.edu (www.vision.caltech.edu)... 34.208.54.77\n",
            "Connecting to www.vision.caltech.edu (www.vision.caltech.edu)|34.208.54.77|:80... connected.\n",
            "HTTP request sent, awaiting response... 200 OK\n",
            "Length: 1150585339 (1.1G) [application/x-tar]\n",
            "Saving to: ‘/tmp/cats_and_dogs_filtered.zip’\n",
            "\n",
            "/tmp/cats_and_dogs_ 100%[===================>]   1.07G  7.42MB/s    in 2m 40s  \n",
            "\n",
            "2019-09-29 12:25:45 (6.88 MB/s) - ‘/tmp/cats_and_dogs_filtered.zip’ saved [1150585339/1150585339]\n",
            "\n"
          ],
          "name": "stdout"
        }
      ]
    },
    {
      "cell_type": "code",
      "metadata": {
        "id": "ApYpsDvl_ipg",
        "colab_type": "code",
        "colab": {}
      },
      "source": [
        "!tar -zxf /tmp/cats_and_dogs_filtered.zip -C /tmp/"
      ],
      "execution_count": 0,
      "outputs": []
    },
    {
      "cell_type": "code",
      "metadata": {
        "id": "8LolthWeDfCD",
        "colab_type": "code",
        "colab": {}
      },
      "source": [
        "PATH = '/tmp/CUB_200_2011/'"
      ],
      "execution_count": 0,
      "outputs": []
    },
    {
      "cell_type": "code",
      "metadata": {
        "id": "lL8y8GfQAH8x",
        "colab_type": "code",
        "colab": {}
      },
      "source": [
        "read_line = open(PATH + 'train_test_split.txt')"
      ],
      "execution_count": 0,
      "outputs": []
    },
    {
      "cell_type": "code",
      "metadata": {
        "id": "T6MEszS8DqmW",
        "colab_type": "code",
        "colab": {}
      },
      "source": [
        "a = read_line.readlines()"
      ],
      "execution_count": 0,
      "outputs": []
    },
    {
      "cell_type": "code",
      "metadata": {
        "id": "2odUrsLRDtmh",
        "colab_type": "code",
        "outputId": "cfc4aee6-a0c6-4411-abc1-d3d8e344f824",
        "colab": {
          "base_uri": "https://localhost:8080/",
          "height": 35
        }
      },
      "source": [
        "a[0].split(' ')[1].split('\\n')[0]"
      ],
      "execution_count": 9,
      "outputs": [
        {
          "output_type": "execute_result",
          "data": {
            "text/plain": [
              "'0'"
            ]
          },
          "metadata": {
            "tags": []
          },
          "execution_count": 9
        }
      ]
    },
    {
      "cell_type": "code",
      "metadata": {
        "id": "eBmCyZFyDvIg",
        "colab_type": "code",
        "outputId": "c05ddec0-d2c1-4b96-f433-ee6af3685cb7",
        "colab": {
          "base_uri": "https://localhost:8080/",
          "height": 35
        }
      },
      "source": [
        "classes = open(PATH + 'classes.txt')\n",
        "c_names = classes.readlines()\n",
        "len(c_names)"
      ],
      "execution_count": 10,
      "outputs": [
        {
          "output_type": "execute_result",
          "data": {
            "text/plain": [
              "200"
            ]
          },
          "metadata": {
            "tags": []
          },
          "execution_count": 10
        }
      ]
    },
    {
      "cell_type": "code",
      "metadata": {
        "id": "10Nv0jhBDy3G",
        "colab_type": "code",
        "colab": {}
      },
      "source": [
        "for i in range(len(c_names)):\n",
        "  c_names[i] = c_names[i].split(' ')[1]"
      ],
      "execution_count": 0,
      "outputs": []
    },
    {
      "cell_type": "code",
      "metadata": {
        "id": "BZD0ojgOD24r",
        "colab_type": "code",
        "outputId": "8f1d7c73-7ed4-498e-da6c-a6b70531918d",
        "colab": {
          "base_uri": "https://localhost:8080/",
          "height": 35
        }
      },
      "source": [
        "c_names[0].split('\\n')[0]"
      ],
      "execution_count": 12,
      "outputs": [
        {
          "output_type": "execute_result",
          "data": {
            "text/plain": [
              "'001.Black_footed_Albatross'"
            ]
          },
          "metadata": {
            "tags": []
          },
          "execution_count": 12
        }
      ]
    },
    {
      "cell_type": "code",
      "metadata": {
        "id": "39EjP6DtD6jD",
        "colab_type": "code",
        "colab": {}
      },
      "source": [
        "import os\n",
        "for i in range(len(c_names)):\n",
        "    dir_name = PATH + 'test/' + c_names[i].split('\\n')[0]\n",
        "    if not os.path.exists(dir_name):\n",
        "        os.makedirs(dir_name)"
      ],
      "execution_count": 0,
      "outputs": []
    },
    {
      "cell_type": "code",
      "metadata": {
        "id": "5Cqub_7Iqxup",
        "colab_type": "code",
        "colab": {}
      },
      "source": [
        "for i in range(len(c_names)):\n",
        "    dir_name = PATH + 'train/' + c_names[i].split('\\n')[0]\n",
        "    if not os.path.exists(dir_name):\n",
        "        os.makedirs(dir_name)"
      ],
      "execution_count": 0,
      "outputs": []
    },
    {
      "cell_type": "code",
      "metadata": {
        "id": "1MpApmuYFM1d",
        "colab_type": "code",
        "colab": {}
      },
      "source": [
        "import torch\n",
        "from torch import nn, optim\n",
        "from torch.optim import lr_scheduler\n",
        "from torch.autograd import Variable\n",
        "import torchvision\n",
        "import torch.utils.data as data\n",
        "from torchvision import datasets, models, transforms"
      ],
      "execution_count": 0,
      "outputs": []
    },
    {
      "cell_type": "code",
      "metadata": {
        "id": "bV54i10bFUlI",
        "colab_type": "code",
        "colab": {}
      },
      "source": [
        "train_dataset = datasets.ImageFolder(PATH + 'images')"
      ],
      "execution_count": 0,
      "outputs": []
    },
    {
      "cell_type": "code",
      "metadata": {
        "id": "nhIxYBbcFp0_",
        "colab_type": "code",
        "colab": {}
      },
      "source": [
        "from skimage import io"
      ],
      "execution_count": 0,
      "outputs": []
    },
    {
      "cell_type": "code",
      "metadata": {
        "id": "vqDvqf9-Fyvd",
        "colab_type": "code",
        "outputId": "32441e15-11df-43c5-dc7a-44e85794e62f",
        "colab": {
          "base_uri": "https://localhost:8080/",
          "height": 35
        }
      },
      "source": [
        "print(len(train_dataset.imgs))"
      ],
      "execution_count": 18,
      "outputs": [
        {
          "output_type": "stream",
          "text": [
            "11788\n"
          ],
          "name": "stdout"
        }
      ]
    },
    {
      "cell_type": "code",
      "metadata": {
        "id": "GG0Z5C52FzwJ",
        "colab_type": "code",
        "colab": {}
      },
      "source": [
        "for j in range(len(train_dataset.imgs)):\n",
        "    if(a[j].split(' ')[1].split('\\n')[0] == '0'):\n",
        "        path = train_dataset.imgs[j][0]\n",
        "        img = io.imread(path)\n",
        "        folder = train_dataset.imgs[j][0][9:].split('/')[-2]\n",
        "        img_name = train_dataset.imgs[j][0][9:].split('/')[-1]\n",
        "        io.imsave(PATH + 'test/' + folder + '/' + img_name, img)\n",
        "        os.remove(path)\n",
        "    else:\n",
        "        path = train_dataset.imgs[j][0]\n",
        "        img = io.imread(path)\n",
        "        folder = train_dataset.imgs[j][0][9:].split('/')[-2]\n",
        "        img_name = train_dataset.imgs[j][0][9:].split('/')[-1]\n",
        "        io.imsave(PATH + 'train/' + folder + '/' + img_name, img)\n",
        "        os.remove(path)"
      ],
      "execution_count": 0,
      "outputs": []
    },
    {
      "cell_type": "code",
      "metadata": {
        "id": "IRIhVF82GHEO",
        "colab_type": "code",
        "outputId": "7207535e-9d96-4b11-f4fd-5079169a1706",
        "colab": {
          "base_uri": "https://localhost:8080/",
          "height": 35
        }
      },
      "source": [
        "total = 0\n",
        "for path, dirs, files in os.walk(PATH + 'train'):\n",
        "    total += len(files)\n",
        "print('train images number:', total)"
      ],
      "execution_count": 20,
      "outputs": [
        {
          "output_type": "stream",
          "text": [
            "train images number: 5994\n"
          ],
          "name": "stdout"
        }
      ]
    },
    {
      "cell_type": "code",
      "metadata": {
        "id": "MuVzb2oOGpXZ",
        "colab_type": "code",
        "outputId": "933eec64-1e34-4acd-c7d2-202fe3057f46",
        "colab": {
          "base_uri": "https://localhost:8080/",
          "height": 35
        }
      },
      "source": [
        "total = 0\n",
        "for path, dirs, files in os.walk(PATH + 'test'):\n",
        "    total += len(files)\n",
        "print('test images number:', total)"
      ],
      "execution_count": 21,
      "outputs": [
        {
          "output_type": "stream",
          "text": [
            "test images number: 5794\n"
          ],
          "name": "stdout"
        }
      ]
    },
    {
      "cell_type": "markdown",
      "metadata": {
        "id": "H8ugscLeHT3U",
        "colab_type": "text"
      },
      "source": [
        "# Model"
      ]
    },
    {
      "cell_type": "code",
      "metadata": {
        "id": "9_uSdFrNHDSE",
        "colab_type": "code",
        "colab": {}
      },
      "source": [
        "# here are the necessary imports\n",
        "from __future__ import print_function, division\n",
        "\n",
        "import torch\n",
        "import torch.nn.functional as F\n",
        "import torch.nn as nn\n",
        "import torch.optim as optim\n",
        "from torch.autograd import Variable\n",
        "import numpy as np\n",
        "import torchvision\n",
        "from torchvision import datasets, models, transforms\n",
        "import matplotlib.pyplot as plt\n",
        "import time\n",
        "import os\n",
        "import seaborn as sns\n",
        "plt.ion()"
      ],
      "execution_count": 0,
      "outputs": []
    },
    {
      "cell_type": "code",
      "metadata": {
        "id": "t382Rrz7HYoQ",
        "colab_type": "code",
        "colab": {}
      },
      "source": [
        "# Data augmentation and normalization for training\n",
        "# Just normalization for validation\n",
        "data_transforms = {\n",
        "    'train': transforms.Compose([\n",
        "        transforms.Resize(256),\n",
        "        #transforms.RandomRotation(45),\n",
        "        transforms.RandomResizedCrop(224),\n",
        "        transforms.RandomHorizontalFlip(),\n",
        "        transforms.ToTensor(),\n",
        "        transforms.Normalize([0.485, 0.456, 0.406], [0.229, 0.224, 0.225])\n",
        "    ]),\n",
        "    'test': transforms.Compose([\n",
        "        transforms.Resize(256),\n",
        "        transforms.CenterCrop(224),\n",
        "        transforms.ToTensor(),\n",
        "        transforms.Normalize([0.485, 0.456, 0.406], [0.229, 0.224, 0.225])\n",
        "    ]),\n",
        "}\n",
        "\n",
        "\n",
        "# loading datasets with PyTorch ImageFolder\n",
        "image_datasets = {x: datasets.ImageFolder(os.path.join(PATH, x),\n",
        "                                          data_transforms[x])\n",
        "                  for x in ['train', 'test']}\n",
        "# defining data loaders to load data using image_datasets and transforms, here we also specify batch size for the mini batch\n",
        "dataloders = {x: torch.utils.data.DataLoader(image_datasets[x], batch_size=16,\n",
        "                                             shuffle=True, num_workers=4)\n",
        "              for x in ['train', 'test']}\n",
        "dataset_sizes = {x: len(image_datasets[x]) for x in ['train', 'test']}\n",
        "class_names = image_datasets['train'].classes\n",
        "\n",
        "use_gpu = torch.cuda.is_available()"
      ],
      "execution_count": 0,
      "outputs": []
    },
    {
      "cell_type": "code",
      "metadata": {
        "id": "na5yE-iFHpS3",
        "colab_type": "code",
        "outputId": "29205ea9-bede-4272-93f2-3d498189b4a3",
        "colab": {
          "base_uri": "https://localhost:8080/",
          "height": 35
        }
      },
      "source": [
        "dataset_sizes"
      ],
      "execution_count": 24,
      "outputs": [
        {
          "output_type": "execute_result",
          "data": {
            "text/plain": [
              "{'test': 5794, 'train': 5994}"
            ]
          },
          "metadata": {
            "tags": []
          },
          "execution_count": 24
        }
      ]
    },
    {
      "cell_type": "code",
      "metadata": {
        "id": "5EVY_mc0ILiR",
        "colab_type": "code",
        "outputId": "de08dcfb-2588-403d-9290-8d08c73b926a",
        "colab": {
          "base_uri": "https://localhost:8080/",
          "height": 168
        }
      },
      "source": [
        "def imshow(inp, title=None):\n",
        "    \"\"\"Imshow for Tensor.\"\"\"\n",
        "    inp = inp.numpy().transpose((1, 2, 0))\n",
        "    mean = np.array([0.485, 0.456, 0.406])\n",
        "    std = np.array([0.229, 0.224, 0.225])\n",
        "    inp = std * inp + mean\n",
        "    inp = np.clip(inp, 0, 1)\n",
        "    plt.imshow(inp)\n",
        "    if title is not None:\n",
        "        plt.title(title)\n",
        "    plt.pause(0.001)  # pause a bit so that plots are updated\n",
        "\n",
        "\n",
        "# Get a batch of training data\n",
        "inputs, classes = next(iter(dataloders['train']))\n",
        "\n",
        "# Make a grid from batch\n",
        "out = torchvision.utils.make_grid(inputs)\n",
        "\n",
        "imshow(out, title=[class_names[x] for x in classes])"
      ],
      "execution_count": 25,
      "outputs": [
        {
          "output_type": "display_data",
          "data": {
            "image/png": "[encoded data removed]",
            "text/plain": [
              "<Figure size 432x288 with 1 Axes>"
            ]
          },
          "metadata": {
            "tags": []
          }
        }
      ]
    },
    {
      "cell_type": "code",
      "metadata": {
        "id": "IkNX504W5Ilr",
        "colab_type": "code",
        "outputId": "c33d6054-5585-4593-ce90-fbe0f97b8288",
        "colab": {
          "base_uri": "https://localhost:8080/",
          "height": 35
        }
      },
      "source": [
        "from google.colab import drive\n",
        "drive.mount('/gdrive')"
      ],
      "execution_count": 26,
      "outputs": [
        {
          "output_type": "stream",
          "text": [
            "Drive already mounted at /gdrive; to attempt to forcibly remount, call drive.mount(\"/gdrive\", force_remount=True).\n"
          ],
          "name": "stdout"
        }
      ]
    },
    {
      "cell_type": "code",
      "metadata": {
        "id": "BD5QsQai5oyY",
        "colab_type": "code",
        "colab": {}
      },
      "source": [
        "G_DRIVE = '/gdrive/My Drive/'"
      ],
      "execution_count": 0,
      "outputs": []
    },
    {
      "cell_type": "code",
      "metadata": {
        "id": "GF-Z0PuRIPO_",
        "colab_type": "code",
        "colab": {}
      },
      "source": [
        "def train_model(model, criterion, optimizer, scheduler, num_epochs=10):\n",
        "    since = time.time()\n",
        "\n",
        "    best_model_wts = model.state_dict()\n",
        "    best_acc = 0.0\n",
        "\n",
        "    for epoch in range(num_epochs):\n",
        "        print('Epoch {}/{}'.format(epoch, num_epochs - 1))\n",
        "        print('-' * 10)\n",
        "\n",
        "        \n",
        "        # Each epoch has a training and validation phase\n",
        "        for phase in ['train', 'test']:\n",
        "            if phase == 'train':\n",
        "                print(scheduler.get_lr())\n",
        "                model.train(True)  # Set model to training mode\n",
        "            else:\n",
        "                model.train(False)  # Set model to evaluate mode\n",
        "\n",
        "            running_loss = 0.0\n",
        "            running_corrects = 0\n",
        "\n",
        "            # Iterate over data.\n",
        "            for data in dataloders[phase]:\n",
        "                # get the inputs\n",
        "                inputs, labels = data\n",
        "\n",
        "                # wrap them in Variable\n",
        "                if use_gpu:\n",
        "                    inputs = Variable(inputs.cuda())\n",
        "                    labels = Variable(labels.cuda())\n",
        "                else:\n",
        "                    inputs, labels = Variable(inputs), Variable(labels)\n",
        "\n",
        "                # zero the parameter gradients\n",
        "                optimizer.zero_grad()\n",
        "\n",
        "                # forward\n",
        "                outputs = model(inputs)\n",
        "                \n",
        "                _, preds = torch.max(outputs.data, 1)\n",
        "                loss = criterion(outputs, labels)\n",
        "\n",
        "                # backward + optimize only if in training phase\n",
        "                if phase == 'train':\n",
        "                    loss.backward()\n",
        "                    optimizer.step()\n",
        "\n",
        "                # statistics\n",
        "                running_loss += loss.item()\n",
        "                running_corrects += torch.sum(preds == labels.data).item()\n",
        "\n",
        "            epoch_loss = running_loss / dataset_sizes[phase]\n",
        "            epoch_acc = running_corrects / dataset_sizes[phase]\n",
        "\n",
        "            print('{} Loss: {:.4f} Acc: {:.4f}'.format(\n",
        "                phase, epoch_loss, epoch_acc))\n",
        "\n",
        "            # deep copy the model\n",
        "            if phase == 'test' and epoch_acc > best_acc:\n",
        "                best_acc = epoch_acc\n",
        "                best_model_wts = model.state_dict()\n",
        "                state = {'model':model_ft.state_dict(),'optim':optimizer_ft.state_dict()}\n",
        "                torch.save(state, G_DRIVE + 'point_resnet_best.pth')\n",
        "            \n",
        "            if phase == 'train':\n",
        "                scheduler.step()\n",
        "\n",
        "        print()\n",
        "\n",
        "    time_elapsed = time.time() - since\n",
        "    print('Training complete in {:.0f}m {:.0f}s'.format(\n",
        "        time_elapsed // 60, time_elapsed % 60))\n",
        "    print('Best test Acc: {:4f}'.format(best_acc))\n",
        "\n",
        "    # load best model weights\n",
        "    model.load_state_dict(best_model_wts)\n",
        "    return model"
      ],
      "execution_count": 0,
      "outputs": []
    },
    {
      "cell_type": "code",
      "metadata": {
        "id": "7DxzCrRc-FIG",
        "colab_type": "code",
        "colab": {}
      },
      "source": [
        ""
      ],
      "execution_count": 0,
      "outputs": []
    },
    {
      "cell_type": "code",
      "metadata": {
        "id": "OqHSPFFlIW4m",
        "colab_type": "code",
        "colab": {}
      },
      "source": [
        "def visualize_model(model, num_images=8):\n",
        "    images_so_far = 0\n",
        "    fig = plt.figure()\n",
        "    \n",
        "\n",
        "    for i, data in enumerate(dataloders['test']):\n",
        "        inputs, labels = data\n",
        "        #print(labels)\n",
        "        if use_gpu:\n",
        "            inputs, labels = Variable(inputs.cuda()), Variable(labels.cuda())\n",
        "        else:\n",
        "            inputs, labels = Variable(inputs), Variable(labels)\n",
        "        #print(labels)\n",
        "        #_, lab = torch.max(labels.data, 1)\n",
        "        outputs = model(inputs)\n",
        "        #print(outputs)\n",
        "        _, preds = torch.max(outputs.data, 1)\n",
        "        #print(preds)\n",
        "\n",
        "        for j in range(inputs.size()[0]):\n",
        "            images_so_far += 1\n",
        "            ax = plt.subplot(num_images//2, 2, images_so_far)\n",
        "            ax.axis('off')\n",
        "            ax.set_title('class: {} predicted: {}'.format(class_names[labels.data[j]], class_names[preds[j]]))\n",
        "            imshow(inputs.cpu().data[j])\n",
        "\n",
        "            if images_so_far == num_images:\n",
        "                return"
      ],
      "execution_count": 0,
      "outputs": []
    },
    {
      "cell_type": "code",
      "metadata": {
        "id": "ddyPzeAjfbZx",
        "colab_type": "code",
        "colab": {}
      },
      "source": [
        "class StemCNN(nn.Module):\n",
        "\n",
        "    def __init__(self,pretrained=True):\n",
        "        super().__init__()\n",
        "        self.net = torchvision.models.resnet50(pretrained=pretrained)\n",
        "\n",
        "    def forward(self, x):\n",
        "        x = self.net.conv1(x)\n",
        "        x = self.net.bn1(x)\n",
        "        x = self.net.relu(x)\n",
        "        x = self.net.maxpool(x)\n",
        "\n",
        "        x = self.net.layer1(x)\n",
        "        x = self.net.layer2(x)\n",
        "        x = self.net.layer3(x)\n",
        "        return x\n",
        "\n",
        "\n",
        "class SubNet(nn.Module):\n",
        "\n",
        "    def __init__(self,pretrained=True):\n",
        "        super().__init__()\n",
        "        self.block = torchvision.models.resnet50(pretrained=True).layer4\n",
        "        self.avgpool = nn.AdaptiveAvgPool2d((1, 1))\n",
        "\n",
        "    # output:1,2048\n",
        "    def forward(self, x):\n",
        "        x = self.block(x)\n",
        "        x = self.avgpool(x)\n",
        "        x = x.reshape(x.size(0), -1)\n",
        "        return x\n",
        "\n",
        "\n",
        "class RefinedModel(nn.Module):\n",
        "\n",
        "    def __init__(self, class_num=1000):\n",
        "        super().__init__()\n",
        "        self.stem_cnn = StemCNN()\n",
        "        self.subnet1 = SubNet()\n",
        "        self.subnet2 = SubNet()\n",
        "        self.fc = nn.Linear(4096, class_num)\n",
        "\n",
        "    def forward(self, x):\n",
        "        x = self.stem_cnn(x)\n",
        "        feature1, feature2 = self.subnet1(x), self.subnet2(x)\n",
        "        x = torch.cat((feature1, feature2), 1)\n",
        "        x = self.fc(x)\n",
        "        return x, feature1, feature2\n",
        "\n",
        "class BaseModel(nn.Module):\n",
        "\n",
        "    def __init__(self, class_num=1000):\n",
        "        super().__init__()\n",
        "        self.stem_cnn = StemCNN()\n",
        "        self.subnet1 = SubNet()\n",
        "        self.fc = nn.Linear(2048, class_num)\n",
        "\n",
        "    def forward(self, x):\n",
        "        x = self.stem_cnn(x)\n",
        "        x = self.subnet1(x)\n",
        "        x = self.fc(x)\n",
        "        return x\n"
      ],
      "execution_count": 0,
      "outputs": []
    },
    {
      "cell_type": "code",
      "metadata": {
        "id": "Nv73Z2exfcUS",
        "colab_type": "code",
        "colab": {}
      },
      "source": [
        "def train_refined_model(model, criterion, optimizer, scheduler, dataloaders, dataset_sizes, save_dir, num_epochs=10, use_gpu=True):\n",
        "    \"\"\"\n",
        "\n",
        "    :param dataset_sizes:\n",
        "    :param save_dir: dir to save model\n",
        "    :param model:\n",
        "    :param criterion:\n",
        "    :param optimizer:\n",
        "    :param scheduler:\n",
        "    :param dataloaders:\n",
        "    :param num_epochs:\n",
        "    :param use_gpu:\n",
        "    :return:\n",
        "    \"\"\"\n",
        "    since = time.time()\n",
        "\n",
        "    best_model_wts = model.state_dict()\n",
        "    best_acc = 0.0\n",
        "\n",
        "    kldiv_loss_func = nn.KLDivLoss(reduction='sum')\n",
        "\n",
        "    for epoch in range(num_epochs):\n",
        "        print('Epoch {}/{}'.format(epoch, num_epochs - 1))\n",
        "        print('-' * 10)\n",
        "\n",
        "        # Each epoch has a training and validation phase\n",
        "        for phase in ['train', 'test']:\n",
        "            if phase == 'train':\n",
        "                print(scheduler.get_lr())\n",
        "                model.train(True)  # Set model to training mode\n",
        "            else:\n",
        "                model.train(False)  # Set model to evaluate mode\n",
        "\n",
        "            running_loss = 0.0\n",
        "            running_corrects = 0\n",
        "\n",
        "            # Iterate over data.\n",
        "            for data in dataloaders[phase]:\n",
        "                # get the inputs\n",
        "                inputs, labels = data\n",
        "\n",
        "                # wrap them in Variable\n",
        "                if use_gpu:\n",
        "                    inputs = inputs.cuda()\n",
        "                    labels = labels.cuda()\n",
        "                else:\n",
        "                    inputs, labels = inputs, labels\n",
        "\n",
        "                # zero the parameter gradients\n",
        "                optimizer.zero_grad()\n",
        "\n",
        "                # forward\n",
        "                feature, feature_1, feature_2 = model(inputs)\n",
        "                ce_loss = criterion(feature, labels)\n",
        "                _, preds = torch.max(feature.data, 1)\n",
        "                #print(\"##########\")\n",
        "                #print('pre_feature1:',feature1)\n",
        "                feature1 = F.softmax(feature_1,1)\n",
        "                #log_feature1 = F.log_softmax(feature_1,1)\n",
        "                #print('post_feature1:', feature1)\n",
        "                feature2 = F.softmax(feature_2,1)\n",
        "                #log_feature2 = F.log_softmax(feature_2,1)\n",
        "                kl_loss = ((kldiv_loss_func(feature1.log(), feature2) + kldiv_loss_func(feature2.log(), feature1))/2)*0.001\n",
        "                \n",
        "                loss = ce_loss+kl_loss\n",
        "                \n",
        "                #print('loss:',loss)\n",
        "                #print('kl_loss:',kl_loss)\n",
        "                #print('ce_loss:',ce_loss)\n",
        "                # backward + optimize only if in training phase\n",
        "                if phase == 'train':\n",
        "                    loss.backward()\n",
        "                    optimizer.step()\n",
        "\n",
        "                # statistics\n",
        "                running_loss += loss.item()\n",
        "                running_corrects += torch.sum(preds == labels.data).item()\n",
        "\n",
        "            epoch_loss = running_loss / dataset_sizes[phase]\n",
        "            epoch_acc = running_corrects / dataset_sizes[phase]\n",
        "\n",
        "            print('{} Loss: {:.4f} Acc: {:.4f}'.format(\n",
        "                phase, epoch_loss, epoch_acc))\n",
        "\n",
        "            # deep copy the model\n",
        "            if phase == 'test' and epoch_acc > best_acc:\n",
        "                best_acc = epoch_acc\n",
        "                best_model_wts = model.state_dict()\n",
        "                state = {'model': model.state_dict(), 'optim': optimizer.state_dict()}\n",
        "                torch.save(state, save_dir + 'point_resnet_best.pth')\n",
        "\n",
        "            if phase == 'train':\n",
        "                scheduler.step()\n",
        "\n",
        "        print()\n",
        "\n",
        "    time_elapsed = time.time() - since\n",
        "    print('Training complete in {:.0f}m {:.0f}s'.format(\n",
        "        time_elapsed // 60, time_elapsed % 60))\n",
        "    print('Best test Acc: {:4f}'.format(best_acc))\n",
        "\n",
        "    # load best model weights\n",
        "    model.load_state_dict(best_model_wts)\n",
        "    return model\n"
      ],
      "execution_count": 0,
      "outputs": []
    },
    {
      "cell_type": "code",
      "metadata": {
        "id": "ATZ5WnGufkZU",
        "colab_type": "code",
        "colab": {}
      },
      "source": [
        "refined_model= RefinedModel(class_num=200)\n",
        "refined_model = refined_model.cuda()"
      ],
      "execution_count": 0,
      "outputs": []
    },
    {
      "cell_type": "code",
      "metadata": {
        "id": "gvEsxc6PgFkU",
        "colab_type": "code",
        "outputId": "b648af97-d798-425c-c077-86c8ef497759",
        "colab": {
          "base_uri": "https://localhost:8080/",
          "height": 35
        }
      },
      "source": [
        "x = torch.randn(1,3,256,256).cuda()\n",
        "refined_model(x)[0].shape"
      ],
      "execution_count": 95,
      "outputs": [
        {
          "output_type": "execute_result",
          "data": {
            "text/plain": [
              "torch.Size([1, 200])"
            ]
          },
          "metadata": {
            "tags": []
          },
          "execution_count": 95
        }
      ]
    },
    {
      "cell_type": "code",
      "metadata": {
        "id": "-GgTkO3Cfv6u",
        "colab_type": "code",
        "colab": {}
      },
      "source": [
        "criterion = nn.CrossEntropyLoss()           # defining loss function\n",
        "# Observe that all parameters are being optimized\n",
        "optimizer_ft = optim.SGD(refined_model.parameters(), lr=0.01, momentum=0.9)\n",
        "# optimizer_ft = optim.Adam(model_ft.parameters())\n",
        "scheduler = torch.optim.lr_scheduler.StepLR(optimizer_ft, 30, gamma=0.1, last_epoch=-1)"
      ],
      "execution_count": 0,
      "outputs": []
    },
    {
      "cell_type": "code",
      "metadata": {
        "id": "zGEPCKsRgcYq",
        "colab_type": "code",
        "outputId": "b55a3875-1948-4df8-fb2b-65d881a18a23",
        "colab": {
          "base_uri": "https://localhost:8080/",
          "height": 1000
        }
      },
      "source": [
        "refined_model = train_refined_model(refined_model, criterion, optimizer_ft, scheduler,dataloders,dataset_sizes,G_DRIVE, num_epochs=70)"
      ],
      "execution_count": 97,
      "outputs": [
        {
          "output_type": "stream",
          "text": [
            "Epoch 0/69\n",
            "----------\n",
            "[0.01]\n",
            "train Loss: 0.2881 Acc: 0.0919\n",
            "test Loss: 0.2266 Acc: 0.2073\n",
            "\n",
            "Epoch 1/69\n",
            "----------\n",
            "[0.01]\n",
            "train Loss: 0.2088 Acc: 0.2184\n",
            "test Loss: 0.1938 Acc: 0.2915\n",
            "\n",
            "Epoch 2/69\n",
            "----------\n",
            "[0.01]\n",
            "train Loss: 0.1752 Acc: 0.3232\n",
            "test Loss: 0.1601 Acc: 0.3913\n",
            "\n",
            "Epoch 3/69\n",
            "----------\n",
            "[0.01]\n",
            "train Loss: 0.1559 Acc: 0.3824\n",
            "test Loss: 0.1274 Acc: 0.4997\n",
            "\n",
            "Epoch 4/69\n",
            "----------\n",
            "[0.01]\n",
            "train Loss: 0.1424 Acc: 0.4339\n",
            "test Loss: 0.1327 Acc: 0.4839\n",
            "\n",
            "Epoch 5/69\n",
            "----------\n",
            "[0.01]\n",
            "train Loss: 0.1294 Acc: 0.4718\n",
            "test Loss: 0.1280 Acc: 0.5079\n",
            "\n",
            "Epoch 6/69\n",
            "----------\n",
            "[0.01]\n",
            "train Loss: 0.1220 Acc: 0.5043\n",
            "test Loss: 0.1264 Acc: 0.5230\n",
            "\n",
            "Epoch 7/69\n",
            "----------\n",
            "[0.01]\n",
            "train Loss: 0.1131 Acc: 0.5320\n",
            "test Loss: 0.0999 Acc: 0.5986\n",
            "\n",
            "Epoch 8/69\n",
            "----------\n",
            "[0.01]\n",
            "train Loss: 0.1029 Acc: 0.5827\n",
            "test Loss: 0.1019 Acc: 0.6060\n",
            "\n",
            "Epoch 9/69\n",
            "----------\n",
            "[0.01]\n",
            "train Loss: 0.1007 Acc: 0.5787\n",
            "test Loss: 0.1042 Acc: 0.5913\n",
            "\n",
            "Epoch 10/69\n",
            "----------\n",
            "[0.01]\n",
            "train Loss: 0.0946 Acc: 0.6079\n",
            "test Loss: 0.1025 Acc: 0.5948\n",
            "\n",
            "Epoch 11/69\n",
            "----------\n",
            "[0.01]\n",
            "train Loss: 0.0919 Acc: 0.6146\n",
            "test Loss: 0.0917 Acc: 0.6382\n",
            "\n",
            "Epoch 12/69\n",
            "----------\n",
            "[0.01]\n",
            "train Loss: 0.0885 Acc: 0.6361\n",
            "test Loss: 0.1032 Acc: 0.6144\n",
            "\n",
            "Epoch 13/69\n",
            "----------\n",
            "[0.01]\n",
            "train Loss: 0.0829 Acc: 0.6550\n",
            "test Loss: 0.0948 Acc: 0.6426\n",
            "\n",
            "Epoch 14/69\n",
            "----------\n",
            "[0.01]\n",
            "train Loss: 0.0819 Acc: 0.6582\n",
            "test Loss: 0.0960 Acc: 0.6379\n",
            "\n",
            "Epoch 15/69\n",
            "----------\n",
            "[0.01]\n",
            "train Loss: 0.0788 Acc: 0.6720\n",
            "test Loss: 0.0923 Acc: 0.6543\n",
            "\n",
            "Epoch 16/69\n",
            "----------\n",
            "[0.01]\n",
            "train Loss: 0.0762 Acc: 0.6768\n",
            "test Loss: 0.0845 Acc: 0.6797\n",
            "\n",
            "Epoch 17/69\n",
            "----------\n",
            "[0.01]\n",
            "train Loss: 0.0719 Acc: 0.7037\n",
            "test Loss: 0.0918 Acc: 0.6790\n",
            "\n",
            "Epoch 18/69\n",
            "----------\n",
            "[0.01]\n",
            "train Loss: 0.0687 Acc: 0.7117\n",
            "test Loss: 0.0904 Acc: 0.6721\n",
            "\n",
            "Epoch 19/69\n",
            "----------\n",
            "[0.01]\n",
            "train Loss: 0.0674 Acc: 0.7135\n",
            "test Loss: 0.0855 Acc: 0.6886\n",
            "\n",
            "Epoch 20/69\n",
            "----------\n",
            "[0.01]\n",
            "train Loss: 0.0651 Acc: 0.7249\n",
            "test Loss: 0.0854 Acc: 0.6871\n",
            "\n",
            "Epoch 21/69\n",
            "----------\n",
            "[0.01]\n",
            "train Loss: 0.0642 Acc: 0.7307\n",
            "test Loss: 0.0852 Acc: 0.6995\n",
            "\n",
            "Epoch 22/69\n",
            "----------\n",
            "[0.01]\n",
            "train Loss: 0.0640 Acc: 0.7416\n",
            "test Loss: 0.0918 Acc: 0.6760\n",
            "\n",
            "Epoch 23/69\n",
            "----------\n",
            "[0.01]\n",
            "train Loss: 0.0573 Acc: 0.7581\n",
            "test Loss: 0.0879 Acc: 0.6829\n",
            "\n",
            "Epoch 24/69\n",
            "----------\n",
            "[0.01]\n",
            "train Loss: 0.0569 Acc: 0.7609\n",
            "test Loss: 0.0971 Acc: 0.6691\n",
            "\n",
            "Epoch 25/69\n",
            "----------\n",
            "[0.01]\n",
            "train Loss: 0.0585 Acc: 0.7543\n",
            "test Loss: 0.0873 Acc: 0.7012\n",
            "\n",
            "Epoch 26/69\n",
            "----------\n",
            "[0.01]\n",
            "train Loss: 0.0553 Acc: 0.7681\n",
            "test Loss: 0.0842 Acc: 0.7106\n",
            "\n",
            "Epoch 27/69\n",
            "----------\n",
            "[0.01]\n",
            "train Loss: 0.0513 Acc: 0.7888\n",
            "test Loss: 0.0875 Acc: 0.6973\n",
            "\n",
            "Epoch 28/69\n",
            "----------\n",
            "[0.01]\n",
            "train Loss: 0.0509 Acc: 0.7878\n",
            "test Loss: 0.0819 Acc: 0.7149\n",
            "\n",
            "Epoch 29/69\n",
            "----------\n",
            "[0.01]\n",
            "train Loss: 0.0509 Acc: 0.7851\n",
            "test Loss: 0.0912 Acc: 0.6988\n",
            "\n",
            "Epoch 30/69\n",
            "----------\n",
            "[0.0001]\n",
            "train Loss: 0.0395 Acc: 0.8425\n",
            "test Loss: 0.0711 Acc: 0.7489\n",
            "\n",
            "Epoch 31/69\n",
            "----------\n",
            "[0.001]\n",
            "train Loss: 0.0359 Acc: 0.8575\n",
            "test Loss: 0.0690 Acc: 0.7616\n",
            "\n",
            "Epoch 32/69\n",
            "----------\n",
            "[0.001]\n",
            "train Loss: 0.0330 Acc: 0.8677\n",
            "test Loss: 0.0684 Acc: 0.7646\n",
            "\n",
            "Epoch 33/69\n",
            "----------\n",
            "[0.001]\n",
            "train Loss: 0.0313 Acc: 0.8752\n",
            "test Loss: 0.0681 Acc: 0.7694\n",
            "\n",
            "Epoch 34/69\n",
            "----------\n",
            "[0.001]\n",
            "train Loss: 0.0316 Acc: 0.8767\n",
            "test Loss: 0.0692 Acc: 0.7622\n",
            "\n",
            "Epoch 35/69\n",
            "----------\n",
            "[0.001]\n",
            "train Loss: 0.0303 Acc: 0.8794\n",
            "test Loss: 0.0700 Acc: 0.7620\n",
            "\n",
            "Epoch 36/69\n",
            "----------\n",
            "[0.001]\n",
            "train Loss: 0.0314 Acc: 0.8752\n",
            "test Loss: 0.0680 Acc: 0.7682\n",
            "\n",
            "Epoch 37/69\n",
            "----------\n",
            "[0.001]\n",
            "train Loss: 0.0295 Acc: 0.8844\n",
            "test Loss: 0.0692 Acc: 0.7692\n",
            "\n",
            "Epoch 38/69\n",
            "----------\n",
            "[0.001]\n",
            "train Loss: 0.0273 Acc: 0.8931\n",
            "test Loss: 0.0685 Acc: 0.7651\n",
            "\n",
            "Epoch 39/69\n",
            "----------\n",
            "[0.001]\n",
            "train Loss: 0.0280 Acc: 0.8879\n",
            "test Loss: 0.0704 Acc: 0.7687\n",
            "\n",
            "Epoch 40/69\n",
            "----------\n",
            "[0.001]\n",
            "train Loss: 0.0285 Acc: 0.8882\n",
            "test Loss: 0.0701 Acc: 0.7682\n",
            "\n",
            "Epoch 41/69\n",
            "----------\n",
            "[0.001]\n",
            "train Loss: 0.0284 Acc: 0.8851\n",
            "test Loss: 0.0698 Acc: 0.7724\n",
            "\n",
            "Epoch 42/69\n",
            "----------\n",
            "[0.001]\n",
            "train Loss: 0.0283 Acc: 0.8901\n",
            "test Loss: 0.0681 Acc: 0.7763\n",
            "\n",
            "Epoch 43/69\n",
            "----------\n",
            "[0.001]\n",
            "train Loss: 0.0294 Acc: 0.8802\n",
            "test Loss: 0.0683 Acc: 0.7734\n",
            "\n",
            "Epoch 44/69\n",
            "----------\n",
            "[0.001]\n",
            "train Loss: 0.0274 Acc: 0.8929\n",
            "test Loss: 0.0698 Acc: 0.7686\n",
            "\n",
            "Epoch 45/69\n",
            "----------\n",
            "[0.001]\n",
            "train Loss: 0.0256 Acc: 0.9002\n",
            "test Loss: 0.0698 Acc: 0.7649\n",
            "\n",
            "Epoch 46/69\n",
            "----------\n",
            "[0.001]\n",
            "train Loss: 0.0261 Acc: 0.8976\n",
            "test Loss: 0.0692 Acc: 0.7706\n",
            "\n",
            "Epoch 47/69\n",
            "----------\n",
            "[0.001]\n",
            "train Loss: 0.0266 Acc: 0.8961\n",
            "test Loss: 0.0714 Acc: 0.7673\n",
            "\n",
            "Epoch 48/69\n",
            "----------\n",
            "[0.001]\n",
            "train Loss: 0.0249 Acc: 0.9006\n",
            "test Loss: 0.0694 Acc: 0.7677\n",
            "\n",
            "Epoch 49/69\n",
            "----------\n",
            "[0.001]\n",
            "train Loss: 0.0265 Acc: 0.8947\n",
            "test Loss: 0.0700 Acc: 0.7658\n",
            "\n",
            "Epoch 50/69\n",
            "----------\n",
            "[0.001]\n",
            "train Loss: 0.0250 Acc: 0.9044\n",
            "test Loss: 0.0710 Acc: 0.7706\n",
            "\n",
            "Epoch 51/69\n",
            "----------\n",
            "[0.001]\n",
            "train Loss: 0.0258 Acc: 0.8971\n",
            "test Loss: 0.0702 Acc: 0.7668\n",
            "\n",
            "Epoch 52/69\n",
            "----------\n",
            "[0.001]\n",
            "train Loss: 0.0256 Acc: 0.8997\n",
            "test Loss: 0.0697 Acc: 0.7680\n",
            "\n",
            "Epoch 53/69\n",
            "----------\n",
            "[0.001]\n",
            "train Loss: 0.0256 Acc: 0.8969\n",
            "test Loss: 0.0703 Acc: 0.7677\n",
            "\n",
            "Epoch 54/69\n",
            "----------\n",
            "[0.001]\n",
            "train Loss: 0.0246 Acc: 0.9039\n",
            "test Loss: 0.0702 Acc: 0.7675\n",
            "\n",
            "Epoch 55/69\n",
            "----------\n",
            "[0.001]\n",
            "train Loss: 0.0228 Acc: 0.9071\n",
            "test Loss: 0.0719 Acc: 0.7615\n",
            "\n",
            "Epoch 56/69\n",
            "----------\n",
            "[0.001]\n",
            "train Loss: 0.0259 Acc: 0.9001\n",
            "test Loss: 0.0726 Acc: 0.7610\n",
            "\n",
            "Epoch 57/69\n",
            "----------\n",
            "[0.001]\n",
            "train Loss: 0.0237 Acc: 0.9044\n",
            "test Loss: 0.0717 Acc: 0.7682\n",
            "\n",
            "Epoch 58/69\n",
            "----------\n",
            "[0.001]\n",
            "train Loss: 0.0225 Acc: 0.9097\n",
            "test Loss: 0.0726 Acc: 0.7648\n",
            "\n",
            "Epoch 59/69\n",
            "----------\n",
            "[0.001]\n",
            "train Loss: 0.0249 Acc: 0.9002\n",
            "test Loss: 0.0719 Acc: 0.7644\n",
            "\n",
            "Epoch 60/69\n",
            "----------\n",
            "[1e-05]\n",
            "train Loss: 0.0218 Acc: 0.9142\n",
            "test Loss: 0.0713 Acc: 0.7677\n",
            "\n",
            "Epoch 61/69\n",
            "----------\n",
            "[0.0001]\n",
            "train Loss: 0.0243 Acc: 0.9049\n",
            "test Loss: 0.0714 Acc: 0.7680\n",
            "\n",
            "Epoch 62/69\n",
            "----------\n",
            "[0.0001]\n",
            "train Loss: 0.0233 Acc: 0.9041\n",
            "test Loss: 0.0706 Acc: 0.7692\n",
            "\n",
            "Epoch 63/69\n",
            "----------\n",
            "[0.0001]\n",
            "train Loss: 0.0250 Acc: 0.9074\n",
            "test Loss: 0.0710 Acc: 0.7710\n",
            "\n",
            "Epoch 64/69\n",
            "----------\n",
            "[0.0001]\n",
            "train Loss: 0.0227 Acc: 0.9094\n",
            "test Loss: 0.0708 Acc: 0.7696\n",
            "\n",
            "Epoch 65/69\n",
            "----------\n",
            "[0.0001]\n",
            "train Loss: 0.0216 Acc: 0.9116\n",
            "test Loss: 0.0705 Acc: 0.7682\n",
            "\n",
            "Epoch 66/69\n",
            "----------\n",
            "[0.0001]\n",
            "train Loss: 0.0234 Acc: 0.9086\n",
            "test Loss: 0.0725 Acc: 0.7663\n",
            "\n",
            "Epoch 67/69\n",
            "----------\n",
            "[0.0001]\n",
            "train Loss: 0.0227 Acc: 0.9149\n",
            "test Loss: 0.0719 Acc: 0.7668\n",
            "\n",
            "Epoch 68/69\n",
            "----------\n",
            "[0.0001]\n",
            "train Loss: 0.0233 Acc: 0.9074\n",
            "test Loss: 0.0719 Acc: 0.7701\n",
            "\n",
            "Epoch 69/69\n",
            "----------\n",
            "[0.0001]\n",
            "train Loss: 0.0211 Acc: 0.9146\n",
            "test Loss: 0.0711 Acc: 0.7673\n",
            "\n",
            "Training complete in 127m 57s\n",
            "Best test Acc: 0.776320\n"
          ],
          "name": "stdout"
        }
      ]
    },
    {
      "cell_type": "code",
      "metadata": {
        "id": "FJJTyYNGItzk",
        "colab_type": "code",
        "colab": {}
      },
      "source": [
        " model_ft = models.resnet50(pretrained=True) # loading a pre-trained(trained on image net) resnet18 model from torchvision models\n",
        "num_ftrs = model_ft.fc.in_features\n",
        "model_ft.fc = nn.Linear(num_ftrs, 200)      # changing the last layer for this dataset by setting last layer neurons to 200 as this dataset has 200 categories\n",
        " \n",
        "if use_gpu:                                 # if gpu is available then use it\n",
        "    model_ft = model_ft.cuda()       \n",
        "# model_ft = model_ft.float()\n",
        "criterion = nn.CrossEntropyLoss()           # defining loss function\n",
        "\n",
        "# Observe that all parameters are being optimized\n",
        "optimizer_ft = optim.SGD(model_ft.parameters(), lr=0.01, momentum=0.9)\n",
        "# optimizer_ft = optim.Adam(model_ft.parameters())"
      ],
      "execution_count": 0,
      "outputs": []
    },
    {
      "cell_type": "code",
      "metadata": {
        "id": "GfghLbwsunYh",
        "colab_type": "code",
        "colab": {}
      },
      "source": [
        "if os.path.exists(G_DRIVE + 'point_resnet_best.pth'):\n",
        "    checkpoint = torch.load(G_DRIVE + 'point_resnet_best.pth')\n",
        "    model_ft.load_state_dict(checkpoint['model'])\n",
        "    optimizer_ft.load_state_dict(checkpoint['optim'])"
      ],
      "execution_count": 0,
      "outputs": []
    },
    {
      "cell_type": "code",
      "metadata": {
        "id": "7UKwbVkgFv78",
        "colab_type": "code",
        "colab": {}
      },
      "source": [
        "scheduler = torch.optim.lr_scheduler.StepLR(optimizer_ft, 30, gamma=0.1, last_epoch=-1)"
      ],
      "execution_count": 0,
      "outputs": []
    },
    {
      "cell_type": "code",
      "metadata": {
        "id": "9i1u4RSiIwNE",
        "colab_type": "code",
        "colab": {}
      },
      "source": [
        "model_ft = train_model(model_ft, criterion, optimizer_ft, scheduler, num_epochs=90)"
      ],
      "execution_count": 0,
      "outputs": []
    },
    {
      "cell_type": "code",
      "metadata": {
        "id": "OCuRHECYI8Lt",
        "colab_type": "code",
        "colab": {}
      },
      "source": [
        "visualize_model(model_ft)"
      ],
      "execution_count": 0,
      "outputs": []
    },
    {
      "cell_type": "code",
      "metadata": {
        "id": "QTdGj4R6C1kS",
        "colab_type": "code",
        "colab": {}
      },
      "source": [
        "class AverageMeter(object):\n",
        "    \"\"\"Computes and stores the average and current value\"\"\"\n",
        "    def __init__(self):\n",
        "        self.reset()\n",
        "\n",
        "    def reset(self):\n",
        "        self.val = 0\n",
        "        self.avg = 0\n",
        "        self.sum = 0\n",
        "        self.count = 0\n",
        "\n",
        "    def update(self, val, n=1):\n",
        "        self.val = val\n",
        "        self.sum += val * n\n",
        "        self.count += n\n",
        "        self.avg = self.sum / self.count"
      ],
      "execution_count": 0,
      "outputs": []
    },
    {
      "cell_type": "code",
      "metadata": {
        "id": "OtjxLoYCC6rp",
        "colab_type": "code",
        "colab": {}
      },
      "source": [
        "def accuracy(output, target, topk=(1,)):\n",
        "    \"\"\"Computes the precision@k for the specified values of k\"\"\"\n",
        "    #with torch.no_grad():\n",
        "    maxk = max(topk)\n",
        "    batch_size = target.size(0)\n",
        "\n",
        "    _, pred = output.topk(maxk, 1, True, True)\n",
        "    pred = pred.t()\n",
        "    correct = pred.eq(target.view(1, -1).expand_as(pred))\n",
        "\n",
        "    res = []\n",
        "    for k in topk:\n",
        "        correct_k = correct[:k].view(-1).float().sum(0, keepdim=True)\n",
        "        res.append(correct_k.mul_(100.0 / batch_size))\n",
        "    return res"
      ],
      "execution_count": 0,
      "outputs": []
    },
    {
      "cell_type": "code",
      "metadata": {
        "id": "WVTfeL4QC8Pu",
        "colab_type": "code",
        "colab": {}
      },
      "source": [
        "def calc_accuracy(model, data):\n",
        "    model.eval()\n",
        "    if use_gpu:\n",
        "        model.cuda()    \n",
        "    \n",
        "    top1 = AverageMeter()\n",
        "    top5 = AverageMeter()\n",
        "    \n",
        "    for idx, (inputs, labels) in enumerate(dataloders[data]):\n",
        "        if use_gpu:\n",
        "            inputs, labels = inputs.cuda(), labels.cuda()\n",
        "        # obtain the outputs from the model\n",
        "        outputs = model.forward(Variable(inputs))\n",
        "        prec1, prec5 = accuracy(outputs, Variable(labels), topk=(1, 5))\n",
        "        top1.update(prec1[0], inputs.size(0))\n",
        "        top5.update(prec5[0], inputs.size(0))\n",
        "        \n",
        "    return top1 ,top5\n",
        "    \n",
        "top1 ,top5 = calc_accuracy(model_ft, 'test')"
      ],
      "execution_count": 0,
      "outputs": []
    },
    {
      "cell_type": "code",
      "metadata": {
        "id": "fUoHIwvt2t5H",
        "colab_type": "code",
        "colab": {}
      },
      "source": [
        "loss = nn.KLDivLoss()\n",
        "batch_size = 5\n",
        "aaa = torch.randn(batch_size, 10)\n",
        "bbb = torch.randn(batch_size, 10)\n",
        "log_probs1 = F.softmax(bbb)\n",
        "#log_p = F.log_softmax(aaa)\n",
        "probs2 = F.softmax(bbb)\n",
        "m = loss(log_probs1.log(), probs2)\n",
        "#print(torch.randn(batch_size, 10).shape)\n",
        "print(aaa)\n",
        "print(bbb)\n",
        "print(m)"
      ],
      "execution_count": 0,
      "outputs": []
    },
    {
      "cell_type": "code",
      "metadata": {
        "id": "0qdgn4mzC_A6",
        "colab_type": "code",
        "colab": {}
      },
      "source": [
        "top1.avg"
      ],
      "execution_count": 0,
      "outputs": []
    },
    {
      "cell_type": "code",
      "metadata": {
        "id": "bxzJ4OT4DEAY",
        "colab_type": "code",
        "colab": {}
      },
      "source": [
        "top5.avg"
      ],
      "execution_count": 0,
      "outputs": []
    }
  ]
}