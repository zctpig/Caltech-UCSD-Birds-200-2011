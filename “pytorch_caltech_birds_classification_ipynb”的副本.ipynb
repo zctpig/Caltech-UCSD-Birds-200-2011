{
  "nbformat": 4,
  "nbformat_minor": 0,
  "metadata": {
    "colab": {
      "name": "“pytorch_caltech_birds_classification.ipynb”的副本",
      "version": "0.3.2",
      "provenance": [],
      "collapsed_sections": [],
      "include_colab_link": true
    },
    "kernelspec": {
      "name": "python3",
      "display_name": "Python 3"
    },
    "accelerator": "GPU"
  },
  "cells": [
    {
      "cell_type": "markdown",
      "metadata": {
        "id": "view-in-github",
        "colab_type": "text"
      },
      "source": [
        "<a href=\"https://colab.research.google.com/github/zctpig/Caltech-UCSD-Birds-200-2011/blob/master/%E2%80%9Cpytorch_caltech_birds_classification_ipynb%E2%80%9D%E7%9A%84%E5%89%AF%E6%9C%AC.ipynb\" target=\"_parent\"><img src=\"https://colab.research.google.com/assets/colab-badge.svg\" alt=\"Open In Colab\"/></a>"
      ]
    },
    {
      "cell_type": "markdown",
      "metadata": {
        "id": "e0_q4IGTHQfK",
        "colab_type": "text"
      },
      "source": [
        "# Train Test Split"
      ]
    },
    {
      "cell_type": "code",
      "metadata": {
        "id": "qjYh8ivP_kCO",
        "colab_type": "code",
        "outputId": "f8c081eb-451f-4ded-efa2-4d6cd959ace1",
        "colab": {
          "base_uri": "https://localhost:8080/",
          "height": 449
        }
      },
      "source": [
        "!pip install scikit-image==0.14.3"
      ],
      "execution_count": 4,
      "outputs": [
        {
          "output_type": "stream",
          "text": [
            "Collecting scikit-image==0.14.3\n",
            "\u001b[?25l  Downloading https://files.pythonhosted.org/packages/09/51/8ed3f857c2e7337b98fceeb6b37e3f39ca0d9159fa80bb2c79b958c564fc/scikit_image-0.14.3-cp36-cp36m-manylinux1_x86_64.whl (25.4MB)\n",
            "\u001b[K     |████████████████████████████████| 25.4MB 1.5MB/s \n",
            "\u001b[?25hRequirement already satisfied: matplotlib>=2.0.0 in /usr/local/lib/python3.6/dist-packages (from scikit-image==0.14.3) (3.0.3)\n",
            "Requirement already satisfied: networkx>=1.8 in /usr/local/lib/python3.6/dist-packages (from scikit-image==0.14.3) (2.3)\n",
            "Requirement already satisfied: cloudpickle>=0.2.1 in /usr/local/lib/python3.6/dist-packages (from scikit-image==0.14.3) (0.6.1)\n",
            "Requirement already satisfied: scipy>=0.17.0 in /usr/local/lib/python3.6/dist-packages (from scikit-image==0.14.3) (1.3.1)\n",
            "Requirement already satisfied: six>=1.10.0 in /usr/local/lib/python3.6/dist-packages (from scikit-image==0.14.3) (1.12.0)\n",
            "Requirement already satisfied: pillow>=4.3.0 in /usr/local/lib/python3.6/dist-packages (from scikit-image==0.14.3) (4.3.0)\n",
            "Requirement already satisfied: PyWavelets>=0.4.0 in /usr/local/lib/python3.6/dist-packages (from scikit-image==0.14.3) (1.0.3)\n",
            "Requirement already satisfied: pyparsing!=2.0.4,!=2.1.2,!=2.1.6,>=2.0.1 in /usr/local/lib/python3.6/dist-packages (from matplotlib>=2.0.0->scikit-image==0.14.3) (2.4.2)\n",
            "Requirement already satisfied: cycler>=0.10 in /usr/local/lib/python3.6/dist-packages (from matplotlib>=2.0.0->scikit-image==0.14.3) (0.10.0)\n",
            "Requirement already satisfied: numpy>=1.10.0 in /usr/local/lib/python3.6/dist-packages (from matplotlib>=2.0.0->scikit-image==0.14.3) (1.16.4)\n",
            "Requirement already satisfied: kiwisolver>=1.0.1 in /usr/local/lib/python3.6/dist-packages (from matplotlib>=2.0.0->scikit-image==0.14.3) (1.1.0)\n",
            "Requirement already satisfied: python-dateutil>=2.1 in /usr/local/lib/python3.6/dist-packages (from matplotlib>=2.0.0->scikit-image==0.14.3) (2.5.3)\n",
            "Requirement already satisfied: decorator>=4.3.0 in /usr/local/lib/python3.6/dist-packages (from networkx>=1.8->scikit-image==0.14.3) (4.4.0)\n",
            "Requirement already satisfied: olefile in /usr/local/lib/python3.6/dist-packages (from pillow>=4.3.0->scikit-image==0.14.3) (0.46)\n",
            "Requirement already satisfied: setuptools in /usr/local/lib/python3.6/dist-packages (from kiwisolver>=1.0.1->matplotlib>=2.0.0->scikit-image==0.14.3) (41.1.0)\n",
            "\u001b[31mERROR: albumentations 0.1.12 has requirement imgaug<0.2.7,>=0.2.5, but you'll have imgaug 0.2.9 which is incompatible.\u001b[0m\n",
            "Installing collected packages: scikit-image\n",
            "  Found existing installation: scikit-image 0.15.0\n",
            "    Uninstalling scikit-image-0.15.0:\n",
            "      Successfully uninstalled scikit-image-0.15.0\n",
            "Successfully installed scikit-image-0.14.3\n"
          ],
          "name": "stdout"
        }
      ]
    },
    {
      "cell_type": "code",
      "metadata": {
        "id": "AfRuSpY7C4cd",
        "colab_type": "code",
        "outputId": "f90874d0-b6db-4f99-b877-fa69b8758a04",
        "colab": {
          "base_uri": "https://localhost:8080/",
          "height": 35
        }
      },
      "source": [
        "import skimage\n",
        "print(skimage.__version__)"
      ],
      "execution_count": 29,
      "outputs": [
        {
          "output_type": "stream",
          "text": [
            "0.14.3\n"
          ],
          "name": "stdout"
        }
      ]
    },
    {
      "cell_type": "code",
      "metadata": {
        "id": "fi2DHVMg-tX2",
        "colab_type": "code",
        "outputId": "d5cbab37-92f1-49d3-c87b-7c7763e2d77d",
        "colab": {
          "base_uri": "https://localhost:8080/",
          "height": 215
        }
      },
      "source": [
        "!wget --no-check-certificate \\\n",
        "    http://www.vision.caltech.edu/visipedia-data/CUB-200-2011/CUB_200_2011.tgz \\\n",
        "    -O /tmp/cats_and_dogs_filtered.zip"
      ],
      "execution_count": 6,
      "outputs": [
        {
          "output_type": "stream",
          "text": [
            "--2019-08-22 06:34:37--  http://www.vision.caltech.edu/visipedia-data/CUB-200-2011/CUB_200_2011.tgz\n",
            "Resolving www.vision.caltech.edu (www.vision.caltech.edu)... 34.208.54.77\n",
            "Connecting to www.vision.caltech.edu (www.vision.caltech.edu)|34.208.54.77|:80... connected.\n",
            "HTTP request sent, awaiting response... 200 OK\n",
            "Length: 1150585339 (1.1G) [application/x-tar]\n",
            "Saving to: ‘/tmp/cats_and_dogs_filtered.zip’\n",
            "\n",
            "/tmp/cats_and_dogs_ 100%[===================>]   1.07G  6.02MB/s    in 2m 38s  \n",
            "\n",
            "2019-08-22 06:37:15 (6.97 MB/s) - ‘/tmp/cats_and_dogs_filtered.zip’ saved [1150585339/1150585339]\n",
            "\n"
          ],
          "name": "stdout"
        }
      ]
    },
    {
      "cell_type": "code",
      "metadata": {
        "id": "ApYpsDvl_ipg",
        "colab_type": "code",
        "colab": {}
      },
      "source": [
        "!tar -zxf /tmp/cats_and_dogs_filtered.zip -C /tmp/"
      ],
      "execution_count": 0,
      "outputs": []
    },
    {
      "cell_type": "code",
      "metadata": {
        "id": "8LolthWeDfCD",
        "colab_type": "code",
        "colab": {}
      },
      "source": [
        "PATH = '/tmp/CUB_200_2011/'"
      ],
      "execution_count": 0,
      "outputs": []
    },
    {
      "cell_type": "code",
      "metadata": {
        "id": "lL8y8GfQAH8x",
        "colab_type": "code",
        "colab": {}
      },
      "source": [
        "read_line = open(PATH + 'train_test_split.txt')"
      ],
      "execution_count": 0,
      "outputs": []
    },
    {
      "cell_type": "code",
      "metadata": {
        "id": "T6MEszS8DqmW",
        "colab_type": "code",
        "colab": {}
      },
      "source": [
        "a = read_line.readlines()"
      ],
      "execution_count": 0,
      "outputs": []
    },
    {
      "cell_type": "code",
      "metadata": {
        "id": "2odUrsLRDtmh",
        "colab_type": "code",
        "outputId": "c493f3a8-a859-4f4c-d251-2d5c0ef41886",
        "colab": {
          "base_uri": "https://localhost:8080/",
          "height": 35
        }
      },
      "source": [
        "a[0].split(' ')[1].split('\\n')[0]"
      ],
      "execution_count": 96,
      "outputs": [
        {
          "output_type": "execute_result",
          "data": {
            "text/plain": [
              "'0'"
            ]
          },
          "metadata": {
            "tags": []
          },
          "execution_count": 96
        }
      ]
    },
    {
      "cell_type": "code",
      "metadata": {
        "id": "eBmCyZFyDvIg",
        "colab_type": "code",
        "outputId": "59dff1d4-a074-49ee-db0e-5c7920924b04",
        "colab": {
          "base_uri": "https://localhost:8080/",
          "height": 35
        }
      },
      "source": [
        "\n",
        "classes = open(PATH + 'classes.txt')\n",
        "c_names = classes.readlines()\n",
        "len(c_names)"
      ],
      "execution_count": 97,
      "outputs": [
        {
          "output_type": "execute_result",
          "data": {
            "text/plain": [
              "200"
            ]
          },
          "metadata": {
            "tags": []
          },
          "execution_count": 97
        }
      ]
    },
    {
      "cell_type": "code",
      "metadata": {
        "id": "10Nv0jhBDy3G",
        "colab_type": "code",
        "colab": {}
      },
      "source": [
        "for i in range(len(c_names)):\n",
        "    c_names[i] = c_names[i].split(' ')[1]"
      ],
      "execution_count": 0,
      "outputs": []
    },
    {
      "cell_type": "code",
      "metadata": {
        "id": "BZD0ojgOD24r",
        "colab_type": "code",
        "outputId": "93ce41a8-ff6d-4a09-a13b-742effb17ea7",
        "colab": {
          "base_uri": "https://localhost:8080/",
          "height": 35
        }
      },
      "source": [
        "c_names[0].split('\\n')[0]"
      ],
      "execution_count": 99,
      "outputs": [
        {
          "output_type": "execute_result",
          "data": {
            "text/plain": [
              "'001.Black_footed_Albatross'"
            ]
          },
          "metadata": {
            "tags": []
          },
          "execution_count": 99
        }
      ]
    },
    {
      "cell_type": "code",
      "metadata": {
        "id": "39EjP6DtD6jD",
        "colab_type": "code",
        "colab": {}
      },
      "source": [
        "import os\n",
        "for i in range(len(c_names)):\n",
        "    dir_name = PATH + 'test/' + c_names[i].split('\\n')[0]\n",
        "    if not os.path.exists(dir_name):\n",
        "        os.makedirs(dir_name)"
      ],
      "execution_count": 0,
      "outputs": []
    },
    {
      "cell_type": "code",
      "metadata": {
        "id": "5Cqub_7Iqxup",
        "colab_type": "code",
        "colab": {}
      },
      "source": [
        "for i in range(len(c_names)):\n",
        "    dir_name = PATH + 'train/' + c_names[i].split('\\n')[0]\n",
        "    if not os.path.exists(dir_name):\n",
        "        os.makedirs(dir_name)"
      ],
      "execution_count": 0,
      "outputs": []
    },
    {
      "cell_type": "code",
      "metadata": {
        "id": "1MpApmuYFM1d",
        "colab_type": "code",
        "colab": {}
      },
      "source": [
        "import torch\n",
        "from torch import nn, optim\n",
        "from torch.optim import lr_scheduler\n",
        "from torch.autograd import Variable\n",
        "import torchvision\n",
        "import torch.utils.data as data\n",
        "from torchvision import datasets, models, transforms"
      ],
      "execution_count": 0,
      "outputs": []
    },
    {
      "cell_type": "code",
      "metadata": {
        "id": "bV54i10bFUlI",
        "colab_type": "code",
        "colab": {}
      },
      "source": [
        "train_dataset = datasets.ImageFolder(PATH + 'images')"
      ],
      "execution_count": 0,
      "outputs": []
    },
    {
      "cell_type": "code",
      "metadata": {
        "id": "nhIxYBbcFp0_",
        "colab_type": "code",
        "colab": {}
      },
      "source": [
        "from skimage import io"
      ],
      "execution_count": 0,
      "outputs": []
    },
    {
      "cell_type": "code",
      "metadata": {
        "id": "vqDvqf9-Fyvd",
        "colab_type": "code",
        "outputId": "533e5e97-bd44-496c-980d-f57982f87c8d",
        "colab": {
          "base_uri": "https://localhost:8080/",
          "height": 35
        }
      },
      "source": [
        "print(len(train_dataset.imgs))"
      ],
      "execution_count": 105,
      "outputs": [
        {
          "output_type": "stream",
          "text": [
            "11788\n"
          ],
          "name": "stdout"
        }
      ]
    },
    {
      "cell_type": "code",
      "metadata": {
        "id": "GG0Z5C52FzwJ",
        "colab_type": "code",
        "colab": {}
      },
      "source": [
        "for j in range(len(train_dataset.imgs)):\n",
        "    if(a[j].split(' ')[1].split('\\n')[0] == '0'):\n",
        "        path = train_dataset.imgs[j][0]\n",
        "        img = io.imread(path)\n",
        "        folder = train_dataset.imgs[j][0][9:].split('/')[-2]\n",
        "        img_name = train_dataset.imgs[j][0][9:].split('/')[-1]\n",
        "        io.imsave(PATH + 'test/' + folder + '/' + img_name, img)\n",
        "        os.remove(path)\n",
        "    else:\n",
        "        path = train_dataset.imgs[j][0]\n",
        "        img = io.imread(path)\n",
        "        folder = train_dataset.imgs[j][0][9:].split('/')[-2]\n",
        "        img_name = train_dataset.imgs[j][0][9:].split('/')[-1]\n",
        "        io.imsave(PATH + 'train/' + folder + '/' + img_name, img)\n",
        "        os.remove(path)"
      ],
      "execution_count": 0,
      "outputs": []
    },
    {
      "cell_type": "code",
      "metadata": {
        "id": "IRIhVF82GHEO",
        "colab_type": "code",
        "outputId": "3f88425a-4ff7-4248-da3e-956e48863fac",
        "colab": {
          "base_uri": "https://localhost:8080/",
          "height": 35
        }
      },
      "source": [
        "total = 0\n",
        "for path, dirs, files in os.walk(PATH + 'train'):\n",
        "    total += len(files)\n",
        "print('train images number:', total)"
      ],
      "execution_count": 107,
      "outputs": [
        {
          "output_type": "stream",
          "text": [
            "train images number: 5994\n"
          ],
          "name": "stdout"
        }
      ]
    },
    {
      "cell_type": "code",
      "metadata": {
        "id": "MuVzb2oOGpXZ",
        "colab_type": "code",
        "outputId": "5767fc7d-b9e7-450d-b3d7-5eb0b79b4265",
        "colab": {
          "base_uri": "https://localhost:8080/",
          "height": 35
        }
      },
      "source": [
        "total = 0\n",
        "for path, dirs, files in os.walk(PATH + 'test'):\n",
        "    total += len(files)\n",
        "print('test images number:', total)"
      ],
      "execution_count": 108,
      "outputs": [
        {
          "output_type": "stream",
          "text": [
            "test images number: 5794\n"
          ],
          "name": "stdout"
        }
      ]
    },
    {
      "cell_type": "markdown",
      "metadata": {
        "id": "H8ugscLeHT3U",
        "colab_type": "text"
      },
      "source": [
        "# Model"
      ]
    },
    {
      "cell_type": "code",
      "metadata": {
        "id": "9_uSdFrNHDSE",
        "colab_type": "code",
        "colab": {}
      },
      "source": [
        "# here are the necessary imports\n",
        "from __future__ import print_function, division\n",
        "\n",
        "import torch\n",
        "import torch.nn as nn\n",
        "import torch.optim as optim\n",
        "from torch.autograd import Variable\n",
        "import numpy as np\n",
        "import torchvision\n",
        "from torchvision import datasets, models, transforms\n",
        "import matplotlib.pyplot as plt\n",
        "import time\n",
        "import os\n",
        "import seaborn as sns\n",
        "plt.ion()"
      ],
      "execution_count": 0,
      "outputs": []
    },
    {
      "cell_type": "code",
      "metadata": {
        "id": "t382Rrz7HYoQ",
        "colab_type": "code",
        "colab": {}
      },
      "source": [
        "# Data augmentation and normalization for training\n",
        "# Just normalization for validation\n",
        "data_transforms = {\n",
        "    'train': transforms.Compose([\n",
        "        transforms.Resize(256),\n",
        "        transforms.RandomRotation(45),\n",
        "        transforms.RandomResizedCrop(224),\n",
        "        transforms.RandomHorizontalFlip(),\n",
        "        transforms.ToTensor(),\n",
        "        transforms.Normalize([0.485, 0.456, 0.406], [0.229, 0.224, 0.225])\n",
        "    ]),\n",
        "    'test': transforms.Compose([\n",
        "        transforms.Resize(256),\n",
        "        transforms.CenterCrop(224),\n",
        "        transforms.ToTensor(),\n",
        "        transforms.Normalize([0.485, 0.456, 0.406], [0.229, 0.224, 0.225])\n",
        "    ]),\n",
        "}\n",
        "\n",
        "\n",
        "# loading datasets with PyTorch ImageFolder\n",
        "image_datasets = {x: datasets.ImageFolder(os.path.join(PATH, x),\n",
        "                                          data_transforms[x])\n",
        "                  for x in ['train', 'test']}\n",
        "# defining data loaders to load data using image_datasets and transforms, here we also specify batch size for the mini batch\n",
        "dataloders = {x: torch.utils.data.DataLoader(image_datasets[x], batch_size=8,\n",
        "                                             shuffle=True, num_workers=4)\n",
        "              for x in ['train', 'test']}\n",
        "dataset_sizes = {x: len(image_datasets[x]) for x in ['train', 'test']}\n",
        "class_names = image_datasets['train'].classes\n",
        "\n",
        "use_gpu = torch.cuda.is_available()"
      ],
      "execution_count": 0,
      "outputs": []
    },
    {
      "cell_type": "code",
      "metadata": {
        "id": "na5yE-iFHpS3",
        "colab_type": "code",
        "outputId": "eb40cdcc-2f38-495f-f9b5-3c536f06e074",
        "colab": {
          "base_uri": "https://localhost:8080/",
          "height": 35
        }
      },
      "source": [
        "dataset_sizes"
      ],
      "execution_count": 111,
      "outputs": [
        {
          "output_type": "execute_result",
          "data": {
            "text/plain": [
              "{'test': 5794, 'train': 5994}"
            ]
          },
          "metadata": {
            "tags": []
          },
          "execution_count": 111
        }
      ]
    },
    {
      "cell_type": "code",
      "metadata": {
        "id": "5EVY_mc0ILiR",
        "colab_type": "code",
        "outputId": "7ee5fa2f-0de2-469d-8886-715e1df94353",
        "colab": {
          "base_uri": "https://localhost:8080/",
          "height": 106
        }
      },
      "source": [
        "def imshow(inp, title=None):\n",
        "    \"\"\"Imshow for Tensor.\"\"\"\n",
        "    inp = inp.numpy().transpose((1, 2, 0))\n",
        "    mean = np.array([0.485, 0.456, 0.406])\n",
        "    std = np.array([0.229, 0.224, 0.225])\n",
        "    inp = std * inp + mean\n",
        "    inp = np.clip(inp, 0, 1)\n",
        "    plt.imshow(inp)\n",
        "    if title is not None:\n",
        "        plt.title(title)\n",
        "    plt.pause(0.001)  # pause a bit so that plots are updated\n",
        "\n",
        "\n",
        "# Get a batch of training data\n",
        "inputs, classes = next(iter(dataloders['train']))\n",
        "\n",
        "# Make a grid from batch\n",
        "out = torchvision.utils.make_grid(inputs)\n",
        "\n",
        "imshow(out, title=[class_names[x] for x in classes])"
      ],
      "execution_count": 112,
      "outputs": [
        {
          "output_type": "display_data",
          "data": {
            "image/png": "[encoded data removed]",
            "text/plain": [
              "<Figure size 432x288 with 1 Axes>"
            ]
          },
          "metadata": {
            "tags": []
          }
        }
      ]
    },
    {
      "cell_type": "code",
      "metadata": {
        "id": "IkNX504W5Ilr",
        "colab_type": "code",
        "outputId": "474d184d-8f05-4394-dd55-83a19a1931b1",
        "colab": {
          "base_uri": "https://localhost:8080/",
          "height": 35
        }
      },
      "source": [
        "from google.colab import drive\n",
        "drive.mount('/gdrive')"
      ],
      "execution_count": 113,
      "outputs": [
        {
          "output_type": "stream",
          "text": [
            "Drive already mounted at /gdrive; to attempt to forcibly remount, call drive.mount(\"/gdrive\", force_remount=True).\n"
          ],
          "name": "stdout"
        }
      ]
    },
    {
      "cell_type": "code",
      "metadata": {
        "id": "BD5QsQai5oyY",
        "colab_type": "code",
        "colab": {}
      },
      "source": [
        "G_DRIVE = '/gdrive/My Drive/'"
      ],
      "execution_count": 0,
      "outputs": []
    },
    {
      "cell_type": "code",
      "metadata": {
        "id": "GF-Z0PuRIPO_",
        "colab_type": "code",
        "colab": {}
      },
      "source": [
        "def train_model(model, criterion, optimizer, scheduler, num_epochs=10):\n",
        "    since = time.time()\n",
        "\n",
        "    best_model_wts = model.state_dict()\n",
        "    best_acc = 0.0\n",
        "\n",
        "    for epoch in range(num_epochs):\n",
        "        print('Epoch {}/{}'.format(epoch, num_epochs - 1))\n",
        "        print('-' * 10)\n",
        "\n",
        "        \n",
        "        # Each epoch has a training and validation phase\n",
        "        for phase in ['train', 'test']:\n",
        "            if phase == 'train':\n",
        "                print(scheduler.get_lr())\n",
        "                model.train(True)  # Set model to training mode\n",
        "            else:\n",
        "                model.train(False)  # Set model to evaluate mode\n",
        "\n",
        "            running_loss = 0.0\n",
        "            running_corrects = 0\n",
        "\n",
        "            # Iterate over data.\n",
        "            for data in dataloders[phase]:\n",
        "                # get the inputs\n",
        "                inputs, labels = data\n",
        "\n",
        "                # wrap them in Variable\n",
        "                if use_gpu:\n",
        "                    inputs = Variable(inputs.cuda())\n",
        "                    labels = Variable(labels.cuda())\n",
        "                else:\n",
        "                    inputs, labels = Variable(inputs), Variable(labels)\n",
        "\n",
        "                # zero the parameter gradients\n",
        "                optimizer.zero_grad()\n",
        "\n",
        "                # forward\n",
        "                outputs = model(inputs)\n",
        "                \n",
        "                _, preds = torch.max(outputs.data, 1)\n",
        "                loss = criterion(outputs, labels)\n",
        "\n",
        "                # backward + optimize only if in training phase\n",
        "                if phase == 'train':\n",
        "                    loss.backward()\n",
        "                    optimizer.step()\n",
        "\n",
        "                # statistics\n",
        "                running_loss += loss.item()\n",
        "                running_corrects += torch.sum(preds == labels.data).item()\n",
        "\n",
        "            epoch_loss = running_loss / dataset_sizes[phase]\n",
        "            epoch_acc = running_corrects / dataset_sizes[phase]\n",
        "\n",
        "            print('{} Loss: {:.4f} Acc: {:.4f}'.format(\n",
        "                phase, epoch_loss, epoch_acc))\n",
        "\n",
        "            # deep copy the model\n",
        "            if phase == 'test' and epoch_acc > best_acc:\n",
        "                best_acc = epoch_acc\n",
        "                best_model_wts = model.state_dict()\n",
        "                state = {'model':model_ft.state_dict(),'optim':optimizer_ft.state_dict()}\n",
        "                torch.save(state, G_DRIVE + 'point_resnet_best.pth')\n",
        "            \n",
        "            if phase == 'train':\n",
        "                scheduler.step()\n",
        "\n",
        "        print()\n",
        "\n",
        "    time_elapsed = time.time() - since\n",
        "    print('Training complete in {:.0f}m {:.0f}s'.format(\n",
        "        time_elapsed // 60, time_elapsed % 60))\n",
        "    print('Best test Acc: {:4f}'.format(best_acc))\n",
        "\n",
        "    # load best model weights\n",
        "    model.load_state_dict(best_model_wts)\n",
        "    return model"
      ],
      "execution_count": 0,
      "outputs": []
    },
    {
      "cell_type": "code",
      "metadata": {
        "id": "OqHSPFFlIW4m",
        "colab_type": "code",
        "colab": {}
      },
      "source": [
        "def visualize_model(model, num_images=8):\n",
        "    images_so_far = 0\n",
        "    fig = plt.figure()\n",
        "    \n",
        "\n",
        "    for i, data in enumerate(dataloders['test']):\n",
        "        inputs, labels = data\n",
        "        #print(labels)\n",
        "        if use_gpu:\n",
        "            inputs, labels = Variable(inputs.cuda()), Variable(labels.cuda())\n",
        "        else:\n",
        "            inputs, labels = Variable(inputs), Variable(labels)\n",
        "        #print(labels)\n",
        "        #_, lab = torch.max(labels.data, 1)\n",
        "        outputs = model(inputs)\n",
        "        #print(outputs)\n",
        "        _, preds = torch.max(outputs.data, 1)\n",
        "        #print(preds)\n",
        "\n",
        "        for j in range(inputs.size()[0]):\n",
        "            images_so_far += 1\n",
        "            ax = plt.subplot(num_images//2, 2, images_so_far)\n",
        "            ax.axis('off')\n",
        "            ax.set_title('class: {} predicted: {}'.format(class_names[labels.data[j]], class_names[preds[j]]))\n",
        "            imshow(inputs.cpu().data[j])\n",
        "\n",
        "            if images_so_far == num_images:\n",
        "                return"
      ],
      "execution_count": 0,
      "outputs": []
    },
    {
      "cell_type": "code",
      "metadata": {
        "id": "FJJTyYNGItzk",
        "colab_type": "code",
        "colab": {}
      },
      "source": [
        "model_ft = models.resnet50(pretrained=True) # loading a pre-trained(trained on image net) resnet18 model from torchvision models\n",
        "num_ftrs = model_ft.fc.in_features\n",
        "model_ft.fc = nn.Linear(num_ftrs, 200)      # changing the last layer for this dataset by setting last layer neurons to 200 as this dataset has 200 categories\n",
        " \n",
        "if use_gpu:                                 # if gpu is available then use it\n",
        "    model_ft = model_ft.cuda()       \n",
        "# model_ft = model_ft.float()\n",
        "criterion = nn.CrossEntropyLoss()           # defining loss function\n",
        "\n",
        "# Observe that all parameters are being optimized\n",
        "optimizer_ft = optim.SGD(model_ft.parameters(), lr=0.01, momentum=0.9)\n",
        "# optimizer_ft = optim.Adam(model_ft.parameters())"
      ],
      "execution_count": 0,
      "outputs": []
    },
    {
      "cell_type": "code",
      "metadata": {
        "id": "GfghLbwsunYh",
        "colab_type": "code",
        "colab": {}
      },
      "source": [
        "if os.path.exists(G_DRIVE + 'point_resnet_best.pth'):\n",
        "    checkpoint = torch.load(G_DRIVE + 'point_resnet_best.pth')\n",
        "    model_ft.load_state_dict(checkpoint['model'])\n",
        "    optimizer_ft.load_state_dict(checkpoint['optim'])"
      ],
      "execution_count": 0,
      "outputs": []
    },
    {
      "cell_type": "code",
      "metadata": {
        "id": "7UKwbVkgFv78",
        "colab_type": "code",
        "colab": {}
      },
      "source": [
        "scheduler = torch.optim.lr_scheduler.StepLR(optimizer_ft, 30, gamma=0.9, last_epoch=-1)"
      ],
      "execution_count": 0,
      "outputs": []
    },
    {
      "cell_type": "code",
      "metadata": {
        "id": "9i1u4RSiIwNE",
        "colab_type": "code",
        "outputId": "066c4ae5-7cff-4e30-d386-ce534b96b92d",
        "colab": {
          "base_uri": "https://localhost:8080/",
          "height": 1000
        }
      },
      "source": [
        "model_ft = train_model(model_ft, criterion, optimizer_ft, scheduler, num_epochs=75)"
      ],
      "execution_count": 121,
      "outputs": [
        {
          "output_type": "stream",
          "text": [
            "Epoch 0/74\n",
            "----------\n",
            "[0.01]\n",
            "train Loss: 0.6592 Acc: 0.0088\n",
            "test Loss: 0.6902 Acc: 0.0171\n",
            "\n",
            "Epoch 1/74\n",
            "----------\n",
            "[0.01]\n",
            "train Loss: 0.6328 Acc: 0.0158\n",
            "test Loss: 0.6620 Acc: 0.0228\n",
            "\n",
            "Epoch 2/74\n",
            "----------\n",
            "[0.01]\n",
            "train Loss: 0.6144 Acc: 0.0192\n",
            "test Loss: 0.6062 Acc: 0.0347\n",
            "\n",
            "Epoch 3/74\n",
            "----------\n",
            "[0.01]\n",
            "train Loss: 0.6009 Acc: 0.0285\n",
            "test Loss: 0.6022 Acc: 0.0397\n",
            "\n",
            "Epoch 4/74\n",
            "----------\n",
            "[0.01]\n",
            "train Loss: 0.5845 Acc: 0.0372\n",
            "test Loss: 0.5701 Acc: 0.0513\n",
            "\n",
            "Epoch 5/74\n",
            "----------\n",
            "[0.01]\n",
            "train Loss: 0.5643 Acc: 0.0541\n",
            "test Loss: 0.5264 Acc: 0.0873\n",
            "\n",
            "Epoch 6/74\n",
            "----------\n",
            "[0.01]\n",
            "train Loss: 0.5491 Acc: 0.0659\n",
            "test Loss: 0.5542 Acc: 0.0891\n",
            "\n",
            "Epoch 7/74\n",
            "----------\n",
            "[0.01]\n",
            "train Loss: 0.5281 Acc: 0.0824\n",
            "test Loss: 0.5267 Acc: 0.1098\n",
            "\n",
            "Epoch 8/74\n",
            "----------\n",
            "[0.01]\n",
            "train Loss: 0.5099 Acc: 0.0978\n",
            "test Loss: 0.4718 Acc: 0.1367\n",
            "\n",
            "Epoch 9/74\n",
            "----------\n",
            "[0.01]\n",
            "train Loss: 0.4910 Acc: 0.1258\n",
            "test Loss: 0.4773 Acc: 0.1672\n",
            "\n",
            "Epoch 10/74\n",
            "----------\n",
            "[0.01]\n",
            "train Loss: 0.4803 Acc: 0.1348\n",
            "test Loss: 0.4912 Acc: 0.1881\n",
            "\n",
            "Epoch 11/74\n",
            "----------\n",
            "[0.01]\n",
            "train Loss: 0.4614 Acc: 0.1588\n",
            "test Loss: 0.4237 Acc: 0.2018\n",
            "\n",
            "Epoch 12/74\n",
            "----------\n",
            "[0.01]\n",
            "train Loss: 0.4444 Acc: 0.1752\n",
            "test Loss: 0.3941 Acc: 0.2447\n",
            "\n",
            "Epoch 13/74\n",
            "----------\n",
            "[0.01]\n",
            "train Loss: 0.4263 Acc: 0.1915\n",
            "test Loss: 0.3835 Acc: 0.2812\n",
            "\n",
            "Epoch 14/74\n",
            "----------\n",
            "[0.01]\n",
            "train Loss: 0.4048 Acc: 0.2296\n",
            "test Loss: 0.3613 Acc: 0.2970\n",
            "\n",
            "Epoch 15/74\n",
            "----------\n",
            "[0.01]\n",
            "train Loss: 0.3933 Acc: 0.2464\n",
            "test Loss: 0.3667 Acc: 0.3065\n",
            "\n",
            "Epoch 16/74\n",
            "----------\n",
            "[0.01]\n",
            "train Loss: 0.3805 Acc: 0.2683\n",
            "test Loss: 0.3528 Acc: 0.3383\n",
            "\n",
            "Epoch 17/74\n",
            "----------\n",
            "[0.01]\n",
            "train Loss: 0.3621 Acc: 0.2958\n",
            "test Loss: 0.3220 Acc: 0.3624\n",
            "\n",
            "Epoch 18/74\n",
            "----------\n",
            "[0.01]\n",
            "train Loss: 0.3521 Acc: 0.3155\n",
            "test Loss: 0.3467 Acc: 0.3811\n",
            "\n",
            "Epoch 19/74\n",
            "----------\n",
            "[0.01]\n",
            "train Loss: 0.3340 Acc: 0.3382\n",
            "test Loss: 0.3032 Acc: 0.3970\n",
            "\n",
            "Epoch 20/74\n",
            "----------\n",
            "[0.01]\n",
            "train Loss: 0.3252 Acc: 0.3612\n",
            "test Loss: 0.2871 Acc: 0.4149\n",
            "\n",
            "Epoch 21/74\n",
            "----------\n",
            "[0.01]\n",
            "train Loss: 0.3140 Acc: 0.3729\n",
            "test Loss: 0.3028 Acc: 0.4275\n",
            "\n",
            "Epoch 22/74\n",
            "----------\n",
            "[0.01]\n",
            "train Loss: 0.3043 Acc: 0.4017\n",
            "test Loss: 0.2947 Acc: 0.4318\n",
            "\n",
            "Epoch 23/74\n",
            "----------\n",
            "[0.01]\n",
            "train Loss: 0.2990 Acc: 0.4001\n",
            "test Loss: 0.2932 Acc: 0.4403\n",
            "\n",
            "Epoch 24/74\n",
            "----------\n",
            "[0.01]\n",
            "train Loss: 0.2844 Acc: 0.4259\n",
            "test Loss: 0.2633 Acc: 0.4777\n",
            "\n",
            "Epoch 25/74\n",
            "----------\n",
            "[0.01]\n",
            "train Loss: 0.2799 Acc: 0.4348\n",
            "test Loss: 0.2414 Acc: 0.5117\n",
            "\n",
            "Epoch 26/74\n",
            "----------\n",
            "[0.01]\n",
            "train Loss: 0.2703 Acc: 0.4610\n",
            "test Loss: 0.2488 Acc: 0.5102\n",
            "\n",
            "Epoch 27/74\n",
            "----------\n",
            "[0.01]\n",
            "train Loss: 0.2599 Acc: 0.4740\n",
            "test Loss: 0.2351 Acc: 0.5342\n",
            "\n",
            "Epoch 28/74\n",
            "----------\n",
            "[0.01]\n",
            "train Loss: 0.2468 Acc: 0.4977\n",
            "test Loss: 0.2329 Acc: 0.5433\n",
            "\n",
            "Epoch 29/74\n",
            "----------\n",
            "[0.01]\n",
            "train Loss: 0.2416 Acc: 0.5028\n",
            "test Loss: 0.2395 Acc: 0.5245\n",
            "\n",
            "Epoch 30/74\n",
            "----------\n",
            "[0.008100000000000001]\n",
            "train Loss: 0.2304 Acc: 0.5274\n",
            "test Loss: 0.2411 Acc: 0.5356\n",
            "\n",
            "Epoch 31/74\n",
            "----------\n",
            "[0.009000000000000001]\n",
            "train Loss: 0.2258 Acc: 0.5384\n",
            "test Loss: 0.2482 Acc: 0.5292\n",
            "\n",
            "Epoch 32/74\n",
            "----------\n",
            "[0.009000000000000001]\n",
            "train Loss: 0.2190 Acc: 0.5465\n",
            "test Loss: 0.2156 Acc: 0.5827\n",
            "\n",
            "Epoch 33/74\n",
            "----------\n",
            "[0.009000000000000001]\n",
            "train Loss: 0.2106 Acc: 0.5691\n",
            "test Loss: 0.2223 Acc: 0.5763\n",
            "\n",
            "Epoch 34/74\n",
            "----------\n",
            "[0.009000000000000001]\n",
            "train Loss: 0.2060 Acc: 0.5764\n",
            "test Loss: 0.2303 Acc: 0.5563\n",
            "\n",
            "Epoch 35/74\n",
            "----------\n",
            "[0.009000000000000001]\n",
            "train Loss: 0.2034 Acc: 0.5822\n",
            "test Loss: 0.2264 Acc: 0.5687\n",
            "\n",
            "Epoch 36/74\n",
            "----------\n",
            "[0.009000000000000001]\n",
            "train Loss: 0.1959 Acc: 0.5954\n",
            "test Loss: 0.2077 Acc: 0.6115\n",
            "\n",
            "Epoch 37/74\n",
            "----------\n",
            "[0.009000000000000001]\n",
            "train Loss: 0.1895 Acc: 0.6069\n",
            "test Loss: 0.2027 Acc: 0.6061\n",
            "\n",
            "Epoch 38/74\n",
            "----------\n",
            "[0.009000000000000001]\n",
            "train Loss: 0.1853 Acc: 0.6151\n",
            "test Loss: 0.2246 Acc: 0.5827\n",
            "\n",
            "Epoch 39/74\n",
            "----------\n",
            "[0.009000000000000001]\n",
            "train Loss: 0.1853 Acc: 0.6151\n",
            "test Loss: 0.2424 Acc: 0.5789\n",
            "\n",
            "Epoch 40/74\n",
            "----------\n",
            "[0.009000000000000001]\n",
            "train Loss: 0.1799 Acc: 0.6265\n",
            "test Loss: 0.2200 Acc: 0.5929\n",
            "\n",
            "Epoch 41/74\n",
            "----------\n",
            "[0.009000000000000001]\n",
            "train Loss: 0.1798 Acc: 0.6286\n",
            "test Loss: 0.2125 Acc: 0.5989\n",
            "\n",
            "Epoch 42/74\n",
            "----------\n",
            "[0.009000000000000001]\n",
            "train Loss: 0.1772 Acc: 0.6316\n",
            "test Loss: 0.2056 Acc: 0.6137\n",
            "\n",
            "Epoch 43/74\n",
            "----------\n",
            "[0.009000000000000001]\n",
            "train Loss: 0.1764 Acc: 0.6340\n",
            "test Loss: 0.2126 Acc: 0.6061\n",
            "\n",
            "Epoch 44/74\n",
            "----------\n",
            "[0.009000000000000001]\n",
            "train Loss: 0.1717 Acc: 0.6480\n",
            "test Loss: 0.1986 Acc: 0.6244\n",
            "\n",
            "Epoch 45/74\n",
            "----------\n",
            "[0.009000000000000001]\n",
            "train Loss: 0.1632 Acc: 0.6597\n",
            "test Loss: 0.2005 Acc: 0.6363\n",
            "\n",
            "Epoch 46/74\n",
            "----------\n",
            "[0.009000000000000001]\n",
            "train Loss: 0.1620 Acc: 0.6598\n",
            "test Loss: 0.2171 Acc: 0.6132\n",
            "\n",
            "Epoch 47/74\n",
            "----------\n",
            "[0.009000000000000001]\n",
            "train Loss: 0.1585 Acc: 0.6702\n",
            "test Loss: 0.2126 Acc: 0.6099\n",
            "\n",
            "Epoch 48/74\n",
            "----------\n",
            "[0.009000000000000001]\n",
            "train Loss: 0.1575 Acc: 0.6795\n",
            "test Loss: 0.2051 Acc: 0.6315\n",
            "\n",
            "Epoch 49/74\n",
            "----------\n",
            "[0.009000000000000001]\n",
            "train Loss: 0.1555 Acc: 0.6763\n",
            "test Loss: 0.2106 Acc: 0.6149\n",
            "\n",
            "Epoch 50/74\n",
            "----------\n",
            "[0.009000000000000001]\n",
            "train Loss: 0.1509 Acc: 0.6869\n",
            "test Loss: 0.2162 Acc: 0.6433\n",
            "\n",
            "Epoch 51/74\n",
            "----------\n",
            "[0.009000000000000001]\n",
            "train Loss: 0.1495 Acc: 0.6894\n",
            "test Loss: 0.2109 Acc: 0.6357\n",
            "\n",
            "Epoch 52/74\n",
            "----------\n",
            "[0.009000000000000001]\n",
            "train Loss: 0.1524 Acc: 0.6852\n",
            "test Loss: 0.2143 Acc: 0.6158\n",
            "\n",
            "Epoch 53/74\n",
            "----------\n",
            "[0.009000000000000001]\n",
            "train Loss: 0.1420 Acc: 0.7012\n",
            "test Loss: 0.2035 Acc: 0.6460\n",
            "\n",
            "Epoch 54/74\n",
            "----------\n",
            "[0.009000000000000001]\n",
            "train Loss: 0.1395 Acc: 0.7055\n",
            "test Loss: 0.2078 Acc: 0.6319\n",
            "\n",
            "Epoch 55/74\n",
            "----------\n",
            "[0.009000000000000001]\n",
            "train Loss: 0.1360 Acc: 0.7129\n",
            "test Loss: 0.1902 Acc: 0.6672\n",
            "\n",
            "Epoch 56/74\n",
            "----------\n",
            "[0.009000000000000001]\n",
            "train Loss: 0.1356 Acc: 0.7077\n",
            "test Loss: 0.2096 Acc: 0.6452\n",
            "\n",
            "Epoch 57/74\n",
            "----------\n",
            "[0.009000000000000001]\n",
            "train Loss: 0.1346 Acc: 0.7222\n",
            "test Loss: 0.2171 Acc: 0.6343\n",
            "\n",
            "Epoch 58/74\n",
            "----------\n",
            "[0.009000000000000001]\n",
            "train Loss: 0.1303 Acc: 0.7306\n",
            "test Loss: 0.2430 Acc: 0.5982\n",
            "\n",
            "Epoch 59/74\n",
            "----------\n",
            "[0.009000000000000001]\n",
            "train Loss: 0.1273 Acc: 0.7277\n",
            "test Loss: 0.2060 Acc: 0.6467\n",
            "\n",
            "Epoch 60/74\n",
            "----------\n",
            "[0.007290000000000001]\n",
            "train Loss: 0.1240 Acc: 0.7434\n",
            "test Loss: 0.1945 Acc: 0.6609\n",
            "\n",
            "Epoch 61/74\n",
            "----------\n",
            "[0.008100000000000001]\n",
            "train Loss: 0.1223 Acc: 0.7467\n",
            "test Loss: 0.2093 Acc: 0.6603\n",
            "\n",
            "Epoch 62/74\n",
            "----------\n",
            "[0.008100000000000001]\n",
            "train Loss: 0.1164 Acc: 0.7556\n",
            "test Loss: 0.1980 Acc: 0.6638\n",
            "\n",
            "Epoch 63/74\n",
            "----------\n",
            "[0.008100000000000001]\n",
            "train Loss: 0.1092 Acc: 0.7691\n",
            "test Loss: 0.2032 Acc: 0.6628\n",
            "\n",
            "Epoch 64/74\n",
            "----------\n",
            "[0.008100000000000001]\n",
            "train Loss: 0.1145 Acc: 0.7624\n",
            "test Loss: 0.1987 Acc: 0.6719\n",
            "\n",
            "Epoch 65/74\n",
            "----------\n",
            "[0.008100000000000001]\n",
            "train Loss: 0.1123 Acc: 0.7658\n",
            "test Loss: 0.2046 Acc: 0.6645\n",
            "\n",
            "Epoch 66/74\n",
            "----------\n",
            "[0.008100000000000001]\n",
            "train Loss: 0.1095 Acc: 0.7758\n",
            "test Loss: 0.2192 Acc: 0.6452\n",
            "\n",
            "Epoch 67/74\n",
            "----------\n",
            "[0.008100000000000001]\n",
            "train Loss: 0.1109 Acc: 0.7716\n",
            "test Loss: 0.2176 Acc: 0.6502\n",
            "\n",
            "Epoch 68/74\n",
            "----------\n",
            "[0.008100000000000001]\n",
            "train Loss: 0.1085 Acc: 0.7716\n",
            "test Loss: 0.2024 Acc: 0.6634\n",
            "\n",
            "Epoch 69/74\n",
            "----------\n",
            "[0.008100000000000001]\n",
            "train Loss: 0.1081 Acc: 0.7776\n",
            "test Loss: 0.2209 Acc: 0.6584\n",
            "\n",
            "Epoch 70/74\n",
            "----------\n",
            "[0.008100000000000001]\n",
            "train Loss: 0.1092 Acc: 0.7818\n",
            "test Loss: 0.2122 Acc: 0.6633\n",
            "\n",
            "Epoch 71/74\n",
            "----------\n",
            "[0.008100000000000001]\n",
            "train Loss: 0.1067 Acc: 0.7776\n",
            "test Loss: 0.2907 Acc: 0.5885\n",
            "\n",
            "Epoch 72/74\n",
            "----------\n",
            "[0.008100000000000001]\n",
            "train Loss: 0.1156 Acc: 0.7604\n",
            "test Loss: 0.2068 Acc: 0.6612\n",
            "\n",
            "Epoch 73/74\n",
            "----------\n",
            "[0.008100000000000001]\n",
            "train Loss: 0.1088 Acc: 0.7791\n",
            "test Loss: 0.2092 Acc: 0.6521\n",
            "\n",
            "Epoch 74/74\n",
            "----------\n",
            "[0.008100000000000001]\n",
            "train Loss: 0.1024 Acc: 0.7845\n",
            "test Loss: 0.2152 Acc: 0.6505\n",
            "\n",
            "Training complete in 296m 39s\n",
            "Best test Acc: 0.671902\n"
          ],
          "name": "stdout"
        }
      ]
    },
    {
      "cell_type": "code",
      "metadata": {
        "id": "OCuRHECYI8Lt",
        "colab_type": "code",
        "colab": {}
      },
      "source": [
        "visualize_model(model_ft)"
      ],
      "execution_count": 0,
      "outputs": []
    },
    {
      "cell_type": "code",
      "metadata": {
        "id": "QTdGj4R6C1kS",
        "colab_type": "code",
        "colab": {}
      },
      "source": [
        "class AverageMeter(object):\n",
        "    \"\"\"Computes and stores the average and current value\"\"\"\n",
        "    def __init__(self):\n",
        "        self.reset()\n",
        "\n",
        "    def reset(self):\n",
        "        self.val = 0\n",
        "        self.avg = 0\n",
        "        self.sum = 0\n",
        "        self.count = 0\n",
        "\n",
        "    def update(self, val, n=1):\n",
        "        self.val = val\n",
        "        self.sum += val * n\n",
        "        self.count += n\n",
        "        self.avg = self.sum / self.count"
      ],
      "execution_count": 0,
      "outputs": []
    },
    {
      "cell_type": "code",
      "metadata": {
        "id": "OtjxLoYCC6rp",
        "colab_type": "code",
        "colab": {}
      },
      "source": [
        "def accuracy(output, target, topk=(1,)):\n",
        "    \"\"\"Computes the precision@k for the specified values of k\"\"\"\n",
        "    #with torch.no_grad():\n",
        "    maxk = max(topk)\n",
        "    batch_size = target.size(0)\n",
        "\n",
        "    _, pred = output.topk(maxk, 1, True, True)\n",
        "    pred = pred.t()\n",
        "    correct = pred.eq(target.view(1, -1).expand_as(pred))\n",
        "\n",
        "    res = []\n",
        "    for k in topk:\n",
        "        correct_k = correct[:k].view(-1).float().sum(0, keepdim=True)\n",
        "        res.append(correct_k.mul_(100.0 / batch_size))\n",
        "    return res"
      ],
      "execution_count": 0,
      "outputs": []
    },
    {
      "cell_type": "code",
      "metadata": {
        "id": "WVTfeL4QC8Pu",
        "colab_type": "code",
        "colab": {}
      },
      "source": [
        "def calc_accuracy(model, data):\n",
        "    model.eval()\n",
        "    if use_gpu:\n",
        "        model.cuda()    \n",
        "    \n",
        "    top1 = AverageMeter()\n",
        "    top5 = AverageMeter()\n",
        "    \n",
        "    for idx, (inputs, labels) in enumerate(dataloders[data]):\n",
        "        if use_gpu:\n",
        "            inputs, labels = inputs.cuda(), labels.cuda()\n",
        "        # obtain the outputs from the model\n",
        "        outputs = model.forward(Variable(inputs))\n",
        "        prec1, prec5 = accuracy(outputs, Variable(labels), topk=(1, 5))\n",
        "        top1.update(prec1[0], inputs.size(0))\n",
        "        top5.update(prec5[0], inputs.size(0))\n",
        "        \n",
        "    return top1 ,top5\n",
        "    \n",
        "top1 ,top5 = calc_accuracy(model_ft, 'test')"
      ],
      "execution_count": 0,
      "outputs": []
    },
    {
      "cell_type": "code",
      "metadata": {
        "id": "0qdgn4mzC_A6",
        "colab_type": "code",
        "colab": {}
      },
      "source": [
        "top1.avg"
      ],
      "execution_count": 0,
      "outputs": []
    },
    {
      "cell_type": "code",
      "metadata": {
        "id": "bxzJ4OT4DEAY",
        "colab_type": "code",
        "colab": {}
      },
      "source": [
        "top5.avg"
      ],
      "execution_count": 0,
      "outputs": []
    }
  ]
}