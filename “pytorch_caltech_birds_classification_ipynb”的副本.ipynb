{
  "nbformat": 4,
  "nbformat_minor": 0,
  "metadata": {
    "colab": {
      "name": "“pytorch_caltech_birds_classification.ipynb”的副本",
      "version": "0.3.2",
      "provenance": [],
      "collapsed_sections": [],
      "include_colab_link": true
    },
    "kernelspec": {
      "name": "python3",
      "display_name": "Python 3"
    },
    "accelerator": "GPU"
  },
  "cells": [
    {
      "cell_type": "markdown",
      "metadata": {
        "id": "view-in-github",
        "colab_type": "text"
      },
      "source": [
        "<a href=\"https://colab.research.google.com/github/zctpig/Caltech-UCSD-Birds-200-2011/blob/master/%E2%80%9Cpytorch_caltech_birds_classification_ipynb%E2%80%9D%E7%9A%84%E5%89%AF%E6%9C%AC.ipynb\" target=\"_parent\"><img src=\"https://colab.research.google.com/assets/colab-badge.svg\" alt=\"Open In Colab\"/></a>"
      ]
    },
    {
      "cell_type": "markdown",
      "metadata": {
        "id": "e0_q4IGTHQfK",
        "colab_type": "text"
      },
      "source": [
        "# Train Test Split"
      ]
    },
    {
      "cell_type": "code",
      "metadata": {
        "id": "qjYh8ivP_kCO",
        "colab_type": "code",
        "outputId": "29cc956a-d4c4-48a3-cd62-52b13b0ad134",
        "colab": {
          "base_uri": "https://localhost:8080/",
          "height": 469
        }
      },
      "source": [
        "!pip install scikit-image==0.14.3"
      ],
      "execution_count": 1,
      "outputs": [
        {
          "output_type": "stream",
          "text": [
            "Collecting scikit-image==0.14.3\n",
            "\u001b[?25l  Downloading https://files.pythonhosted.org/packages/09/51/8ed3f857c2e7337b98fceeb6b37e3f39ca0d9159fa80bb2c79b958c564fc/scikit_image-0.14.3-cp36-cp36m-manylinux1_x86_64.whl (25.4MB)\n",
            "\u001b[K     |████████████████████████████████| 25.4MB 1.9MB/s \n",
            "\u001b[?25hRequirement already satisfied: networkx>=1.8 in /usr/local/lib/python3.6/dist-packages (from scikit-image==0.14.3) (2.3)\n",
            "Requirement already satisfied: scipy>=0.17.0 in /usr/local/lib/python3.6/dist-packages (from scikit-image==0.14.3) (1.3.1)\n",
            "Requirement already satisfied: PyWavelets>=0.4.0 in /usr/local/lib/python3.6/dist-packages (from scikit-image==0.14.3) (1.0.3)\n",
            "Requirement already satisfied: six>=1.10.0 in /usr/local/lib/python3.6/dist-packages (from scikit-image==0.14.3) (1.12.0)\n",
            "Requirement already satisfied: cloudpickle>=0.2.1 in /usr/local/lib/python3.6/dist-packages (from scikit-image==0.14.3) (0.6.1)\n",
            "Requirement already satisfied: pillow>=4.3.0 in /usr/local/lib/python3.6/dist-packages (from scikit-image==0.14.3) (4.3.0)\n",
            "Requirement already satisfied: matplotlib>=2.0.0 in /usr/local/lib/python3.6/dist-packages (from scikit-image==0.14.3) (3.0.3)\n",
            "Requirement already satisfied: decorator>=4.3.0 in /usr/local/lib/python3.6/dist-packages (from networkx>=1.8->scikit-image==0.14.3) (4.4.0)\n",
            "Requirement already satisfied: numpy>=1.13.3 in /usr/local/lib/python3.6/dist-packages (from scipy>=0.17.0->scikit-image==0.14.3) (1.16.4)\n",
            "Requirement already satisfied: olefile in /usr/local/lib/python3.6/dist-packages (from pillow>=4.3.0->scikit-image==0.14.3) (0.46)\n",
            "Requirement already satisfied: kiwisolver>=1.0.1 in /usr/local/lib/python3.6/dist-packages (from matplotlib>=2.0.0->scikit-image==0.14.3) (1.1.0)\n",
            "Requirement already satisfied: cycler>=0.10 in /usr/local/lib/python3.6/dist-packages (from matplotlib>=2.0.0->scikit-image==0.14.3) (0.10.0)\n",
            "Requirement already satisfied: pyparsing!=2.0.4,!=2.1.2,!=2.1.6,>=2.0.1 in /usr/local/lib/python3.6/dist-packages (from matplotlib>=2.0.0->scikit-image==0.14.3) (2.4.2)\n",
            "Requirement already satisfied: python-dateutil>=2.1 in /usr/local/lib/python3.6/dist-packages (from matplotlib>=2.0.0->scikit-image==0.14.3) (2.5.3)\n",
            "Requirement already satisfied: setuptools in /usr/local/lib/python3.6/dist-packages (from kiwisolver>=1.0.1->matplotlib>=2.0.0->scikit-image==0.14.3) (41.1.0)\n",
            "\u001b[31mERROR: albumentations 0.1.12 has requirement imgaug<0.2.7,>=0.2.5, but you'll have imgaug 0.2.9 which is incompatible.\u001b[0m\n",
            "Installing collected packages: scikit-image\n",
            "  Found existing installation: scikit-image 0.15.0\n",
            "    Uninstalling scikit-image-0.15.0:\n",
            "      Successfully uninstalled scikit-image-0.15.0\n",
            "Successfully installed scikit-image-0.14.3\n"
          ],
          "name": "stdout"
        }
      ]
    },
    {
      "cell_type": "code",
      "metadata": {
        "id": "AfRuSpY7C4cd",
        "colab_type": "code",
        "outputId": "da8b728c-4ec3-4c64-8f8f-0955ce5b3054",
        "colab": {
          "base_uri": "https://localhost:8080/",
          "height": 35
        }
      },
      "source": [
        "import skimage\n",
        "print(skimage.__version__)"
      ],
      "execution_count": 2,
      "outputs": [
        {
          "output_type": "stream",
          "text": [
            "0.14.3\n"
          ],
          "name": "stdout"
        }
      ]
    },
    {
      "cell_type": "code",
      "metadata": {
        "id": "fi2DHVMg-tX2",
        "colab_type": "code",
        "outputId": "480f5055-0281-4c76-f538-6d9fcf106aa0",
        "colab": {
          "base_uri": "https://localhost:8080/",
          "height": 215
        }
      },
      "source": [
        "!wget --no-check-certificate \\\n",
        "    http://www.vision.caltech.edu/visipedia-data/CUB-200-2011/CUB_200_2011.tgz \\\n",
        "    -O /tmp/cats_and_dogs_filtered.zip"
      ],
      "execution_count": 3,
      "outputs": [
        {
          "output_type": "stream",
          "text": [
            "--2019-08-23 07:04:45--  http://www.vision.caltech.edu/visipedia-data/CUB-200-2011/CUB_200_2011.tgz\n",
            "Resolving www.vision.caltech.edu (www.vision.caltech.edu)... 34.208.54.77\n",
            "Connecting to www.vision.caltech.edu (www.vision.caltech.edu)|34.208.54.77|:80... connected.\n",
            "HTTP request sent, awaiting response... 200 OK\n",
            "Length: 1150585339 (1.1G) [application/x-tar]\n",
            "Saving to: ‘/tmp/cats_and_dogs_filtered.zip’\n",
            "\n",
            "/tmp/cats_and_dogs_ 100%[===================>]   1.07G  7.22MB/s    in 2m 28s  \n",
            "\n",
            "2019-08-23 07:07:13 (7.42 MB/s) - ‘/tmp/cats_and_dogs_filtered.zip’ saved [1150585339/1150585339]\n",
            "\n"
          ],
          "name": "stdout"
        }
      ]
    },
    {
      "cell_type": "code",
      "metadata": {
        "id": "ApYpsDvl_ipg",
        "colab_type": "code",
        "colab": {}
      },
      "source": [
        "!tar -zxf /tmp/cats_and_dogs_filtered.zip -C /tmp/"
      ],
      "execution_count": 0,
      "outputs": []
    },
    {
      "cell_type": "code",
      "metadata": {
        "id": "8LolthWeDfCD",
        "colab_type": "code",
        "colab": {}
      },
      "source": [
        "PATH = '/tmp/CUB_200_2011/'"
      ],
      "execution_count": 0,
      "outputs": []
    },
    {
      "cell_type": "code",
      "metadata": {
        "id": "lL8y8GfQAH8x",
        "colab_type": "code",
        "colab": {}
      },
      "source": [
        "read_line = open(PATH + 'train_test_split.txt')"
      ],
      "execution_count": 0,
      "outputs": []
    },
    {
      "cell_type": "code",
      "metadata": {
        "id": "T6MEszS8DqmW",
        "colab_type": "code",
        "colab": {}
      },
      "source": [
        "a = read_line.readlines()"
      ],
      "execution_count": 0,
      "outputs": []
    },
    {
      "cell_type": "code",
      "metadata": {
        "id": "2odUrsLRDtmh",
        "colab_type": "code",
        "outputId": "b2dd2257-65f5-4186-c378-7b5b0b20b1d8",
        "colab": {
          "base_uri": "https://localhost:8080/",
          "height": 35
        }
      },
      "source": [
        "a[0].split(' ')[1].split('\\n')[0]"
      ],
      "execution_count": 8,
      "outputs": [
        {
          "output_type": "execute_result",
          "data": {
            "text/plain": [
              "'0'"
            ]
          },
          "metadata": {
            "tags": []
          },
          "execution_count": 8
        }
      ]
    },
    {
      "cell_type": "code",
      "metadata": {
        "id": "eBmCyZFyDvIg",
        "colab_type": "code",
        "outputId": "2a3ded4c-ad8a-4a59-c7df-439d45bcc4be",
        "colab": {
          "base_uri": "https://localhost:8080/",
          "height": 35
        }
      },
      "source": [
        "\n",
        "classes = open(PATH + 'classes.txt')\n",
        "c_names = classes.readlines()\n",
        "len(c_names)"
      ],
      "execution_count": 9,
      "outputs": [
        {
          "output_type": "execute_result",
          "data": {
            "text/plain": [
              "200"
            ]
          },
          "metadata": {
            "tags": []
          },
          "execution_count": 9
        }
      ]
    },
    {
      "cell_type": "code",
      "metadata": {
        "id": "10Nv0jhBDy3G",
        "colab_type": "code",
        "colab": {}
      },
      "source": [
        "for i in range(len(c_names)):\n",
        "    c_names[i] = c_names[i].split(' ')[1]"
      ],
      "execution_count": 0,
      "outputs": []
    },
    {
      "cell_type": "code",
      "metadata": {
        "id": "BZD0ojgOD24r",
        "colab_type": "code",
        "outputId": "525bf3ee-2115-49cd-e9f1-7d99b65b0abf",
        "colab": {
          "base_uri": "https://localhost:8080/",
          "height": 35
        }
      },
      "source": [
        "c_names[0].split('\\n')[0]"
      ],
      "execution_count": 11,
      "outputs": [
        {
          "output_type": "execute_result",
          "data": {
            "text/plain": [
              "'001.Black_footed_Albatross'"
            ]
          },
          "metadata": {
            "tags": []
          },
          "execution_count": 11
        }
      ]
    },
    {
      "cell_type": "code",
      "metadata": {
        "id": "39EjP6DtD6jD",
        "colab_type": "code",
        "colab": {}
      },
      "source": [
        "import os\n",
        "for i in range(len(c_names)):\n",
        "    dir_name = PATH + 'test/' + c_names[i].split('\\n')[0]\n",
        "    if not os.path.exists(dir_name):\n",
        "        os.makedirs(dir_name)"
      ],
      "execution_count": 0,
      "outputs": []
    },
    {
      "cell_type": "code",
      "metadata": {
        "id": "5Cqub_7Iqxup",
        "colab_type": "code",
        "colab": {}
      },
      "source": [
        "for i in range(len(c_names)):\n",
        "    dir_name = PATH + 'train/' + c_names[i].split('\\n')[0]\n",
        "    if not os.path.exists(dir_name):\n",
        "        os.makedirs(dir_name)"
      ],
      "execution_count": 0,
      "outputs": []
    },
    {
      "cell_type": "code",
      "metadata": {
        "id": "1MpApmuYFM1d",
        "colab_type": "code",
        "colab": {}
      },
      "source": [
        "import torch\n",
        "from torch import nn, optim\n",
        "from torch.optim import lr_scheduler\n",
        "from torch.autograd import Variable\n",
        "import torchvision\n",
        "import torch.utils.data as data\n",
        "from torchvision import datasets, models, transforms"
      ],
      "execution_count": 0,
      "outputs": []
    },
    {
      "cell_type": "code",
      "metadata": {
        "id": "bV54i10bFUlI",
        "colab_type": "code",
        "colab": {}
      },
      "source": [
        "train_dataset = datasets.ImageFolder(PATH + 'images')"
      ],
      "execution_count": 0,
      "outputs": []
    },
    {
      "cell_type": "code",
      "metadata": {
        "id": "nhIxYBbcFp0_",
        "colab_type": "code",
        "colab": {}
      },
      "source": [
        "from skimage import io"
      ],
      "execution_count": 0,
      "outputs": []
    },
    {
      "cell_type": "code",
      "metadata": {
        "id": "vqDvqf9-Fyvd",
        "colab_type": "code",
        "outputId": "d6301d94-9ec8-489c-bfef-e0064dd42654",
        "colab": {
          "base_uri": "https://localhost:8080/",
          "height": 35
        }
      },
      "source": [
        "print(len(train_dataset.imgs))"
      ],
      "execution_count": 17,
      "outputs": [
        {
          "output_type": "stream",
          "text": [
            "11788\n"
          ],
          "name": "stdout"
        }
      ]
    },
    {
      "cell_type": "code",
      "metadata": {
        "id": "GG0Z5C52FzwJ",
        "colab_type": "code",
        "colab": {}
      },
      "source": [
        "for j in range(len(train_dataset.imgs)):\n",
        "    if(a[j].split(' ')[1].split('\\n')[0] == '0'):\n",
        "        path = train_dataset.imgs[j][0]\n",
        "        img = io.imread(path)\n",
        "        folder = train_dataset.imgs[j][0][9:].split('/')[-2]\n",
        "        img_name = train_dataset.imgs[j][0][9:].split('/')[-1]\n",
        "        io.imsave(PATH + 'test/' + folder + '/' + img_name, img)\n",
        "        os.remove(path)\n",
        "    else:\n",
        "        path = train_dataset.imgs[j][0]\n",
        "        img = io.imread(path)\n",
        "        folder = train_dataset.imgs[j][0][9:].split('/')[-2]\n",
        "        img_name = train_dataset.imgs[j][0][9:].split('/')[-1]\n",
        "        io.imsave(PATH + 'train/' + folder + '/' + img_name, img)\n",
        "        os.remove(path)"
      ],
      "execution_count": 0,
      "outputs": []
    },
    {
      "cell_type": "code",
      "metadata": {
        "id": "IRIhVF82GHEO",
        "colab_type": "code",
        "outputId": "6b6cfa77-4bf7-4740-8085-1c19feba28cc",
        "colab": {
          "base_uri": "https://localhost:8080/",
          "height": 35
        }
      },
      "source": [
        "total = 0\n",
        "for path, dirs, files in os.walk(PATH + 'train'):\n",
        "    total += len(files)\n",
        "print('train images number:', total)"
      ],
      "execution_count": 19,
      "outputs": [
        {
          "output_type": "stream",
          "text": [
            "train images number: 5994\n"
          ],
          "name": "stdout"
        }
      ]
    },
    {
      "cell_type": "code",
      "metadata": {
        "id": "MuVzb2oOGpXZ",
        "colab_type": "code",
        "outputId": "a0642d87-fb9f-4fe0-9601-f2a46f7284f5",
        "colab": {
          "base_uri": "https://localhost:8080/",
          "height": 35
        }
      },
      "source": [
        "total = 0\n",
        "for path, dirs, files in os.walk(PATH + 'test'):\n",
        "    total += len(files)\n",
        "print('test images number:', total)"
      ],
      "execution_count": 20,
      "outputs": [
        {
          "output_type": "stream",
          "text": [
            "test images number: 5794\n"
          ],
          "name": "stdout"
        }
      ]
    },
    {
      "cell_type": "markdown",
      "metadata": {
        "id": "H8ugscLeHT3U",
        "colab_type": "text"
      },
      "source": [
        "# Model"
      ]
    },
    {
      "cell_type": "code",
      "metadata": {
        "id": "9_uSdFrNHDSE",
        "colab_type": "code",
        "colab": {}
      },
      "source": [
        "# here are the necessary imports\n",
        "from __future__ import print_function, division\n",
        "\n",
        "import torch\n",
        "import torch.nn as nn\n",
        "import torch.optim as optim\n",
        "from torch.autograd import Variable\n",
        "import numpy as np\n",
        "import torchvision\n",
        "from torchvision import datasets, models, transforms\n",
        "import matplotlib.pyplot as plt\n",
        "import time\n",
        "import os\n",
        "import seaborn as sns\n",
        "plt.ion()"
      ],
      "execution_count": 0,
      "outputs": []
    },
    {
      "cell_type": "code",
      "metadata": {
        "id": "t382Rrz7HYoQ",
        "colab_type": "code",
        "colab": {}
      },
      "source": [
        "# Data augmentation and normalization for training\n",
        "# Just normalization for validation\n",
        "data_transforms = {\n",
        "    'train': transforms.Compose([\n",
        "        transforms.Resize(256),\n",
        "        transforms.RandomRotation(45),\n",
        "        transforms.RandomResizedCrop(224),\n",
        "        transforms.RandomHorizontalFlip(),\n",
        "        transforms.ToTensor(),\n",
        "        transforms.Normalize([0.485, 0.456, 0.406], [0.229, 0.224, 0.225])\n",
        "    ]),\n",
        "    'test': transforms.Compose([\n",
        "        transforms.Resize(256),\n",
        "        transforms.CenterCrop(224),\n",
        "        transforms.ToTensor(),\n",
        "        transforms.Normalize([0.485, 0.456, 0.406], [0.229, 0.224, 0.225])\n",
        "    ]),\n",
        "}\n",
        "\n",
        "\n",
        "# loading datasets with PyTorch ImageFolder\n",
        "image_datasets = {x: datasets.ImageFolder(os.path.join(PATH, x),\n",
        "                                          data_transforms[x])\n",
        "                  for x in ['train', 'test']}\n",
        "# defining data loaders to load data using image_datasets and transforms, here we also specify batch size for the mini batch\n",
        "dataloders = {x: torch.utils.data.DataLoader(image_datasets[x], batch_size=8,\n",
        "                                             shuffle=True, num_workers=4)\n",
        "              for x in ['train', 'test']}\n",
        "dataset_sizes = {x: len(image_datasets[x]) for x in ['train', 'test']}\n",
        "class_names = image_datasets['train'].classes\n",
        "\n",
        "use_gpu = torch.cuda.is_available()"
      ],
      "execution_count": 0,
      "outputs": []
    },
    {
      "cell_type": "code",
      "metadata": {
        "id": "na5yE-iFHpS3",
        "colab_type": "code",
        "outputId": "fc503f72-7f66-4a64-89ef-6101a6c24317",
        "colab": {
          "base_uri": "https://localhost:8080/",
          "height": 35
        }
      },
      "source": [
        "dataset_sizes"
      ],
      "execution_count": 23,
      "outputs": [
        {
          "output_type": "execute_result",
          "data": {
            "text/plain": [
              "{'test': 5794, 'train': 5994}"
            ]
          },
          "metadata": {
            "tags": []
          },
          "execution_count": 23
        }
      ]
    },
    {
      "cell_type": "code",
      "metadata": {
        "id": "5EVY_mc0ILiR",
        "colab_type": "code",
        "outputId": "147814c2-2856-4a96-bd16-5555ce2d0f9d",
        "colab": {
          "base_uri": "https://localhost:8080/",
          "height": 127
        }
      },
      "source": [
        "def imshow(inp, title=None):\n",
        "    \"\"\"Imshow for Tensor.\"\"\"\n",
        "    inp = inp.numpy().transpose((1, 2, 0))\n",
        "    mean = np.array([0.485, 0.456, 0.406])\n",
        "    std = np.array([0.229, 0.224, 0.225])\n",
        "    inp = std * inp + mean\n",
        "    inp = np.clip(inp, 0, 1)\n",
        "    plt.imshow(inp)\n",
        "    if title is not None:\n",
        "        plt.title(title)\n",
        "    plt.pause(0.001)  # pause a bit so that plots are updated\n",
        "\n",
        "\n",
        "# Get a batch of training data\n",
        "inputs, classes = next(iter(dataloders['train']))\n",
        "\n",
        "# Make a grid from batch\n",
        "out = torchvision.utils.make_grid(inputs)\n",
        "\n",
        "imshow(out, title=[class_names[x] for x in classes])"
      ],
      "execution_count": 24,
      "outputs": [
        {
          "output_type": "display_data",
          "data": {
            "image/png": "[encoded data removed]",
            "text/plain": [
              "<Figure size 432x288 with 1 Axes>"
            ]
          },
          "metadata": {
            "tags": []
          }
        }
      ]
    },
    {
      "cell_type": "code",
      "metadata": {
        "id": "IkNX504W5Ilr",
        "colab_type": "code",
        "outputId": "9c11e667-c915-44aa-d3d4-3a234738c2d1",
        "colab": {
          "base_uri": "https://localhost:8080/",
          "height": 127
        }
      },
      "source": [
        "from google.colab import drive\n",
        "drive.mount('/gdrive')"
      ],
      "execution_count": 25,
      "outputs": [
        {
          "output_type": "stream",
          "text": [
            "Go to this URL in a browser: https://accounts.google.com/o/oauth2/auth?client_id=947318989803-6bn6qk8qdgf4n4g3pfee6491hc0brc4i.apps.googleusercontent.com&redirect_uri=urn%3Aietf%3Awg%3Aoauth%3A2.0%3Aoob&scope=email%20https%3A%2F%2Fwww.googleapis.com%2Fauth%2Fdocs.test%20https%3A%2F%2Fwww.googleapis.com%2Fauth%2Fdrive%20https%3A%2F%2Fwww.googleapis.com%2Fauth%2Fdrive.photos.readonly%20https%3A%2F%2Fwww.googleapis.com%2Fauth%2Fpeopleapi.readonly&response_type=code\n",
            "\n",
            "Enter your authorization code:\n",
            "··········\n",
            "Mounted at /gdrive\n"
          ],
          "name": "stdout"
        }
      ]
    },
    {
      "cell_type": "code",
      "metadata": {
        "id": "BD5QsQai5oyY",
        "colab_type": "code",
        "colab": {}
      },
      "source": [
        "G_DRIVE = '/gdrive/My Drive/'"
      ],
      "execution_count": 0,
      "outputs": []
    },
    {
      "cell_type": "code",
      "metadata": {
        "id": "GF-Z0PuRIPO_",
        "colab_type": "code",
        "colab": {}
      },
      "source": [
        "def train_model(model, criterion, optimizer, scheduler, num_epochs=10):\n",
        "    since = time.time()\n",
        "\n",
        "    best_model_wts = model.state_dict()\n",
        "    best_acc = 0.0\n",
        "\n",
        "    for epoch in range(num_epochs):\n",
        "        print('Epoch {}/{}'.format(epoch, num_epochs - 1))\n",
        "        print('-' * 10)\n",
        "\n",
        "        \n",
        "        # Each epoch has a training and validation phase\n",
        "        for phase in ['train', 'test']:\n",
        "            if phase == 'train':\n",
        "                print(scheduler.get_lr())\n",
        "                model.train(True)  # Set model to training mode\n",
        "            else:\n",
        "                model.train(False)  # Set model to evaluate mode\n",
        "\n",
        "            running_loss = 0.0\n",
        "            running_corrects = 0\n",
        "\n",
        "            # Iterate over data.\n",
        "            for data in dataloders[phase]:\n",
        "                # get the inputs\n",
        "                inputs, labels = data\n",
        "\n",
        "                # wrap them in Variable\n",
        "                if use_gpu:\n",
        "                    inputs = Variable(inputs.cuda())\n",
        "                    labels = Variable(labels.cuda())\n",
        "                else:\n",
        "                    inputs, labels = Variable(inputs), Variable(labels)\n",
        "\n",
        "                # zero the parameter gradients\n",
        "                optimizer.zero_grad()\n",
        "\n",
        "                # forward\n",
        "                outputs = model(inputs)\n",
        "                \n",
        "                _, preds = torch.max(outputs.data, 1)\n",
        "                loss = criterion(outputs, labels)\n",
        "\n",
        "                # backward + optimize only if in training phase\n",
        "                if phase == 'train':\n",
        "                    loss.backward()\n",
        "                    optimizer.step()\n",
        "\n",
        "                # statistics\n",
        "                running_loss += loss.item()\n",
        "                running_corrects += torch.sum(preds == labels.data).item()\n",
        "\n",
        "            epoch_loss = running_loss / dataset_sizes[phase]\n",
        "            epoch_acc = running_corrects / dataset_sizes[phase]\n",
        "\n",
        "            print('{} Loss: {:.4f} Acc: {:.4f}'.format(\n",
        "                phase, epoch_loss, epoch_acc))\n",
        "\n",
        "            # deep copy the model\n",
        "            if phase == 'test' and epoch_acc > best_acc:\n",
        "                best_acc = epoch_acc\n",
        "                best_model_wts = model.state_dict()\n",
        "                state = {'model':model_ft.state_dict(),'optim':optimizer_ft.state_dict()}\n",
        "                torch.save(state, G_DRIVE + 'point_resnet_best.pth')\n",
        "            \n",
        "            if phase == 'train':\n",
        "                scheduler.step()\n",
        "\n",
        "        print()\n",
        "\n",
        "    time_elapsed = time.time() - since\n",
        "    print('Training complete in {:.0f}m {:.0f}s'.format(\n",
        "        time_elapsed // 60, time_elapsed % 60))\n",
        "    print('Best test Acc: {:4f}'.format(best_acc))\n",
        "\n",
        "    # load best model weights\n",
        "    model.load_state_dict(best_model_wts)\n",
        "    return model"
      ],
      "execution_count": 0,
      "outputs": []
    },
    {
      "cell_type": "code",
      "metadata": {
        "id": "OqHSPFFlIW4m",
        "colab_type": "code",
        "colab": {}
      },
      "source": [
        "def visualize_model(model, num_images=8):\n",
        "    images_so_far = 0\n",
        "    fig = plt.figure()\n",
        "    \n",
        "\n",
        "    for i, data in enumerate(dataloders['test']):\n",
        "        inputs, labels = data\n",
        "        #print(labels)\n",
        "        if use_gpu:\n",
        "            inputs, labels = Variable(inputs.cuda()), Variable(labels.cuda())\n",
        "        else:\n",
        "            inputs, labels = Variable(inputs), Variable(labels)\n",
        "        #print(labels)\n",
        "        #_, lab = torch.max(labels.data, 1)\n",
        "        outputs = model(inputs)\n",
        "        #print(outputs)\n",
        "        _, preds = torch.max(outputs.data, 1)\n",
        "        #print(preds)\n",
        "\n",
        "        for j in range(inputs.size()[0]):\n",
        "            images_so_far += 1\n",
        "            ax = plt.subplot(num_images//2, 2, images_so_far)\n",
        "            ax.axis('off')\n",
        "            ax.set_title('class: {} predicted: {}'.format(class_names[labels.data[j]], class_names[preds[j]]))\n",
        "            imshow(inputs.cpu().data[j])\n",
        "\n",
        "            if images_so_far == num_images:\n",
        "                return"
      ],
      "execution_count": 0,
      "outputs": []
    },
    {
      "cell_type": "code",
      "metadata": {
        "id": "FJJTyYNGItzk",
        "colab_type": "code",
        "colab": {}
      },
      "source": [
        "model_ft = models.resnet50(pretrained=True) # loading a pre-trained(trained on image net) resnet18 model from torchvision models\n",
        "num_ftrs = model_ft.fc.in_features\n",
        "model_ft.fc = nn.Linear(num_ftrs, 200)      # changing the last layer for this dataset by setting last layer neurons to 200 as this dataset has 200 categories\n",
        " \n",
        "if use_gpu:                                 # if gpu is available then use it\n",
        "    model_ft = model_ft.cuda()       \n",
        "# model_ft = model_ft.float()\n",
        "criterion = nn.CrossEntropyLoss()           # defining loss function\n",
        "\n",
        "# Observe that all parameters are being optimized\n",
        "optimizer_ft = optim.SGD(model_ft.parameters(), lr=0.01, momentum=0.9)\n",
        "# optimizer_ft = optim.Adam(model_ft.parameters())"
      ],
      "execution_count": 0,
      "outputs": []
    },
    {
      "cell_type": "code",
      "metadata": {
        "id": "GfghLbwsunYh",
        "colab_type": "code",
        "colab": {}
      },
      "source": [
        "if os.path.exists(G_DRIVE + 'point_resnet_best.pth'):\n",
        "    checkpoint = torch.load(G_DRIVE + 'point_resnet_best.pth')\n",
        "    model_ft.load_state_dict(checkpoint['model'])\n",
        "    optimizer_ft.load_state_dict(checkpoint['optim'])"
      ],
      "execution_count": 0,
      "outputs": []
    },
    {
      "cell_type": "code",
      "metadata": {
        "id": "7UKwbVkgFv78",
        "colab_type": "code",
        "colab": {}
      },
      "source": [
        "scheduler = torch.optim.lr_scheduler.StepLR(optimizer_ft, 30, gamma=0.1, last_epoch=-1)"
      ],
      "execution_count": 0,
      "outputs": []
    },
    {
      "cell_type": "code",
      "metadata": {
        "id": "9i1u4RSiIwNE",
        "colab_type": "code",
        "outputId": "643486ef-8342-406b-d026-f46b48b9044c",
        "colab": {
          "base_uri": "https://localhost:8080/",
          "height": 1000
        }
      },
      "source": [
        "model_ft = train_model(model_ft, criterion, optimizer_ft, scheduler, num_epochs=90)"
      ],
      "execution_count": 32,
      "outputs": [
        {
          "output_type": "stream",
          "text": [
            "train Loss: 0.6697 Acc: 0.0065\n",
            "test Loss: 0.6317 Acc: 0.0174\n",
            "\n",
            "Epoch 1/89\n",
            "----------\n",
            "[0.01]\n",
            "train Loss: 0.6257 Acc: 0.0199\n",
            "test Loss: 0.6294 Acc: 0.0333\n",
            "\n",
            "Epoch 2/89\n",
            "----------\n",
            "[0.01]\n",
            "train Loss: 0.5848 Acc: 0.0367\n",
            "test Loss: 0.5398 Acc: 0.0828\n",
            "\n",
            "Epoch 3/89\n",
            "----------\n",
            "[0.01]\n",
            "train Loss: 0.5471 Acc: 0.0607\n",
            "test Loss: 0.5182 Acc: 0.0991\n",
            "\n",
            "Epoch 4/89\n",
            "----------\n",
            "[0.01]\n",
            "train Loss: 0.5059 Acc: 0.1021\n",
            "test Loss: 0.4442 Acc: 0.1702\n",
            "\n",
            "Epoch 5/89\n",
            "----------\n",
            "[0.01]\n",
            "train Loss: 0.4854 Acc: 0.1243\n",
            "test Loss: 0.5082 Acc: 0.1738\n",
            "\n",
            "Epoch 6/89\n",
            "----------\n",
            "[0.01]\n",
            "train Loss: 0.4510 Acc: 0.1693\n",
            "test Loss: 0.3853 Acc: 0.2440\n",
            "\n",
            "Epoch 7/89\n",
            "----------\n",
            "[0.01]\n",
            "train Loss: 0.4270 Acc: 0.1947\n",
            "test Loss: 0.4038 Acc: 0.2610\n",
            "\n",
            "Epoch 8/89\n",
            "----------\n",
            "[0.01]\n",
            "train Loss: 0.4017 Acc: 0.2379\n",
            "test Loss: 0.3658 Acc: 0.3165\n",
            "\n",
            "Epoch 9/89\n",
            "----------\n",
            "[0.01]\n",
            "train Loss: 0.3754 Acc: 0.2744\n",
            "test Loss: 0.3836 Acc: 0.3240\n",
            "\n",
            "Epoch 10/89\n",
            "----------\n",
            "[0.01]\n",
            "train Loss: 0.3611 Acc: 0.2965\n",
            "test Loss: 0.2932 Acc: 0.4004\n",
            "\n",
            "Epoch 11/89\n",
            "----------\n",
            "[0.01]\n",
            "train Loss: 0.3453 Acc: 0.3215\n",
            "test Loss: 0.3169 Acc: 0.3923\n",
            "\n",
            "Epoch 12/89\n",
            "----------\n",
            "[0.01]\n",
            "train Loss: 0.3287 Acc: 0.3539\n",
            "test Loss: 0.3027 Acc: 0.4184\n",
            "\n",
            "Epoch 13/89\n",
            "----------\n",
            "[0.01]\n",
            "train Loss: 0.3156 Acc: 0.3759\n",
            "test Loss: 0.2689 Acc: 0.4518\n",
            "\n",
            "Epoch 14/89\n",
            "----------\n",
            "[0.01]\n",
            "train Loss: 0.3044 Acc: 0.3906\n",
            "test Loss: 0.2685 Acc: 0.4753\n",
            "\n",
            "Epoch 15/89\n",
            "----------\n",
            "[0.01]\n",
            "train Loss: 0.2895 Acc: 0.4229\n",
            "test Loss: 0.2331 Acc: 0.5375\n",
            "\n",
            "Epoch 16/89\n",
            "----------\n",
            "[0.01]\n",
            "train Loss: 0.2787 Acc: 0.4403\n",
            "test Loss: 0.2497 Acc: 0.5192\n",
            "\n",
            "Epoch 17/89\n",
            "----------\n",
            "[0.01]\n",
            "train Loss: 0.2717 Acc: 0.4515\n",
            "test Loss: 0.2463 Acc: 0.5164\n",
            "\n",
            "Epoch 18/89\n",
            "----------\n",
            "[0.01]\n",
            "train Loss: 0.2615 Acc: 0.4768\n",
            "test Loss: 0.2863 Acc: 0.4864\n",
            "\n",
            "Epoch 19/89\n",
            "----------\n",
            "[0.01]\n",
            "train Loss: 0.2492 Acc: 0.4975\n",
            "test Loss: 0.2311 Acc: 0.5642\n",
            "\n",
            "Epoch 20/89\n",
            "----------\n",
            "[0.01]\n",
            "train Loss: 0.2437 Acc: 0.5015\n",
            "test Loss: 0.2381 Acc: 0.5454\n",
            "\n",
            "Epoch 21/89\n",
            "----------\n",
            "[0.01]\n",
            "train Loss: 0.2397 Acc: 0.5133\n",
            "test Loss: 0.2279 Acc: 0.5590\n",
            "\n",
            "Epoch 22/89\n",
            "----------\n",
            "[0.01]\n",
            "train Loss: 0.2311 Acc: 0.5314\n",
            "test Loss: 0.2256 Acc: 0.5673\n",
            "\n",
            "Epoch 23/89\n",
            "----------\n",
            "[0.01]\n",
            "train Loss: 0.2204 Acc: 0.5457\n",
            "test Loss: 0.2598 Acc: 0.5457\n",
            "\n",
            "Epoch 24/89\n",
            "----------\n",
            "[0.01]\n",
            "train Loss: 0.2339 Acc: 0.5264\n",
            "test Loss: 0.2116 Acc: 0.5932\n",
            "\n",
            "Epoch 25/89\n",
            "----------\n",
            "[0.01]\n",
            "train Loss: 0.2146 Acc: 0.5546\n",
            "test Loss: 0.2330 Acc: 0.5706\n",
            "\n",
            "Epoch 26/89\n",
            "----------\n",
            "[0.01]\n",
            "train Loss: 0.2064 Acc: 0.5796\n",
            "test Loss: 0.2058 Acc: 0.6041\n",
            "\n",
            "Epoch 27/89\n",
            "----------\n",
            "[0.01]\n",
            "train Loss: 0.1986 Acc: 0.5949\n",
            "test Loss: 0.2160 Acc: 0.5970\n",
            "\n",
            "Epoch 28/89\n",
            "----------\n",
            "[0.01]\n",
            "train Loss: 0.1970 Acc: 0.5908\n",
            "test Loss: 0.2049 Acc: 0.6198\n",
            "\n",
            "Epoch 29/89\n",
            "----------\n",
            "[0.01]\n",
            "train Loss: 0.1902 Acc: 0.6134\n",
            "test Loss: 0.2062 Acc: 0.6105\n",
            "\n",
            "Epoch 30/89\n",
            "----------\n",
            "[0.0001]\n",
            "train Loss: 0.1501 Acc: 0.6965\n",
            "test Loss: 0.1513 Acc: 0.7097\n",
            "\n",
            "Epoch 31/89\n",
            "----------\n",
            "[0.001]\n",
            "train Loss: 0.1370 Acc: 0.7160\n",
            "test Loss: 0.1454 Acc: 0.7226\n",
            "\n",
            "Epoch 32/89\n",
            "----------\n",
            "[0.001]\n",
            "train Loss: 0.1322 Acc: 0.7314\n",
            "test Loss: 0.1502 Acc: 0.7152\n",
            "\n",
            "Epoch 33/89\n",
            "----------\n",
            "[0.001]\n",
            "train Loss: 0.1259 Acc: 0.7389\n",
            "test Loss: 0.1461 Acc: 0.7230\n",
            "\n",
            "Epoch 34/89\n",
            "----------\n",
            "[0.001]\n",
            "train Loss: 0.1200 Acc: 0.7548\n",
            "test Loss: 0.1452 Acc: 0.7242\n",
            "\n",
            "Epoch 35/89\n",
            "----------\n",
            "[0.001]\n",
            "train Loss: 0.1216 Acc: 0.7499\n",
            "test Loss: 0.1447 Acc: 0.7292\n",
            "\n",
            "Epoch 36/89\n",
            "----------\n",
            "[0.001]\n",
            "train Loss: 0.1199 Acc: 0.7551\n",
            "test Loss: 0.1440 Acc: 0.7242\n",
            "\n",
            "Epoch 37/89\n",
            "----------\n",
            "[0.001]\n",
            "train Loss: 0.1176 Acc: 0.7578\n",
            "test Loss: 0.1514 Acc: 0.7225\n",
            "\n",
            "Epoch 38/89\n",
            "----------\n",
            "[0.001]\n",
            "train Loss: 0.1175 Acc: 0.7598\n",
            "test Loss: 0.1418 Acc: 0.7313\n",
            "\n",
            "Epoch 39/89\n",
            "----------\n",
            "[0.001]\n",
            "train Loss: 0.1124 Acc: 0.7726\n",
            "test Loss: 0.1454 Acc: 0.7301\n",
            "\n",
            "Epoch 40/89\n",
            "----------\n",
            "[0.001]\n",
            "train Loss: 0.1112 Acc: 0.7629\n",
            "test Loss: 0.1423 Acc: 0.7259\n",
            "\n",
            "Epoch 41/89\n",
            "----------\n",
            "[0.001]\n",
            "train Loss: 0.1166 Acc: 0.7613\n",
            "test Loss: 0.1471 Acc: 0.7251\n",
            "\n",
            "Epoch 42/89\n",
            "----------\n",
            "[0.001]\n",
            "train Loss: 0.1117 Acc: 0.7683\n",
            "test Loss: 0.1428 Acc: 0.7342\n",
            "\n",
            "Epoch 43/89\n",
            "----------\n",
            "[0.001]\n",
            "train Loss: 0.1112 Acc: 0.7743\n",
            "test Loss: 0.1432 Acc: 0.7302\n",
            "\n",
            "Epoch 44/89\n",
            "----------\n",
            "[0.001]\n",
            "train Loss: 0.1082 Acc: 0.7749\n",
            "test Loss: 0.1417 Acc: 0.7320\n",
            "\n",
            "Epoch 45/89\n",
            "----------\n",
            "[0.001]\n",
            "train Loss: 0.1080 Acc: 0.7801\n",
            "test Loss: 0.1443 Acc: 0.7349\n",
            "\n",
            "Epoch 46/89\n",
            "----------\n",
            "[0.001]\n",
            "train Loss: 0.1067 Acc: 0.7784\n",
            "test Loss: 0.1435 Acc: 0.7333\n",
            "\n",
            "Epoch 47/89\n",
            "----------\n",
            "[0.001]\n",
            "train Loss: 0.1078 Acc: 0.7759\n",
            "test Loss: 0.1434 Acc: 0.7344\n",
            "\n",
            "Epoch 48/89\n",
            "----------\n",
            "[0.001]\n",
            "train Loss: 0.1060 Acc: 0.7853\n",
            "test Loss: 0.1446 Acc: 0.7309\n",
            "\n",
            "Epoch 49/89\n",
            "----------\n",
            "[0.001]\n",
            "train Loss: 0.1024 Acc: 0.7918\n",
            "test Loss: 0.1479 Acc: 0.7321\n",
            "\n",
            "Epoch 50/89\n",
            "----------\n",
            "[0.001]\n",
            "train Loss: 0.1012 Acc: 0.7928\n",
            "test Loss: 0.1406 Acc: 0.7332\n",
            "\n",
            "Epoch 51/89\n",
            "----------\n",
            "[0.001]\n",
            "train Loss: 0.1004 Acc: 0.7903\n",
            "test Loss: 0.1464 Acc: 0.7349\n",
            "\n",
            "Epoch 52/89\n",
            "----------\n",
            "[0.001]\n",
            "train Loss: 0.1016 Acc: 0.7905\n",
            "test Loss: 0.1462 Acc: 0.7377\n",
            "\n",
            "Epoch 53/89\n",
            "----------\n",
            "[0.001]\n",
            "train Loss: 0.1025 Acc: 0.7861\n",
            "test Loss: 0.1459 Acc: 0.7373\n",
            "\n",
            "Epoch 54/89\n",
            "----------\n",
            "[0.001]\n",
            "train Loss: 0.0999 Acc: 0.7960\n",
            "test Loss: 0.1469 Acc: 0.7358\n",
            "\n",
            "Epoch 55/89\n",
            "----------\n",
            "[0.001]\n",
            "train Loss: 0.1011 Acc: 0.7968\n",
            "test Loss: 0.1410 Acc: 0.7377\n",
            "\n",
            "Epoch 56/89\n",
            "----------\n",
            "[0.001]\n",
            "train Loss: 0.1018 Acc: 0.7956\n",
            "test Loss: 0.1414 Acc: 0.7425\n",
            "\n",
            "Epoch 57/89\n",
            "----------\n",
            "[0.001]\n",
            "train Loss: 0.0999 Acc: 0.7981\n",
            "test Loss: 0.1424 Acc: 0.7492\n",
            "\n",
            "Epoch 58/89\n",
            "----------\n",
            "[0.001]\n",
            "train Loss: 0.0971 Acc: 0.8056\n",
            "test Loss: 0.1443 Acc: 0.7390\n",
            "\n",
            "Epoch 59/89\n",
            "----------\n",
            "[0.001]\n",
            "train Loss: 0.1010 Acc: 0.7963\n",
            "test Loss: 0.1448 Acc: 0.7402\n",
            "\n",
            "Epoch 60/89\n",
            "----------\n",
            "[1e-05]\n",
            "train Loss: 0.0956 Acc: 0.8120\n",
            "test Loss: 0.1395 Acc: 0.7458\n",
            "\n",
            "Epoch 61/89\n",
            "----------\n",
            "[0.0001]\n",
            "train Loss: 0.0968 Acc: 0.8065\n",
            "test Loss: 0.1398 Acc: 0.7489\n",
            "\n",
            "Epoch 62/89\n",
            "----------\n",
            "[0.0001]\n",
            "train Loss: 0.0931 Acc: 0.8155\n",
            "test Loss: 0.1412 Acc: 0.7461\n",
            "\n",
            "Epoch 63/89\n",
            "----------\n",
            "[0.0001]\n",
            "train Loss: 0.0891 Acc: 0.8228\n",
            "test Loss: 0.1398 Acc: 0.7478\n",
            "\n",
            "Epoch 64/89\n",
            "----------\n",
            "[0.0001]\n",
            "train Loss: 0.0881 Acc: 0.8180\n",
            "test Loss: 0.1401 Acc: 0.7487\n",
            "\n",
            "Epoch 65/89\n",
            "----------\n",
            "[0.0001]\n",
            "train Loss: 0.0941 Acc: 0.8111\n",
            "test Loss: 0.1452 Acc: 0.7432\n",
            "\n",
            "Epoch 66/89\n",
            "----------\n",
            "[0.0001]\n",
            "train Loss: 0.0943 Acc: 0.8111\n",
            "test Loss: 0.1378 Acc: 0.7491\n",
            "\n",
            "Epoch 67/89\n",
            "----------\n",
            "[0.0001]\n",
            "train Loss: 0.0900 Acc: 0.8193\n",
            "test Loss: 0.1404 Acc: 0.7501\n",
            "\n",
            "Epoch 68/89\n",
            "----------\n",
            "[0.0001]\n",
            "train Loss: 0.0893 Acc: 0.8287\n",
            "test Loss: 0.1461 Acc: 0.7411\n",
            "\n",
            "Epoch 69/89\n",
            "----------\n",
            "[0.0001]\n",
            "train Loss: 0.0899 Acc: 0.8192\n",
            "test Loss: 0.1412 Acc: 0.7447\n",
            "\n",
            "Epoch 70/89\n",
            "----------\n",
            "[0.0001]\n",
            "train Loss: 0.0922 Acc: 0.8160\n",
            "test Loss: 0.1407 Acc: 0.7440\n",
            "\n",
            "Epoch 71/89\n",
            "----------\n",
            "[0.0001]\n",
            "train Loss: 0.0907 Acc: 0.8178\n",
            "test Loss: 0.1394 Acc: 0.7463\n",
            "\n",
            "Epoch 72/89\n",
            "----------\n",
            "[0.0001]\n",
            "train Loss: 0.0861 Acc: 0.8262\n",
            "test Loss: 0.1427 Acc: 0.7458\n",
            "\n",
            "Epoch 73/89\n",
            "----------\n",
            "[0.0001]\n",
            "train Loss: 0.0873 Acc: 0.8248\n",
            "test Loss: 0.1401 Acc: 0.7453\n",
            "\n",
            "Epoch 74/89\n",
            "----------\n",
            "[0.0001]\n",
            "train Loss: 0.0885 Acc: 0.8232\n",
            "test Loss: 0.1401 Acc: 0.7444\n",
            "\n",
            "Epoch 75/89\n",
            "----------\n",
            "[0.0001]\n",
            "train Loss: 0.0902 Acc: 0.8208\n",
            "test Loss: 0.1401 Acc: 0.7484\n",
            "\n",
            "Epoch 76/89\n",
            "----------\n",
            "[0.0001]\n",
            "train Loss: 0.0899 Acc: 0.8175\n",
            "test Loss: 0.1404 Acc: 0.7484\n",
            "\n",
            "Epoch 77/89\n",
            "----------\n",
            "[0.0001]\n",
            "train Loss: 0.0884 Acc: 0.8250\n",
            "test Loss: 0.1407 Acc: 0.7492\n",
            "\n",
            "Epoch 78/89\n",
            "----------\n",
            "[0.0001]\n",
            "train Loss: 0.0889 Acc: 0.8205\n",
            "test Loss: 0.1407 Acc: 0.7470\n",
            "\n",
            "Epoch 79/89\n",
            "----------\n",
            "[0.0001]\n",
            "train Loss: 0.0874 Acc: 0.8228\n",
            "test Loss: 0.1411 Acc: 0.7432\n",
            "\n",
            "Epoch 80/89\n",
            "----------\n",
            "[0.0001]\n",
            "train Loss: 0.0892 Acc: 0.8217\n",
            "test Loss: 0.1413 Acc: 0.7477\n",
            "\n",
            "Epoch 81/89\n",
            "----------\n",
            "[0.0001]\n",
            "train Loss: 0.0893 Acc: 0.8193\n",
            "test Loss: 0.1416 Acc: 0.7446\n",
            "\n",
            "Epoch 82/89\n",
            "----------\n",
            "[0.0001]\n",
            "train Loss: 0.0917 Acc: 0.8141\n",
            "test Loss: 0.1429 Acc: 0.7477\n",
            "\n",
            "Epoch 83/89\n",
            "----------\n",
            "[0.0001]\n",
            "train Loss: 0.0850 Acc: 0.8307\n",
            "test Loss: 0.1402 Acc: 0.7456\n",
            "\n",
            "Epoch 84/89\n",
            "----------\n",
            "[0.0001]\n",
            "train Loss: 0.0880 Acc: 0.8250\n",
            "test Loss: 0.1421 Acc: 0.7497\n",
            "\n",
            "Epoch 85/89\n",
            "----------\n",
            "[0.0001]\n",
            "train Loss: 0.0904 Acc: 0.8197\n",
            "test Loss: 0.1440 Acc: 0.7430\n",
            "\n",
            "Epoch 86/89\n",
            "----------\n",
            "[0.0001]\n",
            "train Loss: 0.0867 Acc: 0.8297\n",
            "test Loss: 0.1443 Acc: 0.7444\n",
            "\n",
            "Epoch 87/89\n",
            "----------\n",
            "[0.0001]\n",
            "train Loss: 0.0873 Acc: 0.8255\n",
            "test Loss: 0.1432 Acc: 0.7434\n",
            "\n",
            "Epoch 88/89\n",
            "----------\n",
            "[0.0001]\n",
            "train Loss: 0.0856 Acc: 0.8287\n",
            "test Loss: 0.1409 Acc: 0.7485\n",
            "\n",
            "Epoch 89/89\n",
            "----------\n",
            "[0.0001]\n",
            "train Loss: 0.0887 Acc: 0.8217\n",
            "test Loss: 0.1437 Acc: 0.7456\n",
            "\n",
            "Training complete in 361m 49s\n",
            "Best test Acc: 0.750086\n",
            "Epoch 0/89\n",
            "----------\n",
            "[0.0001]\n",
            "train Loss: 0.0848 Acc: 0.8322\n",
            "test Loss: 0.1411 Acc: 0.7532\n",
            "\n",
            "Epoch 1/89\n",
            "----------\n",
            "[0.0001]\n",
            "train Loss: 0.0913 Acc: 0.8165\n",
            "test Loss: 0.1388 Acc: 0.7477\n",
            "\n",
            "Epoch 2/89\n",
            "----------\n",
            "[0.0001]\n",
            "train Loss: 0.0936 Acc: 0.8136\n",
            "test Loss: 0.1383 Acc: 0.7480\n",
            "\n",
            "Epoch 3/89\n",
            "----------\n",
            "[0.0001]\n",
            "train Loss: 0.0920 Acc: 0.8170\n",
            "test Loss: 0.1394 Acc: 0.7461\n",
            "\n",
            "Epoch 4/89\n",
            "----------\n",
            "[0.0001]\n",
            "train Loss: 0.0860 Acc: 0.8265\n",
            "test Loss: 0.1410 Acc: 0.7475\n",
            "\n",
            "Epoch 5/89\n",
            "----------\n",
            "[0.0001]\n",
            "train Loss: 0.0932 Acc: 0.8135\n",
            "test Loss: 0.1385 Acc: 0.7506\n",
            "\n",
            "Epoch 6/89\n",
            "----------\n",
            "[0.0001]\n",
            "train Loss: 0.0858 Acc: 0.8247\n",
            "test Loss: 0.1441 Acc: 0.7444\n",
            "\n",
            "Epoch 7/89\n",
            "----------\n",
            "[0.0001]\n",
            "train Loss: 0.0906 Acc: 0.8177\n",
            "test Loss: 0.1412 Acc: 0.7496\n",
            "\n",
            "Epoch 8/89\n",
            "----------\n",
            "[0.0001]\n",
            "train Loss: 0.0934 Acc: 0.8136\n",
            "test Loss: 0.1391 Acc: 0.7494\n",
            "\n",
            "Epoch 9/89\n",
            "----------\n",
            "[0.0001]\n",
            "train Loss: 0.0892 Acc: 0.8182\n",
            "test Loss: 0.1401 Acc: 0.7506\n",
            "\n",
            "Epoch 10/89\n",
            "----------\n",
            "[0.0001]\n",
            "train Loss: 0.0837 Acc: 0.8302\n",
            "test Loss: 0.1408 Acc: 0.7468\n",
            "\n",
            "Epoch 11/89\n",
            "----------\n",
            "[0.0001]\n",
            "train Loss: 0.0872 Acc: 0.8228\n",
            "test Loss: 0.1425 Acc: 0.7473\n",
            "\n",
            "Epoch 12/89\n",
            "----------\n",
            "[0.0001]\n",
            "train Loss: 0.0871 Acc: 0.8248\n",
            "test Loss: 0.1411 Acc: 0.7466\n",
            "\n",
            "Epoch 13/89\n",
            "----------\n",
            "[0.0001]\n",
            "train Loss: 0.0915 Acc: 0.8188\n",
            "test Loss: 0.1384 Acc: 0.7482\n",
            "\n",
            "Epoch 14/89\n",
            "----------\n",
            "[0.0001]\n",
            "train Loss: 0.0866 Acc: 0.8253\n"
          ],
          "name": "stdout"
        }
      ]
    },
    {
      "cell_type": "code",
      "metadata": {
        "id": "OCuRHECYI8Lt",
        "colab_type": "code",
        "outputId": "503c7213-fb95-4f86-d51a-81db8df478c3",
        "colab": {
          "base_uri": "https://localhost:8080/",
          "height": 769
        }
      },
      "source": [
        "visualize_model(model_ft)"
      ],
      "execution_count": 33,
      "outputs": [
        {
          "output_type": "display_data",
          "data": {
            "image/png": "[encoded data removed]",
            "text/plain": [
              "<Figure size 432x288 with 1 Axes>"
            ]
          },
          "metadata": {
            "tags": []
          }
        },
        {
          "output_type": "display_data",
          "data": {
            "image/png": "[encoded data removed]",
            "text/plain": [
              "<Figure size 432x288 with 1 Axes>"
            ]
          },
          "metadata": {
            "tags": []
          }
        },
        {
          "output_type": "display_data",
          "data": {
            "image/png": "[encoded data removed]",
            "text/plain": [
              "<Figure size 432x288 with 1 Axes>"
            ]
          },
          "metadata": {
            "tags": []
          }
        },
        {
          "output_type": "display_data",
          "data": {
            "image/png": "[encoded data removed]",
            "text/plain": [
              "<Figure size 432x288 with 1 Axes>"
            ]
          },
          "metadata": {
            "tags": []
          }
        },
        {
          "output_type": "display_data",
          "data": {
            "image/png": "[encoded data removed]",
            "text/plain": [
              "<Figure size 432x288 with 1 Axes>"
            ]
          },
          "metadata": {
            "tags": []
          }
        },
        {
          "output_type": "display_data",
          "data": {
            "image/png": "[encoded data removed]",
            "text/plain": [
              "<Figure size 432x288 with 1 Axes>"
            ]
          },
          "metadata": {
            "tags": []
          }
        },
        {
          "output_type": "display_data",
          "data": {
            "image/png": "[encoded data removed]",
            "text/plain": [
              "<Figure size 432x288 with 1 Axes>"
            ]
          },
          "metadata": {
            "tags": []
          }
        },
        {
          "output_type": "display_data",
          "data": {
            "image/png": "[encoded data removed]",
            "text/plain": [
              "<Figure size 432x288 with 1 Axes>"
            ]
          },
          "metadata": {
            "tags": []
          }
        }
      ]
    },
    {
      "cell_type": "code",
      "metadata": {
        "id": "QTdGj4R6C1kS",
        "colab_type": "code",
        "colab": {}
      },
      "source": [
        "class AverageMeter(object):\n",
        "    \"\"\"Computes and stores the average and current value\"\"\"\n",
        "    def __init__(self):\n",
        "        self.reset()\n",
        "\n",
        "    def reset(self):\n",
        "        self.val = 0\n",
        "        self.avg = 0\n",
        "        self.sum = 0\n",
        "        self.count = 0\n",
        "\n",
        "    def update(self, val, n=1):\n",
        "        self.val = val\n",
        "        self.sum += val * n\n",
        "        self.count += n\n",
        "        self.avg = self.sum / self.count"
      ],
      "execution_count": 0,
      "outputs": []
    },
    {
      "cell_type": "code",
      "metadata": {
        "id": "OtjxLoYCC6rp",
        "colab_type": "code",
        "colab": {}
      },
      "source": [
        "def accuracy(output, target, topk=(1,)):\n",
        "    \"\"\"Computes the precision@k for the specified values of k\"\"\"\n",
        "    #with torch.no_grad():\n",
        "    maxk = max(topk)\n",
        "    batch_size = target.size(0)\n",
        "\n",
        "    _, pred = output.topk(maxk, 1, True, True)\n",
        "    pred = pred.t()\n",
        "    correct = pred.eq(target.view(1, -1).expand_as(pred))\n",
        "\n",
        "    res = []\n",
        "    for k in topk:\n",
        "        correct_k = correct[:k].view(-1).float().sum(0, keepdim=True)\n",
        "        res.append(correct_k.mul_(100.0 / batch_size))\n",
        "    return res"
      ],
      "execution_count": 0,
      "outputs": []
    },
    {
      "cell_type": "code",
      "metadata": {
        "id": "WVTfeL4QC8Pu",
        "colab_type": "code",
        "colab": {}
      },
      "source": [
        "def calc_accuracy(model, data):\n",
        "    model.eval()\n",
        "    if use_gpu:\n",
        "        model.cuda()    \n",
        "    \n",
        "    top1 = AverageMeter()\n",
        "    top5 = AverageMeter()\n",
        "    \n",
        "    for idx, (inputs, labels) in enumerate(dataloders[data]):\n",
        "        if use_gpu:\n",
        "            inputs, labels = inputs.cuda(), labels.cuda()\n",
        "        # obtain the outputs from the model\n",
        "        outputs = model.forward(Variable(inputs))\n",
        "        prec1, prec5 = accuracy(outputs, Variable(labels), topk=(1, 5))\n",
        "        top1.update(prec1[0], inputs.size(0))\n",
        "        top5.update(prec5[0], inputs.size(0))\n",
        "        \n",
        "    return top1 ,top5\n",
        "    \n",
        "top1 ,top5 = calc_accuracy(model_ft, 'test')"
      ],
      "execution_count": 0,
      "outputs": []
    },
    {
      "cell_type": "code",
      "metadata": {
        "id": "0qdgn4mzC_A6",
        "colab_type": "code",
        "outputId": "d10e4dbf-c651-4b3c-b52e-633d52d87360",
        "colab": {
          "base_uri": "https://localhost:8080/",
          "height": 35
        }
      },
      "source": [
        "top1.avg"
      ],
      "execution_count": 37,
      "outputs": [
        {
          "output_type": "execute_result",
          "data": {
            "text/plain": [
              "tensor(74.5599, device='cuda:0')"
            ]
          },
          "metadata": {
            "tags": []
          },
          "execution_count": 37
        }
      ]
    },
    {
      "cell_type": "code",
      "metadata": {
        "id": "bxzJ4OT4DEAY",
        "colab_type": "code",
        "outputId": "0434ea2e-fe60-4fac-fa7f-d6e013977f55",
        "colab": {
          "base_uri": "https://localhost:8080/",
          "height": 35
        }
      },
      "source": [
        "top5.avg"
      ],
      "execution_count": 38,
      "outputs": [
        {
          "output_type": "execute_result",
          "data": {
            "text/plain": [
              "tensor(93.2344, device='cuda:0')"
            ]
          },
          "metadata": {
            "tags": []
          },
          "execution_count": 38
        }
      ]
    }
  ]
}