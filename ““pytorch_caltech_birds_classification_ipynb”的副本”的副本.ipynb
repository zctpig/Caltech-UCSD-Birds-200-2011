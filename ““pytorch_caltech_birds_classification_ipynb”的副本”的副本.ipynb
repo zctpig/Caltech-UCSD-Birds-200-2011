{
  "nbformat": 4,
  "nbformat_minor": 0,
  "metadata": {
    "colab": {
      "name": "““pytorch_caltech_birds_classification.ipynb”的副本”的副本",
      "version": "0.3.2",
      "provenance": [],
      "collapsed_sections": [],
      "include_colab_link": true
    },
    "kernelspec": {
      "name": "python3",
      "display_name": "Python 3"
    },
    "accelerator": "GPU"
  },
  "cells": [
    {
      "cell_type": "markdown",
      "metadata": {
        "id": "view-in-github",
        "colab_type": "text"
      },
      "source": [
        "<a href=\"https://colab.research.google.com/github/zctpig/Caltech-UCSD-Birds-200-2011/blob/master/%E2%80%9C%E2%80%9Cpytorch_caltech_birds_classification_ipynb%E2%80%9D%E7%9A%84%E5%89%AF%E6%9C%AC%E2%80%9D%E7%9A%84%E5%89%AF%E6%9C%AC.ipynb\" target=\"_parent\"><img src=\"https://colab.research.google.com/assets/colab-badge.svg\" alt=\"Open In Colab\"/></a>"
      ]
    },
    {
      "cell_type": "markdown",
      "metadata": {
        "id": "e0_q4IGTHQfK",
        "colab_type": "text"
      },
      "source": [
        "# Train Test Split"
      ]
    },
    {
      "cell_type": "code",
      "metadata": {
        "id": "qjYh8ivP_kCO",
        "colab_type": "code",
        "colab": {}
      },
      "source": [
        "!pip install scikit-image==0.14.3"
      ],
      "execution_count": 0,
      "outputs": []
    },
    {
      "cell_type": "code",
      "metadata": {
        "id": "AfRuSpY7C4cd",
        "colab_type": "code",
        "colab": {}
      },
      "source": [
        "import skimage\n",
        "print(skimage.__version__)"
      ],
      "execution_count": 0,
      "outputs": []
    },
    {
      "cell_type": "code",
      "metadata": {
        "id": "fi2DHVMg-tX2",
        "colab_type": "code",
        "colab": {}
      },
      "source": [
        "!wget --no-check-certificate \\\n",
        "    http://www.vision.caltech.edu/visipedia-data/CUB-200-2011/CUB_200_2011.tgz \\\n",
        "    -O /tmp/cats_and_dogs_filtered.zip"
      ],
      "execution_count": 0,
      "outputs": []
    },
    {
      "cell_type": "code",
      "metadata": {
        "id": "ApYpsDvl_ipg",
        "colab_type": "code",
        "colab": {}
      },
      "source": [
        "!tar -zxf /tmp/cats_and_dogs_filtered.zip -C /tmp/"
      ],
      "execution_count": 0,
      "outputs": []
    },
    {
      "cell_type": "code",
      "metadata": {
        "id": "8LolthWeDfCD",
        "colab_type": "code",
        "colab": {}
      },
      "source": [
        "PATH = '/tmp/CUB_200_2011/'"
      ],
      "execution_count": 0,
      "outputs": []
    },
    {
      "cell_type": "code",
      "metadata": {
        "id": "lL8y8GfQAH8x",
        "colab_type": "code",
        "colab": {}
      },
      "source": [
        "read_line = open(PATH + 'train_test_split.txt')"
      ],
      "execution_count": 0,
      "outputs": []
    },
    {
      "cell_type": "code",
      "metadata": {
        "id": "T6MEszS8DqmW",
        "colab_type": "code",
        "colab": {}
      },
      "source": [
        "a = read_line.readlines()"
      ],
      "execution_count": 0,
      "outputs": []
    },
    {
      "cell_type": "code",
      "metadata": {
        "id": "2odUrsLRDtmh",
        "colab_type": "code",
        "colab": {}
      },
      "source": [
        "a[0].split(' ')[1].split('\\n')[0]"
      ],
      "execution_count": 0,
      "outputs": []
    },
    {
      "cell_type": "code",
      "metadata": {
        "id": "eBmCyZFyDvIg",
        "colab_type": "code",
        "colab": {}
      },
      "source": [
        "\n",
        "classes = open(PATH + 'classes.txt')\n",
        "c_names = classes.readlines()\n",
        "len(c_names)"
      ],
      "execution_count": 0,
      "outputs": []
    },
    {
      "cell_type": "code",
      "metadata": {
        "id": "10Nv0jhBDy3G",
        "colab_type": "code",
        "colab": {}
      },
      "source": [
        "for i in range(len(c_names)):\n",
        "    c_names[i] = c_names[i].split(' ')[1]"
      ],
      "execution_count": 0,
      "outputs": []
    },
    {
      "cell_type": "code",
      "metadata": {
        "id": "BZD0ojgOD24r",
        "colab_type": "code",
        "colab": {}
      },
      "source": [
        "c_names[0].split('\\n')[0]"
      ],
      "execution_count": 0,
      "outputs": []
    },
    {
      "cell_type": "code",
      "metadata": {
        "id": "39EjP6DtD6jD",
        "colab_type": "code",
        "colab": {}
      },
      "source": [
        "import os\n",
        "for i in range(len(c_names)):\n",
        "    dir_name = PATH + 'test/' + c_names[i].split('\\n')[0]\n",
        "    if not os.path.exists(dir_name):\n",
        "        os.makedirs(dir_name)"
      ],
      "execution_count": 0,
      "outputs": []
    },
    {
      "cell_type": "code",
      "metadata": {
        "id": "5Cqub_7Iqxup",
        "colab_type": "code",
        "colab": {}
      },
      "source": [
        "for i in range(len(c_names)):\n",
        "    dir_name = PATH + 'train/' + c_names[i].split('\\n')[0]\n",
        "    if not os.path.exists(dir_name):\n",
        "        os.makedirs(dir_name)"
      ],
      "execution_count": 0,
      "outputs": []
    },
    {
      "cell_type": "code",
      "metadata": {
        "id": "1MpApmuYFM1d",
        "colab_type": "code",
        "colab": {}
      },
      "source": [
        "import torch\n",
        "from torch import nn, optim\n",
        "from torch.optim import lr_scheduler\n",
        "from torch.autograd import Variable\n",
        "import torchvision\n",
        "import torch.utils.data as data\n",
        "from torchvision import datasets, models, transforms"
      ],
      "execution_count": 0,
      "outputs": []
    },
    {
      "cell_type": "code",
      "metadata": {
        "id": "bV54i10bFUlI",
        "colab_type": "code",
        "colab": {}
      },
      "source": [
        "train_dataset = datasets.ImageFolder(PATH + 'images')"
      ],
      "execution_count": 0,
      "outputs": []
    },
    {
      "cell_type": "code",
      "metadata": {
        "id": "nhIxYBbcFp0_",
        "colab_type": "code",
        "colab": {}
      },
      "source": [
        "from skimage import io"
      ],
      "execution_count": 0,
      "outputs": []
    },
    {
      "cell_type": "code",
      "metadata": {
        "id": "vqDvqf9-Fyvd",
        "colab_type": "code",
        "colab": {}
      },
      "source": [
        "print(len(train_dataset.imgs))"
      ],
      "execution_count": 0,
      "outputs": []
    },
    {
      "cell_type": "code",
      "metadata": {
        "id": "GG0Z5C52FzwJ",
        "colab_type": "code",
        "colab": {}
      },
      "source": [
        "for j in range(len(train_dataset.imgs)):\n",
        "    if(a[j].split(' ')[1].split('\\n')[0] == '0'):\n",
        "        path = train_dataset.imgs[j][0]\n",
        "        img = io.imread(path)\n",
        "        folder = train_dataset.imgs[j][0][9:].split('/')[-2]\n",
        "        img_name = train_dataset.imgs[j][0][9:].split('/')[-1]\n",
        "        io.imsave(PATH + 'test/' + folder + '/' + img_name, img)\n",
        "        os.remove(path)\n",
        "    else:\n",
        "        path = train_dataset.imgs[j][0]\n",
        "        img = io.imread(path)\n",
        "        folder = train_dataset.imgs[j][0][9:].split('/')[-2]\n",
        "        img_name = train_dataset.imgs[j][0][9:].split('/')[-1]\n",
        "        io.imsave(PATH + 'train/' + folder + '/' + img_name, img)\n",
        "        os.remove(path)"
      ],
      "execution_count": 0,
      "outputs": []
    },
    {
      "cell_type": "code",
      "metadata": {
        "id": "IRIhVF82GHEO",
        "colab_type": "code",
        "colab": {}
      },
      "source": [
        "total = 0\n",
        "for path, dirs, files in os.walk(PATH + 'train'):\n",
        "    total += len(files)\n",
        "print('train images number:', total)"
      ],
      "execution_count": 0,
      "outputs": []
    },
    {
      "cell_type": "code",
      "metadata": {
        "id": "MuVzb2oOGpXZ",
        "colab_type": "code",
        "colab": {}
      },
      "source": [
        "total = 0\n",
        "for path, dirs, files in os.walk(PATH + 'test'):\n",
        "    total += len(files)\n",
        "print('test images number:', total)"
      ],
      "execution_count": 0,
      "outputs": []
    },
    {
      "cell_type": "markdown",
      "metadata": {
        "id": "H8ugscLeHT3U",
        "colab_type": "text"
      },
      "source": [
        "# Model"
      ]
    },
    {
      "cell_type": "code",
      "metadata": {
        "id": "9_uSdFrNHDSE",
        "colab_type": "code",
        "colab": {}
      },
      "source": [
        "# here are the necessary imports\n",
        "from __future__ import print_function, division\n",
        "\n",
        "import torch\n",
        "import torch.nn as nn\n",
        "import torch.optim as optim\n",
        "from torch.autograd import Variable\n",
        "import numpy as np\n",
        "import torchvision\n",
        "from torchvision import datasets, models, transforms\n",
        "import matplotlib.pyplot as plt\n",
        "import time\n",
        "import os\n",
        "import seaborn as sns\n",
        "plt.ion()"
      ],
      "execution_count": 0,
      "outputs": []
    },
    {
      "cell_type": "code",
      "metadata": {
        "id": "t382Rrz7HYoQ",
        "colab_type": "code",
        "colab": {}
      },
      "source": [
        "# Data augmentation and normalization for training\n",
        "# Just normalization for validation\n",
        "data_transforms = {\n",
        "    'train': transforms.Compose([\n",
        "        transforms.Resize(256),\n",
        "        #transforms.RandomRotation(45),\n",
        "        transforms.RandomResizedCrop(224),\n",
        "        transforms.RandomHorizontalFlip(),\n",
        "        transforms.ToTensor(),\n",
        "        transforms.Normalize([0.485, 0.456, 0.406], [0.229, 0.224, 0.225])\n",
        "    ]),\n",
        "    'test': transforms.Compose([\n",
        "        transforms.Resize(256),\n",
        "        transforms.CenterCrop(224),\n",
        "        transforms.ToTensor(),\n",
        "        transforms.Normalize([0.485, 0.456, 0.406], [0.229, 0.224, 0.225])\n",
        "    ]),\n",
        "}\n",
        "\n",
        "\n",
        "# loading datasets with PyTorch ImageFolder\n",
        "image_datasets = {x: datasets.ImageFolder(os.path.join(PATH, x),\n",
        "                                          data_transforms[x])\n",
        "                  for x in ['train', 'test']}\n",
        "# defining data loaders to load data using image_datasets and transforms, here we also specify batch size for the mini batch\n",
        "dataloders = {x: torch.utils.data.DataLoader(image_datasets[x], batch_size=16,\n",
        "                                             shuffle=True, num_workers=4)\n",
        "              for x in ['train', 'test']}\n",
        "dataset_sizes = {x: len(image_datasets[x]) for x in ['train', 'test']}\n",
        "class_names = image_datasets['train'].classes\n",
        "\n",
        "use_gpu = torch.cuda.is_available()"
      ],
      "execution_count": 0,
      "outputs": []
    },
    {
      "cell_type": "code",
      "metadata": {
        "id": "na5yE-iFHpS3",
        "colab_type": "code",
        "colab": {}
      },
      "source": [
        "dataset_sizes"
      ],
      "execution_count": 0,
      "outputs": []
    },
    {
      "cell_type": "code",
      "metadata": {
        "id": "5EVY_mc0ILiR",
        "colab_type": "code",
        "colab": {}
      },
      "source": [
        "def imshow(inp, title=None):\n",
        "    \"\"\"Imshow for Tensor.\"\"\"\n",
        "    inp = inp.numpy().transpose((1, 2, 0))\n",
        "    mean = np.array([0.485, 0.456, 0.406])\n",
        "    std = np.array([0.229, 0.224, 0.225])\n",
        "    inp = std * inp + mean\n",
        "    inp = np.clip(inp, 0, 1)\n",
        "    plt.imshow(inp)\n",
        "    if title is not None:\n",
        "        plt.title(title)\n",
        "    plt.pause(0.001)  # pause a bit so that plots are updated\n",
        "\n",
        "\n",
        "# Get a batch of training data\n",
        "inputs, classes = next(iter(dataloders['train']))\n",
        "\n",
        "# Make a grid from batch\n",
        "out = torchvision.utils.make_grid(inputs)\n",
        "\n",
        "imshow(out, title=[class_names[x] for x in classes])"
      ],
      "execution_count": 0,
      "outputs": []
    },
    {
      "cell_type": "code",
      "metadata": {
        "id": "IkNX504W5Ilr",
        "colab_type": "code",
        "colab": {}
      },
      "source": [
        "from google.colab import drive\n",
        "drive.mount('/gdrive')"
      ],
      "execution_count": 0,
      "outputs": []
    },
    {
      "cell_type": "code",
      "metadata": {
        "id": "BD5QsQai5oyY",
        "colab_type": "code",
        "colab": {}
      },
      "source": [
        "G_DRIVE = '/gdrive/My Drive/'"
      ],
      "execution_count": 0,
      "outputs": []
    },
    {
      "cell_type": "code",
      "metadata": {
        "id": "GF-Z0PuRIPO_",
        "colab_type": "code",
        "colab": {}
      },
      "source": [
        "def train_model(model, criterion, optimizer, scheduler, num_epochs=10):\n",
        "    since = time.time()\n",
        "\n",
        "    best_model_wts = model.state_dict()\n",
        "    best_acc = 0.0\n",
        "\n",
        "    for epoch in range(num_epochs):\n",
        "        print('Epoch {}/{}'.format(epoch, num_epochs - 1))\n",
        "        print('-' * 10)\n",
        "\n",
        "        \n",
        "        # Each epoch has a training and validation phase\n",
        "        for phase in ['train', 'test']:\n",
        "            if phase == 'train':\n",
        "                print(scheduler.get_lr())\n",
        "                model.train(True)  # Set model to training mode\n",
        "            else:\n",
        "                model.train(False)  # Set model to evaluate mode\n",
        "\n",
        "            running_loss = 0.0\n",
        "            running_corrects = 0\n",
        "\n",
        "            # Iterate over data.\n",
        "            for data in dataloders[phase]:\n",
        "                # get the inputs\n",
        "                inputs, labels = data\n",
        "\n",
        "                # wrap them in Variable\n",
        "                if use_gpu:\n",
        "                    inputs = Variable(inputs.cuda())\n",
        "                    labels = Variable(labels.cuda())\n",
        "                else:\n",
        "                    inputs, labels = Variable(inputs), Variable(labels)\n",
        "\n",
        "                # zero the parameter gradients\n",
        "                optimizer.zero_grad()\n",
        "\n",
        "                # forward\n",
        "                outputs = model(inputs)\n",
        "                \n",
        "                _, preds = torch.max(outputs.data, 1)\n",
        "                loss = criterion(outputs, labels)\n",
        "\n",
        "                # backward + optimize only if in training phase\n",
        "                if phase == 'train':\n",
        "                    loss.backward()\n",
        "                    optimizer.step()\n",
        "\n",
        "                # statistics\n",
        "                running_loss += loss.item()\n",
        "                running_corrects += torch.sum(preds == labels.data).item()\n",
        "\n",
        "            epoch_loss = running_loss / dataset_sizes[phase]\n",
        "            epoch_acc = running_corrects / dataset_sizes[phase]\n",
        "\n",
        "            print('{} Loss: {:.4f} Acc: {:.4f}'.format(\n",
        "                phase, epoch_loss, epoch_acc))\n",
        "\n",
        "            # deep copy the model\n",
        "            if phase == 'test' and epoch_acc > best_acc:\n",
        "                best_acc = epoch_acc\n",
        "                best_model_wts = model.state_dict()\n",
        "                state = {'model':model_ft.state_dict(),'optim':optimizer_ft.state_dict()}\n",
        "                torch.save(state, G_DRIVE + 'point_resnet_best.pth')\n",
        "            \n",
        "            if phase == 'train':\n",
        "                scheduler.step()\n",
        "\n",
        "        print()\n",
        "\n",
        "    time_elapsed = time.time() - since\n",
        "    print('Training complete in {:.0f}m {:.0f}s'.format(\n",
        "        time_elapsed // 60, time_elapsed % 60))\n",
        "    print('Best test Acc: {:4f}'.format(best_acc))\n",
        "\n",
        "    # load best model weights\n",
        "    model.load_state_dict(best_model_wts)\n",
        "    return model"
      ],
      "execution_count": 0,
      "outputs": []
    },
    {
      "cell_type": "code",
      "metadata": {
        "id": "OqHSPFFlIW4m",
        "colab_type": "code",
        "colab": {}
      },
      "source": [
        "def visualize_model(model, num_images=8):\n",
        "    images_so_far = 0\n",
        "    fig = plt.figure()\n",
        "    \n",
        "\n",
        "    for i, data in enumerate(dataloders['test']):\n",
        "        inputs, labels = data\n",
        "        #print(labels)\n",
        "        if use_gpu:\n",
        "            inputs, labels = Variable(inputs.cuda()), Variable(labels.cuda())\n",
        "        else:\n",
        "            inputs, labels = Variable(inputs), Variable(labels)\n",
        "        #print(labels)\n",
        "        #_, lab = torch.max(labels.data, 1)\n",
        "        outputs = model(inputs)\n",
        "        #print(outputs)\n",
        "        _, preds = torch.max(outputs.data, 1)\n",
        "        #print(preds)\n",
        "\n",
        "        for j in range(inputs.size()[0]):\n",
        "            images_so_far += 1\n",
        "            ax = plt.subplot(num_images//2, 2, images_so_far)\n",
        "            ax.axis('off')\n",
        "            ax.set_title('class: {} predicted: {}'.format(class_names[labels.data[j]], class_names[preds[j]]))\n",
        "            imshow(inputs.cpu().data[j])\n",
        "\n",
        "            if images_so_far == num_images:\n",
        "                return"
      ],
      "execution_count": 0,
      "outputs": []
    },
    {
      "cell_type": "code",
      "metadata": {
        "id": "FJJTyYNGItzk",
        "colab_type": "code",
        "colab": {}
      },
      "source": [
        "model_ft = models.resnet50(pretrained=True) # loading a pre-trained(trained on image net) resnet18 model from torchvision models\n",
        "num_ftrs = model_ft.fc.in_features\n",
        "model_ft.fc = nn.Linear(num_ftrs, 200)      # changing the last layer for this dataset by setting last layer neurons to 200 as this dataset has 200 categories\n",
        " \n",
        "if use_gpu:                                 # if gpu is available then use it\n",
        "    model_ft = model_ft.cuda()       \n",
        "# model_ft = model_ft.float()\n",
        "criterion = nn.CrossEntropyLoss()           # defining loss function\n",
        "\n",
        "# Observe that all parameters are being optimized\n",
        "optimizer_ft = optim.SGD(model_ft.parameters(), lr=0.01, momentum=0.9)\n",
        "# optimizer_ft = optim.Adam(model_ft.parameters())"
      ],
      "execution_count": 0,
      "outputs": []
    },
    {
      "cell_type": "code",
      "metadata": {
        "id": "GfghLbwsunYh",
        "colab_type": "code",
        "colab": {}
      },
      "source": [
        "if os.path.exists(G_DRIVE + 'point_resnet_best.pth'):\n",
        "    checkpoint = torch.load(G_DRIVE + 'point_resnet_best.pth')\n",
        "    model_ft.load_state_dict(checkpoint['model'])\n",
        "    optimizer_ft.load_state_dict(checkpoint['optim'])"
      ],
      "execution_count": 0,
      "outputs": []
    },
    {
      "cell_type": "code",
      "metadata": {
        "id": "7UKwbVkgFv78",
        "colab_type": "code",
        "colab": {}
      },
      "source": [
        "scheduler = torch.optim.lr_scheduler.StepLR(optimizer_ft, 30, gamma=0.1, last_epoch=-1)"
      ],
      "execution_count": 0,
      "outputs": []
    },
    {
      "cell_type": "code",
      "metadata": {
        "id": "9i1u4RSiIwNE",
        "colab_type": "code",
        "outputId": "db6e9697-02c4-49ba-cb7a-bdbffcae21ef",
        "colab": {
          "base_uri": "https://localhost:8080/",
          "height": 1000
        }
      },
      "source": [
        "model_ft = train_model(model_ft, criterion, optimizer_ft, scheduler, num_epochs=90)"
      ],
      "execution_count": 40,
      "outputs": [
        {
          "output_type": "stream",
          "text": [
            "Epoch 0/89\n",
            "----------\n",
            "[0.01]\n",
            "train Loss: 0.2760 Acc: 0.0949\n",
            "test Loss: 0.2055 Acc: 0.2254\n",
            "\n",
            "Epoch 1/89\n",
            "----------\n",
            "[0.01]\n",
            "train Loss: 0.2098 Acc: 0.2114\n",
            "test Loss: 0.1820 Acc: 0.2974\n",
            "\n",
            "Epoch 2/89\n",
            "----------\n",
            "[0.01]\n",
            "train Loss: 0.1832 Acc: 0.2860\n",
            "test Loss: 0.1637 Acc: 0.3707\n",
            "\n",
            "Epoch 3/89\n",
            "----------\n",
            "[0.01]\n",
            "train Loss: 0.1615 Acc: 0.3490\n",
            "test Loss: 0.1358 Acc: 0.4411\n",
            "\n",
            "Epoch 4/89\n",
            "----------\n",
            "[0.01]\n",
            "train Loss: 0.1457 Acc: 0.4014\n",
            "test Loss: 0.1376 Acc: 0.4651\n",
            "\n",
            "Epoch 5/89\n",
            "----------\n",
            "[0.01]\n",
            "train Loss: 0.1363 Acc: 0.4476\n",
            "test Loss: 0.1069 Acc: 0.5433\n",
            "\n",
            "Epoch 6/89\n",
            "----------\n",
            "[0.01]\n",
            "train Loss: 0.1247 Acc: 0.4962\n",
            "test Loss: 0.1240 Acc: 0.5176\n",
            "\n",
            "Epoch 7/89\n",
            "----------\n",
            "[0.01]\n",
            "train Loss: 0.1207 Acc: 0.5025\n",
            "test Loss: 0.1040 Acc: 0.5713\n",
            "\n",
            "Epoch 8/89\n",
            "----------\n",
            "[0.01]\n",
            "train Loss: 0.1135 Acc: 0.5282\n",
            "test Loss: 0.0989 Acc: 0.5908\n",
            "\n",
            "Epoch 9/89\n",
            "----------\n",
            "[0.01]\n",
            "train Loss: 0.1070 Acc: 0.5601\n",
            "test Loss: 0.0959 Acc: 0.5939\n",
            "\n",
            "Epoch 10/89\n",
            "----------\n",
            "[0.01]\n",
            "train Loss: 0.0998 Acc: 0.5762\n",
            "test Loss: 0.0962 Acc: 0.6162\n",
            "\n",
            "Epoch 11/89\n",
            "----------\n",
            "[0.01]\n",
            "train Loss: 0.0959 Acc: 0.5964\n",
            "test Loss: 0.0993 Acc: 0.6118\n",
            "\n",
            "Epoch 12/89\n",
            "----------\n",
            "[0.01]\n",
            "train Loss: 0.0920 Acc: 0.6121\n",
            "test Loss: 0.0954 Acc: 0.6244\n",
            "\n",
            "Epoch 13/89\n",
            "----------\n",
            "[0.01]\n",
            "train Loss: 0.0922 Acc: 0.6116\n",
            "test Loss: 0.0818 Acc: 0.6546\n",
            "\n",
            "Epoch 14/89\n",
            "----------\n",
            "[0.01]\n",
            "train Loss: 0.0858 Acc: 0.6326\n",
            "test Loss: 0.0967 Acc: 0.6139\n",
            "\n",
            "Epoch 15/89\n",
            "----------\n",
            "[0.01]\n",
            "train Loss: 0.0824 Acc: 0.6493\n",
            "test Loss: 0.0958 Acc: 0.6353\n",
            "\n",
            "Epoch 16/89\n",
            "----------\n",
            "[0.01]\n",
            "train Loss: 0.0802 Acc: 0.6608\n",
            "test Loss: 0.0863 Acc: 0.6545\n",
            "\n",
            "Epoch 17/89\n",
            "----------\n",
            "[0.01]\n",
            "train Loss: 0.0763 Acc: 0.6788\n",
            "test Loss: 0.0889 Acc: 0.6655\n",
            "\n",
            "Epoch 18/89\n",
            "----------\n",
            "[0.01]\n",
            "train Loss: 0.0731 Acc: 0.6835\n",
            "test Loss: 0.0983 Acc: 0.6274\n",
            "\n",
            "Epoch 19/89\n",
            "----------\n",
            "[0.01]\n",
            "train Loss: 0.0736 Acc: 0.6920\n",
            "test Loss: 0.0922 Acc: 0.6533\n",
            "\n",
            "Epoch 20/89\n",
            "----------\n",
            "[0.01]\n",
            "train Loss: 0.0692 Acc: 0.7085\n",
            "test Loss: 0.0808 Acc: 0.6816\n",
            "\n",
            "Epoch 21/89\n",
            "----------\n",
            "[0.01]\n",
            "train Loss: 0.0672 Acc: 0.7122\n",
            "test Loss: 0.0842 Acc: 0.6838\n",
            "\n",
            "Epoch 22/89\n",
            "----------\n",
            "[0.01]\n",
            "train Loss: 0.0662 Acc: 0.7145\n",
            "test Loss: 0.0809 Acc: 0.6926\n",
            "\n",
            "Epoch 23/89\n",
            "----------\n",
            "[0.01]\n",
            "train Loss: 0.0640 Acc: 0.7269\n",
            "test Loss: 0.0930 Acc: 0.6650\n",
            "\n",
            "Epoch 24/89\n",
            "----------\n",
            "[0.01]\n",
            "train Loss: 0.0609 Acc: 0.7396\n",
            "test Loss: 0.0853 Acc: 0.6874\n",
            "\n",
            "Epoch 25/89\n",
            "----------\n",
            "[0.01]\n",
            "train Loss: 0.0578 Acc: 0.7564\n",
            "test Loss: 0.0867 Acc: 0.6793\n",
            "\n",
            "Epoch 26/89\n",
            "----------\n",
            "[0.01]\n",
            "train Loss: 0.0607 Acc: 0.7414\n",
            "test Loss: 0.0840 Acc: 0.6974\n",
            "\n",
            "Epoch 27/89\n",
            "----------\n",
            "[0.01]\n",
            "train Loss: 0.0557 Acc: 0.7656\n",
            "test Loss: 0.0821 Acc: 0.6978\n",
            "\n",
            "Epoch 28/89\n",
            "----------\n",
            "[0.01]\n",
            "train Loss: 0.0556 Acc: 0.7678\n",
            "test Loss: 0.0922 Acc: 0.6766\n",
            "\n",
            "Epoch 29/89\n",
            "----------\n",
            "[0.01]\n",
            "train Loss: 0.0554 Acc: 0.7629\n",
            "test Loss: 0.0830 Acc: 0.6973\n",
            "\n",
            "Epoch 30/89\n",
            "----------\n",
            "[0.0001]\n",
            "train Loss: 0.0447 Acc: 0.8230\n",
            "test Loss: 0.0675 Acc: 0.7506\n",
            "\n",
            "Epoch 31/89\n",
            "----------\n",
            "[0.001]\n",
            "train Loss: 0.0372 Acc: 0.8509\n",
            "test Loss: 0.0653 Acc: 0.7528\n",
            "\n",
            "Epoch 32/89\n",
            "----------\n",
            "[0.001]\n",
            "train Loss: 0.0360 Acc: 0.8555\n",
            "test Loss: 0.0635 Acc: 0.7623\n",
            "\n",
            "Epoch 33/89\n",
            "----------\n",
            "[0.001]\n",
            "train Loss: 0.0353 Acc: 0.8592\n",
            "test Loss: 0.0625 Acc: 0.7651\n",
            "\n",
            "Epoch 34/89\n",
            "----------\n",
            "[0.001]\n",
            "train Loss: 0.0325 Acc: 0.8725\n",
            "test Loss: 0.0629 Acc: 0.7675\n",
            "\n",
            "Epoch 35/89\n",
            "----------\n",
            "[0.001]\n",
            "train Loss: 0.0340 Acc: 0.8630\n",
            "test Loss: 0.0633 Acc: 0.7705\n",
            "\n",
            "Epoch 36/89\n",
            "----------\n",
            "[0.001]\n",
            "train Loss: 0.0335 Acc: 0.8672\n",
            "test Loss: 0.0634 Acc: 0.7632\n",
            "\n",
            "Epoch 37/89\n",
            "----------\n",
            "[0.001]\n",
            "train Loss: 0.0314 Acc: 0.8765\n",
            "test Loss: 0.0636 Acc: 0.7663\n",
            "\n",
            "Epoch 38/89\n",
            "----------\n",
            "[0.001]\n",
            "train Loss: 0.0332 Acc: 0.8680\n",
            "test Loss: 0.0640 Acc: 0.7696\n",
            "\n",
            "Epoch 39/89\n",
            "----------\n",
            "[0.001]\n",
            "train Loss: 0.0319 Acc: 0.8770\n",
            "test Loss: 0.0648 Acc: 0.7644\n",
            "\n",
            "Epoch 40/89\n",
            "----------\n",
            "[0.001]\n",
            "train Loss: 0.0309 Acc: 0.8789\n",
            "test Loss: 0.0646 Acc: 0.7689\n",
            "\n",
            "Epoch 41/89\n",
            "----------\n",
            "[0.001]\n",
            "train Loss: 0.0316 Acc: 0.8754\n",
            "test Loss: 0.0640 Acc: 0.7661\n",
            "\n",
            "Epoch 42/89\n",
            "----------\n",
            "[0.001]\n",
            "train Loss: 0.0294 Acc: 0.8834\n",
            "test Loss: 0.0629 Acc: 0.7701\n",
            "\n",
            "Epoch 43/89\n",
            "----------\n",
            "[0.001]\n",
            "train Loss: 0.0295 Acc: 0.8802\n",
            "test Loss: 0.0629 Acc: 0.7682\n",
            "\n",
            "Epoch 44/89\n",
            "----------\n",
            "[0.001]\n",
            "train Loss: 0.0306 Acc: 0.8767\n",
            "test Loss: 0.0632 Acc: 0.7663\n",
            "\n",
            "Epoch 45/89\n",
            "----------\n",
            "[0.001]\n",
            "train Loss: 0.0282 Acc: 0.8899\n",
            "test Loss: 0.0639 Acc: 0.7667\n",
            "\n",
            "Epoch 46/89\n",
            "----------\n",
            "[0.001]\n",
            "train Loss: 0.0305 Acc: 0.8812\n",
            "test Loss: 0.0633 Acc: 0.7689\n",
            "\n",
            "Epoch 47/89\n",
            "----------\n",
            "[0.001]\n",
            "train Loss: 0.0291 Acc: 0.8879\n",
            "test Loss: 0.0643 Acc: 0.7687\n",
            "\n",
            "Epoch 48/89\n",
            "----------\n",
            "[0.001]\n",
            "train Loss: 0.0287 Acc: 0.8891\n",
            "test Loss: 0.0641 Acc: 0.7680\n",
            "\n",
            "Epoch 49/89\n",
            "----------\n",
            "[0.001]\n",
            "train Loss: 0.0291 Acc: 0.8881\n",
            "test Loss: 0.0632 Acc: 0.7732\n",
            "\n",
            "Epoch 50/89\n",
            "----------\n",
            "[0.001]\n",
            "train Loss: 0.0268 Acc: 0.8964\n",
            "test Loss: 0.0631 Acc: 0.7720\n",
            "\n",
            "Epoch 51/89\n",
            "----------\n",
            "[0.001]\n",
            "train Loss: 0.0274 Acc: 0.8927\n",
            "test Loss: 0.0628 Acc: 0.7699\n",
            "\n",
            "Epoch 52/89\n",
            "----------\n",
            "[0.001]\n",
            "train Loss: 0.0287 Acc: 0.8874\n",
            "test Loss: 0.0628 Acc: 0.7730\n",
            "\n",
            "Epoch 53/89\n",
            "----------\n",
            "[0.001]\n",
            "train Loss: 0.0257 Acc: 0.9014\n",
            "test Loss: 0.0633 Acc: 0.7717\n",
            "\n",
            "Epoch 54/89\n",
            "----------\n",
            "[0.001]\n",
            "train Loss: 0.0269 Acc: 0.8919\n",
            "test Loss: 0.0641 Acc: 0.7682\n",
            "\n",
            "Epoch 55/89\n",
            "----------\n",
            "[0.001]\n",
            "train Loss: 0.0260 Acc: 0.8971\n",
            "test Loss: 0.0640 Acc: 0.7720\n",
            "\n",
            "Epoch 56/89\n",
            "----------\n",
            "[0.001]\n",
            "train Loss: 0.0259 Acc: 0.8994\n",
            "test Loss: 0.0628 Acc: 0.7691\n",
            "\n",
            "Epoch 57/89\n",
            "----------\n",
            "[0.001]\n",
            "train Loss: 0.0272 Acc: 0.8937\n",
            "test Loss: 0.0655 Acc: 0.7660\n",
            "\n",
            "Epoch 58/89\n",
            "----------\n",
            "[0.001]\n",
            "train Loss: 0.0266 Acc: 0.8986\n",
            "test Loss: 0.0635 Acc: 0.7722\n",
            "\n",
            "Epoch 59/89\n",
            "----------\n",
            "[0.001]\n",
            "train Loss: 0.0277 Acc: 0.8912\n",
            "test Loss: 0.0636 Acc: 0.7703\n",
            "\n",
            "Epoch 60/89\n",
            "----------\n",
            "[1e-05]\n",
            "train Loss: 0.0253 Acc: 0.9014\n",
            "test Loss: 0.0639 Acc: 0.7680\n",
            "\n",
            "Epoch 61/89\n",
            "----------\n",
            "[0.0001]\n",
            "train Loss: 0.0261 Acc: 0.8989\n",
            "test Loss: 0.0632 Acc: 0.7722\n",
            "\n",
            "Epoch 62/89\n",
            "----------\n",
            "[0.0001]\n",
            "train Loss: 0.0256 Acc: 0.8977\n",
            "test Loss: 0.0648 Acc: 0.7715\n",
            "\n",
            "Epoch 63/89\n",
            "----------\n",
            "[0.0001]\n",
            "train Loss: 0.0254 Acc: 0.9012\n",
            "test Loss: 0.0636 Acc: 0.7694\n",
            "\n",
            "Epoch 64/89\n",
            "----------\n",
            "[0.0001]\n",
            "train Loss: 0.0252 Acc: 0.9039\n",
            "test Loss: 0.0642 Acc: 0.7703\n",
            "\n",
            "Epoch 65/89\n",
            "----------\n",
            "[0.0001]\n",
            "train Loss: 0.0250 Acc: 0.9019\n",
            "test Loss: 0.0633 Acc: 0.7698\n",
            "\n",
            "Epoch 66/89\n",
            "----------\n",
            "[0.0001]\n",
            "train Loss: 0.0264 Acc: 0.8966\n",
            "test Loss: 0.0641 Acc: 0.7711\n",
            "\n",
            "Epoch 67/89\n",
            "----------\n",
            "[0.0001]\n",
            "train Loss: 0.0250 Acc: 0.9026\n",
            "test Loss: 0.0632 Acc: 0.7717\n",
            "\n",
            "Epoch 68/89\n",
            "----------\n",
            "[0.0001]\n",
            "train Loss: 0.0246 Acc: 0.9017\n",
            "test Loss: 0.0632 Acc: 0.7696\n",
            "\n",
            "Epoch 69/89\n",
            "----------\n",
            "[0.0001]\n",
            "train Loss: 0.0245 Acc: 0.9051\n",
            "test Loss: 0.0631 Acc: 0.7689\n",
            "\n",
            "Epoch 70/89\n",
            "----------\n",
            "[0.0001]\n",
            "train Loss: 0.0255 Acc: 0.9002\n",
            "test Loss: 0.0627 Acc: 0.7724\n",
            "\n",
            "Epoch 71/89\n",
            "----------\n",
            "[0.0001]\n",
            "train Loss: 0.0249 Acc: 0.9019\n",
            "test Loss: 0.0627 Acc: 0.7711\n",
            "\n",
            "Epoch 72/89\n",
            "----------\n",
            "[0.0001]\n",
            "train Loss: 0.0247 Acc: 0.9016\n",
            "test Loss: 0.0629 Acc: 0.7691\n",
            "\n",
            "Epoch 73/89\n",
            "----------\n",
            "[0.0001]\n",
            "train Loss: 0.0275 Acc: 0.8892\n",
            "test Loss: 0.0643 Acc: 0.7705\n",
            "\n",
            "Epoch 74/89\n",
            "----------\n",
            "[0.0001]\n",
            "train Loss: 0.0235 Acc: 0.9101\n",
            "test Loss: 0.0636 Acc: 0.7715\n",
            "\n",
            "Epoch 75/89\n",
            "----------\n",
            "[0.0001]\n",
            "train Loss: 0.0247 Acc: 0.9004\n",
            "test Loss: 0.0632 Acc: 0.7742\n",
            "\n",
            "Epoch 76/89\n",
            "----------\n",
            "[0.0001]\n",
            "train Loss: 0.0248 Acc: 0.9051\n",
            "test Loss: 0.0630 Acc: 0.7717\n",
            "\n",
            "Epoch 77/89\n",
            "----------\n",
            "[0.0001]\n",
            "train Loss: 0.0250 Acc: 0.9039\n",
            "test Loss: 0.0627 Acc: 0.7727\n",
            "\n",
            "Epoch 78/89\n",
            "----------\n",
            "[0.0001]\n",
            "train Loss: 0.0254 Acc: 0.8967\n",
            "test Loss: 0.0629 Acc: 0.7711\n",
            "\n",
            "Epoch 79/89\n",
            "----------\n",
            "[0.0001]\n",
            "train Loss: 0.0260 Acc: 0.8984\n",
            "test Loss: 0.0639 Acc: 0.7691\n",
            "\n",
            "Epoch 80/89\n",
            "----------\n",
            "[0.0001]\n",
            "train Loss: 0.0250 Acc: 0.8996\n",
            "test Loss: 0.0639 Acc: 0.7689\n",
            "\n",
            "Epoch 81/89\n",
            "----------\n",
            "[0.0001]\n",
            "train Loss: 0.0247 Acc: 0.9046\n",
            "test Loss: 0.0637 Acc: 0.7694\n",
            "\n",
            "Epoch 82/89\n",
            "----------\n",
            "[0.0001]\n",
            "train Loss: 0.0257 Acc: 0.9011\n",
            "test Loss: 0.0633 Acc: 0.7730\n",
            "\n",
            "Epoch 83/89\n",
            "----------\n",
            "[0.0001]\n",
            "train Loss: 0.0243 Acc: 0.8994\n",
            "test Loss: 0.0632 Acc: 0.7703\n",
            "\n",
            "Epoch 84/89\n",
            "----------\n",
            "[0.0001]\n",
            "train Loss: 0.0250 Acc: 0.9001\n",
            "test Loss: 0.0635 Acc: 0.7710\n",
            "\n",
            "Epoch 85/89\n",
            "----------\n",
            "[0.0001]\n",
            "train Loss: 0.0244 Acc: 0.9037\n",
            "test Loss: 0.0648 Acc: 0.7675\n",
            "\n",
            "Epoch 86/89\n",
            "----------\n",
            "[0.0001]\n",
            "train Loss: 0.0238 Acc: 0.9069\n",
            "test Loss: 0.0637 Acc: 0.7703\n",
            "\n",
            "Epoch 87/89\n",
            "----------\n",
            "[0.0001]\n",
            "train Loss: 0.0244 Acc: 0.9049\n",
            "test Loss: 0.0636 Acc: 0.7663\n",
            "\n",
            "Epoch 88/89\n",
            "----------\n",
            "[0.0001]\n",
            "train Loss: 0.0247 Acc: 0.9047\n",
            "test Loss: 0.0633 Acc: 0.7710\n",
            "\n",
            "Epoch 89/89\n",
            "----------\n",
            "[0.0001]\n",
            "train Loss: 0.0252 Acc: 0.9021\n",
            "test Loss: 0.0640 Acc: 0.7698\n",
            "\n",
            "Training complete in 284m 43s\n",
            "Best test Acc: 0.774249\n"
          ],
          "name": "stdout"
        }
      ]
    },
    {
      "cell_type": "code",
      "metadata": {
        "id": "OCuRHECYI8Lt",
        "colab_type": "code",
        "outputId": "8cb07e4d-9647-4667-8572-69f65d04e4f8",
        "colab": {
          "base_uri": "https://localhost:8080/",
          "height": 769
        }
      },
      "source": [
        "visualize_model(model_ft)"
      ],
      "execution_count": 41,
      "outputs": [
        {
          "output_type": "display_data",
          "data": {
            "image/png": "[encoded data removed]",
            "text/plain": [
              "<Figure size 432x288 with 1 Axes>"
            ]
          },
          "metadata": {
            "tags": []
          }
        },
        {
          "output_type": "display_data",
          "data": {
            "image/png": "[encoded data removed]",
            "text/plain": [
              "<Figure size 432x288 with 1 Axes>"
            ]
          },
          "metadata": {
            "tags": []
          }
        },
        {
          "output_type": "display_data",
          "data": {
            "image/png": "[encoded data removed]",
            "text/plain": [
              "<Figure size 432x288 with 1 Axes>"
            ]
          },
          "metadata": {
            "tags": []
          }
        },
        {
          "output_type": "display_data",
          "data": {
            "image/png": "[encoded data removed]",
            "text/plain": [
              "<Figure size 432x288 with 1 Axes>"
            ]
          },
          "metadata": {
            "tags": []
          }
        },
        {
          "output_type": "display_data",
          "data": {
            "image/png": "[encoded data removed]",
            "text/plain": [
              "<Figure size 432x288 with 1 Axes>"
            ]
          },
          "metadata": {
            "tags": []
          }
        },
        {
          "output_type": "display_data",
          "data": {
            "image/png": "[encoded data removed]",
            "text/plain": [
              "<Figure size 432x288 with 1 Axes>"
            ]
          },
          "metadata": {
            "tags": []
          }
        },
        {
          "output_type": "display_data",
          "data": {
            "image/png": "[encoded data removed]",
            "text/plain": [
              "<Figure size 432x288 with 1 Axes>"
            ]
          },
          "metadata": {
            "tags": []
          }
        },
        {
          "output_type": "display_data",
          "data": {
            "image/png": "[encoded data removed]",
            "text/plain": [
              "<Figure size 432x288 with 1 Axes>"
            ]
          },
          "metadata": {
            "tags": []
          }
        }
      ]
    },
    {
      "cell_type": "code",
      "metadata": {
        "id": "QTdGj4R6C1kS",
        "colab_type": "code",
        "colab": {}
      },
      "source": [
        "class AverageMeter(object):\n",
        "    \"\"\"Computes and stores the average and current value\"\"\"\n",
        "    def __init__(self):\n",
        "        self.reset()\n",
        "\n",
        "    def reset(self):\n",
        "        self.val = 0\n",
        "        self.avg = 0\n",
        "        self.sum = 0\n",
        "        self.count = 0\n",
        "\n",
        "    def update(self, val, n=1):\n",
        "        self.val = val\n",
        "        self.sum += val * n\n",
        "        self.count += n\n",
        "        self.avg = self.sum / self.count"
      ],
      "execution_count": 0,
      "outputs": []
    },
    {
      "cell_type": "code",
      "metadata": {
        "id": "OtjxLoYCC6rp",
        "colab_type": "code",
        "colab": {}
      },
      "source": [
        "def accuracy(output, target, topk=(1,)):\n",
        "    \"\"\"Computes the precision@k for the specified values of k\"\"\"\n",
        "    #with torch.no_grad():\n",
        "    maxk = max(topk)\n",
        "    batch_size = target.size(0)\n",
        "\n",
        "    _, pred = output.topk(maxk, 1, True, True)\n",
        "    pred = pred.t()\n",
        "    correct = pred.eq(target.view(1, -1).expand_as(pred))\n",
        "\n",
        "    res = []\n",
        "    for k in topk:\n",
        "        correct_k = correct[:k].view(-1).float().sum(0, keepdim=True)\n",
        "        res.append(correct_k.mul_(100.0 / batch_size))\n",
        "    return res"
      ],
      "execution_count": 0,
      "outputs": []
    },
    {
      "cell_type": "code",
      "metadata": {
        "id": "WVTfeL4QC8Pu",
        "colab_type": "code",
        "colab": {}
      },
      "source": [
        "def calc_accuracy(model, data):\n",
        "    model.eval()\n",
        "    if use_gpu:\n",
        "        model.cuda()    \n",
        "    \n",
        "    top1 = AverageMeter()\n",
        "    top5 = AverageMeter()\n",
        "    \n",
        "    for idx, (inputs, labels) in enumerate(dataloders[data]):\n",
        "        if use_gpu:\n",
        "            inputs, labels = inputs.cuda(), labels.cuda()\n",
        "        # obtain the outputs from the model\n",
        "        outputs = model.forward(Variable(inputs))\n",
        "        prec1, prec5 = accuracy(outputs, Variable(labels), topk=(1, 5))\n",
        "        top1.update(prec1[0], inputs.size(0))\n",
        "        top5.update(prec5[0], inputs.size(0))\n",
        "        \n",
        "    return top1 ,top5\n",
        "    \n",
        "top1 ,top5 = calc_accuracy(model_ft, 'test')"
      ],
      "execution_count": 0,
      "outputs": []
    },
    {
      "cell_type": "code",
      "metadata": {
        "id": "0qdgn4mzC_A6",
        "colab_type": "code",
        "outputId": "1280d93b-4ba5-45e9-b57a-ffe7f8eb8aad",
        "colab": {
          "base_uri": "https://localhost:8080/",
          "height": 35
        }
      },
      "source": [
        "top1.avg"
      ],
      "execution_count": 45,
      "outputs": [
        {
          "output_type": "execute_result",
          "data": {
            "text/plain": [
              "tensor(76.9762, device='cuda:0')"
            ]
          },
          "metadata": {
            "tags": []
          },
          "execution_count": 45
        }
      ]
    },
    {
      "cell_type": "code",
      "metadata": {
        "id": "bxzJ4OT4DEAY",
        "colab_type": "code",
        "outputId": "2fb6d480-66b4-452c-df67-539c4791f8c3",
        "colab": {
          "base_uri": "https://localhost:8080/",
          "height": 35
        }
      },
      "source": [
        "top5.avg"
      ],
      "execution_count": 46,
      "outputs": [
        {
          "output_type": "execute_result",
          "data": {
            "text/plain": [
              "tensor(93.8385, device='cuda:0')"
            ]
          },
          "metadata": {
            "tags": []
          },
          "execution_count": 46
        }
      ]
    }
  ]
}